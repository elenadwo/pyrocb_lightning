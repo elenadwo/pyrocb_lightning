{
 "cells": [
  {
   "cell_type": "code",
   "execution_count": 1,
   "id": "a7bda913",
   "metadata": {},
   "outputs": [],
   "source": [
    "import os"
   ]
  },
  {
   "cell_type": "code",
   "execution_count": 2,
   "id": "15f9d9ff",
   "metadata": {},
   "outputs": [
    {
     "name": "stdout",
     "output_type": "stream",
     "text": [
      "0\n",
      "0\n",
      "0\n",
      "0\n",
      "0\n",
      "0\n"
     ]
    },
    {
     "name": "stderr",
     "output_type": "stream",
     "text": [
      "Traceback (most recent call last):\n",
      "  File \"clean2_parallax.py\", line 78, in <module>\n",
      "    br_temp_clean2_time['maximum_cloud_top_height'] = br_temp_clean2_time.apply(\n",
      "  File \"/home/elenadworak/anaconda3/envs/mynewenv/lib/python3.8/site-packages/pandas/core/frame.py\", line 8839, in apply\n",
      "    return op.apply().__finalize__(self, method=\"apply\")\n",
      "  File \"/home/elenadworak/anaconda3/envs/mynewenv/lib/python3.8/site-packages/pandas/core/apply.py\", line 727, in apply\n",
      "    return self.apply_standard()\n",
      "  File \"/home/elenadworak/anaconda3/envs/mynewenv/lib/python3.8/site-packages/pandas/core/apply.py\", line 851, in apply_standard\n",
      "    results, res_index = self.apply_series_generator()\n",
      "  File \"/home/elenadworak/anaconda3/envs/mynewenv/lib/python3.8/site-packages/pandas/core/apply.py\", line 867, in apply_series_generator\n",
      "    results[i] = self.f(v)\n",
      "  File \"clean2_parallax.py\", line 79, in <lambda>\n",
      "    lambda row: find_nearest_max(row['lat'], row['lon']), axis=1)\n",
      "  File \"clean2_parallax.py\", line 67, in find_nearest_max\n",
      "    distances = cth_clean2_time.apply(lambda row: dist(lat, long, row['lat'], row['lon']), axis=1)\n",
      "  File \"/home/elenadworak/anaconda3/envs/mynewenv/lib/python3.8/site-packages/pandas/core/frame.py\", line 8839, in apply\n",
      "    return op.apply().__finalize__(self, method=\"apply\")\n",
      "  File \"/home/elenadworak/anaconda3/envs/mynewenv/lib/python3.8/site-packages/pandas/core/apply.py\", line 727, in apply\n",
      "    return self.apply_standard()\n",
      "  File \"/home/elenadworak/anaconda3/envs/mynewenv/lib/python3.8/site-packages/pandas/core/apply.py\", line 851, in apply_standard\n",
      "    results, res_index = self.apply_series_generator()\n",
      "  File \"/home/elenadworak/anaconda3/envs/mynewenv/lib/python3.8/site-packages/pandas/core/apply.py\", line 867, in apply_series_generator\n",
      "    results[i] = self.f(v)\n",
      "  File \"clean2_parallax.py\", line 67, in <lambda>\n",
      "    distances = cth_clean2_time.apply(lambda row: dist(lat, long, row['lat'], row['lon']), axis=1)\n",
      "  File \"/home/elenadworak/anaconda3/envs/mynewenv/lib/python3.8/site-packages/pandas/core/series.py\", line 945, in __getitem__\n",
      "    key = com.apply_if_callable(key, self)\n",
      "KeyboardInterrupt\n"
     ]
    },
    {
     "data": {
      "text/plain": [
       "2"
      ]
     },
     "execution_count": 2,
     "metadata": {},
     "output_type": "execute_result"
    }
   ],
   "source": [
    "os.system(\"nohup python clean2_parallax.py\")"
   ]
  },
  {
   "cell_type": "code",
   "execution_count": null,
   "id": "a0093258",
   "metadata": {},
   "outputs": [],
   "source": []
  }
 ],
 "metadata": {
  "kernelspec": {
   "display_name": "Python 3 (ipykernel)",
   "language": "python",
   "name": "python3"
  },
  "language_info": {
   "codemirror_mode": {
    "name": "ipython",
    "version": 3
   },
   "file_extension": ".py",
   "mimetype": "text/x-python",
   "name": "python",
   "nbconvert_exporter": "python",
   "pygments_lexer": "ipython3",
   "version": "3.8.13"
  }
 },
 "nbformat": 4,
 "nbformat_minor": 5
}
