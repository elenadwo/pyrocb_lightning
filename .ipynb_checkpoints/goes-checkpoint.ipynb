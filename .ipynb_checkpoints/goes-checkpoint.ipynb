{
 "cells": [
  {
   "cell_type": "markdown",
   "id": "bb2ff116-1252-4146-ab18-17702afd7dee",
   "metadata": {},
   "source": [
    "# GOES Package\n",
    " - [Read NetCDF Data with Python](\"https://towardsdatascience.com/read-netcdf-data-with-python-901f7ff61648#:~:text=To%20install%20with%20anaconda%20(conda,Then%20import%20netCDF4%20as%20nc%20.\")\n",
    " - [using python to explore goes 16](\"http://edc.occ-data.org/goes16/python/\")\n",
    " "
   ]
  },
  {
   "cell_type": "markdown",
   "id": "0d7a7c58-8086-4eed-8c9e-85b0676f1336",
   "metadata": {},
   "source": [
    "goes_tut data set, emailed from laura. Level 2 Multichannel formated data (ABI-L2-MCMIP) for the CONUS domain. "
   ]
  },
  {
   "cell_type": "code",
   "execution_count": 1,
   "id": "b0aa313d",
   "metadata": {},
   "outputs": [
    {
     "ename": "ModuleNotFoundError",
     "evalue": "No module named 'xarray'",
     "output_type": "error",
     "traceback": [
      "\u001b[0;31m---------------------------------------------------------------------------\u001b[0m",
      "\u001b[0;31mModuleNotFoundError\u001b[0m                       Traceback (most recent call last)",
      "\u001b[0;32m<ipython-input-1-06e84716de08>\u001b[0m in \u001b[0;36m<module>\u001b[0;34m\u001b[0m\n\u001b[1;32m      2\u001b[0m \u001b[0;32mimport\u001b[0m \u001b[0msys\u001b[0m\u001b[0;34m\u001b[0m\u001b[0;34m\u001b[0m\u001b[0m\n\u001b[1;32m      3\u001b[0m \u001b[0;32mimport\u001b[0m \u001b[0mmath\u001b[0m\u001b[0;34m\u001b[0m\u001b[0;34m\u001b[0m\u001b[0m\n\u001b[0;32m----> 4\u001b[0;31m \u001b[0;32mimport\u001b[0m \u001b[0mxarray\u001b[0m\u001b[0;34m\u001b[0m\u001b[0;34m\u001b[0m\u001b[0m\n\u001b[0m\u001b[1;32m      5\u001b[0m \u001b[0;34m\u001b[0m\u001b[0m\n\u001b[1;32m      6\u001b[0m \u001b[0;34m\u001b[0m\u001b[0m\n",
      "\u001b[0;31mModuleNotFoundError\u001b[0m: No module named 'xarray'"
     ]
    }
   ],
   "source": [
    "import os\n",
    "import sys\n",
    "import math\n",
    "import xarray\n",
    "\n",
    "\n",
    "#os.system(\"conda install numpy\")\n"
   ]
  },
  {
   "cell_type": "code",
   "execution_count": null,
   "id": "a362bd21-4611-4737-a618-c19d49bd42bc",
   "metadata": {},
   "outputs": [],
   "source": [
    "import numpy as np\n",
    "\n",
    "# from datetime import datetime\n",
    "\n",
    "# import cartopy.crs as ccrs\n",
    "# import matplotlib.pyplot as plt\n",
    "# import metpy  # noqa: F401\n",
    "# import xarray\n",
    "# import math\n",
    "# #import proj geos\n",
    "# import os \n",
    "# import sys \n"
   ]
  },
  {
   "cell_type": "code",
   "execution_count": null,
   "id": "c69322f2",
   "metadata": {},
   "outputs": [],
   "source": []
  },
  {
   "cell_type": "code",
   "execution_count": null,
   "id": "cf84cd29",
   "metadata": {},
   "outputs": [],
   "source": [
    "import os\n",
    "#os.system(\"/usr/bin/python3 -m pip install --upgrade pip\")\n",
    "#os.system()"
   ]
  },
  {
   "cell_type": "code",
   "execution_count": null,
   "id": "a2bfaf6a-6ed1-4e05-967c-16171c181b70",
   "metadata": {},
   "outputs": [],
   "source": [
    "#python --version\n",
    "\n",
    "#os.system(\"conda update python\")\n",
    "#os.system(\"conda update -n base -c defaults conda\")\n",
    "\n",
    "#os.system(\"conda install python=3.8\")\n",
    "print(sys.version)\n",
    "\n",
    "#os.system(\"curl -O https://dl.google.com/dl/cloudsdk/channels/rapid/downloads/google-cloud-sdk-379.0.0-linux-x86_64.tar.gz\")\n",
    "\n",
    "os.system(\"pip install numpy\")\n",
    "\n"
   ]
  },
  {
   "cell_type": "markdown",
   "id": "6516d614-2cf5-4f29-a616-4bd78960eace",
   "metadata": {},
   "source": [
    "### trying to get ride of warnings for tobytes()"
   ]
  },
  {
   "cell_type": "code",
   "execution_count": null,
   "id": "687079cb-38d8-4dba-8ac0-ed493e7be791",
   "metadata": {},
   "outputs": [],
   "source": [
    "import warnings\n",
    "\n",
    "def fxn():\n",
    "    warnings.warn(\"deprecated\", DeprecationWarning)\n",
    "\n",
    "with warnings.catch_warnings():\n",
    "    warnings.simplefilter(\"ignore\")\n",
    "    fxn()"
   ]
  },
  {
   "cell_type": "code",
   "execution_count": null,
   "id": "dca84389-dc77-4b85-a201-55d0b8b002c7",
   "metadata": {},
   "outputs": [],
   "source": [
    "warnings.filterwarnings(\"ignore\", message=\"DeprecationWarning: tostring() is deprecated. Use tobytes() instead.\")"
   ]
  },
  {
   "cell_type": "code",
   "execution_count": null,
   "id": "31ec8d9e-ce2b-4015-82e5-315ae76fc837",
   "metadata": {},
   "outputs": [],
   "source": [
    "# pip install metpy"
   ]
  },
  {
   "cell_type": "code",
   "execution_count": null,
   "id": "295d448c-9482-4522-a3b5-3020c89b7811",
   "metadata": {},
   "outputs": [],
   "source": [
    "#pip install netCDF4\n",
    "#netCDF version 1.5.3 \n",
    "#python version 3.8"
   ]
  },
  {
   "cell_type": "code",
   "execution_count": null,
   "id": "fe2390e8-e6c0-4d1d-b77e-eb919aca2cf9",
   "metadata": {},
   "outputs": [],
   "source": [
    "#conda install netCDF4"
   ]
  },
  {
   "cell_type": "code",
   "execution_count": null,
   "id": "cfa975d4-4cff-41fc-a789-6421f92253e6",
   "metadata": {
    "tags": []
   },
   "outputs": [],
   "source": [
    "# conda list"
   ]
  },
  {
   "cell_type": "code",
   "execution_count": null,
   "id": "6520dd00-ddb7-4abb-a5c9-8860b2bfd90c",
   "metadata": {
    "tags": []
   },
   "outputs": [],
   "source": [
    "import netCDF4 as nc\n",
    "ds = 'goes_tutorial.nc'\n",
    "goes_tut_nc = nc.Dataset(ds)\n",
    "\n",
    "goes_tut_nc\n",
    "goes_tut_nc.variables\n",
    "goes_tut_nc[\"CMI_C01\"][:]\n",
    "# method uses tostring() method \n",
    "\n",
    "cmi = goes_tut_nc[\"CMI_C01\"]\n",
    "cmi_values = cmi[:]\n",
    "cmi_values\n",
    "\n",
    "#print(goes_tut)\n",
    "\n",
    "cmi = goes_tut_nc['CMI_C01'][:]\n",
    "\n",
    "#int 1 --> int16 CMI_C16(y,x) the 16 channels\n",
    "# goal to create real color image"
   ]
  },
  {
   "cell_type": "markdown",
   "id": "542816ae-0c5d-4ebe-80bc-baf4c88ea457",
   "metadata": {},
   "source": [
    "### Use X-array, much prettier"
   ]
  },
  {
   "cell_type": "code",
   "execution_count": null,
   "id": "f2d0e4e5-b04e-4aac-9379-43013c4b4d8f",
   "metadata": {},
   "outputs": [],
   "source": [
    "# try using x_array \n",
    "# The opened file is assigned to goes_tut\n",
    "\n",
    "FILE = ('goes_tutorial.nc')\n",
    "goes_tut = xarray.open_dataset(FILE)\n",
    "goes_tut"
   ]
  },
  {
   "cell_type": "markdown",
   "id": "f0347cff-fd12-40ad-ae3d-3e570a42199f",
   "metadata": {},
   "source": [
    "## NOAA Geostationary Operational Environmental Satellites (GOES) 16 & 17\n",
    "\n",
    "GOES satellites (GOES-16 & GOES-17) provide continuous weather imagery and \n",
    "monitoring of meteorological and space environment data across North America."
   ]
  },
  {
   "cell_type": "code",
   "execution_count": null,
   "id": "51402f35-9048-4048-a70c-1d2970a2460c",
   "metadata": {
    "tags": []
   },
   "outputs": [],
   "source": [
    "# ds1 = 'OR_GLM-L2-LCFA_G17_s20211820000000_e20211820000200_c20211820000219.nc'\n",
    "# goes_tester_july1h0  = nc.Dataset(ds1)\n",
    "# goes_tester_july1h0 "
   ]
  },
  {
   "cell_type": "markdown",
   "id": "8d3607e2-3674-47ba-a602-301f084f7db1",
   "metadata": {},
   "source": [
    "### Trying date time"
   ]
  },
  {
   "cell_type": "markdown",
   "id": "ea8782be-0e60-4eba-905e-aaf72229d196",
   "metadata": {},
   "source": [
    "time_coverage_start: 2021-06-28T00:01:17.1Z <br>\n",
    "time_coverage_end: 2021-06-28T00:03:54.4Z <br>\n",
    "timeline_id: ABI Mode 6 <br>\n",
    "production_data_source: Realtime\n"
   ]
  },
  {
   "cell_type": "code",
   "execution_count": null,
   "id": "1acc3d49-7763-4553-98e4-275aef04139d",
   "metadata": {},
   "outputs": [],
   "source": [
    "# Scan's start time, converted to datetime object\n",
    "scan_start = datetime.strptime(goes_tut.time_coverage_start, '%Y-%m-%dT%H:%M:%S.%fZ')\n",
    "\n",
    "# Scan's end time, converted to datetime object\n",
    "scan_end = datetime.strptime(goes_tut.time_coverage_end, '%Y-%m-%dT%H:%M:%S.%fZ')\n",
    "\n",
    "# File creation time, convert to datetime object\n",
    "file_created = datetime.strptime(goes_tut.date_created, '%Y-%m-%dT%H:%M:%S.%fZ')\n",
    "\n",
    "print('Scan Start    : {}'.format(scan_start))\n",
    "print('Scan End      : {}'.format(scan_end))\n",
    "print('File Created  : {}'.format(file_created))\n",
    "print('Scan Duration : {:.2f} minutes'.format((scan_end-scan_start).seconds/60))"
   ]
  },
  {
   "cell_type": "markdown",
   "id": "8102ea44-e06a-4eda-8e7a-767cb1c43fcf",
   "metadata": {},
   "source": [
    "## True Color RGB Recipe\n",
    "Color images are a Red-Green-Blue (RGB) composite of three different channels. To make a “Natural True Color” image we assign the following channels as our R, G, and B values:"
   ]
  },
  {
   "cell_type": "code",
   "execution_count": null,
   "id": "1f04e529-cb5c-4d66-840b-1a2377d8d748",
   "metadata": {},
   "outputs": [],
   "source": [
    "# Load the three channels into appropriate R, G, and B variables\n",
    "\n",
    "R = goes_tut['CMI_C02'][:]\n",
    "G = goes_tut['CMI_C03'][:]\n",
    "B = goes_tut['CMI_C01'][:]\n",
    "print(R)"
   ]
  },
  {
   "cell_type": "code",
   "execution_count": null,
   "id": "d63daf72-06fa-44b3-83e0-520ab17141a7",
   "metadata": {},
   "outputs": [],
   "source": [
    "# Apply range limits for each channel. RGB values must be between 0 and 1\n",
    "\n",
    "R = np.clip(R, 0, 1)\n",
    "G = np.clip(G, 0, 1)\n",
    "B = np.clip(B, 0, 1)\n",
    "print(R)"
   ]
  },
  {
   "cell_type": "code",
   "execution_count": null,
   "id": "a52f3655-a013-4c18-8898-58f00024b6e2",
   "metadata": {},
   "outputs": [],
   "source": [
    "# Apply a gamma correction to the image to correct ABI detector brightness\n",
    "# takes everying in each array and raises it to 1/gamma \n",
    "# control image so it isn't too dark \n",
    "\n",
    "gamma = 2.2\n",
    "R = np.power(R, 1/gamma)\n",
    "G = np.power(G, 1/gamma)\n",
    "B = np.power(B, 1/gamma)\n",
    "print(R)"
   ]
  },
  {
   "cell_type": "code",
   "execution_count": null,
   "id": "13538103-d66b-436c-bf71-2cb06127f2b3",
   "metadata": {},
   "outputs": [],
   "source": [
    "# Calculate the \"True\" Green\n",
    "# green \"veggie\" measures near-infared band sensitive to chlorophyll \n",
    "# will tone down green to get a true green \n",
    "\n",
    "G_true = 0.45 * R + 0.1 * G + 0.45 * B\n",
    "G_true = np.clip(G_true, 0, 1)  # apply limits again, just in case."
   ]
  },
  {
   "cell_type": "code",
   "execution_count": null,
   "id": "cb0d83c4-65f4-439f-b80c-2fdd68a1e7c3",
   "metadata": {},
   "outputs": [],
   "source": [
    "# First, plot each channel individually. The deeper the color means the satellite is observing more light in that channel. \n",
    "# Clouds appear white because they reflect lots of red, green, and blue light. \n",
    "# Notice that the land reflects a lot of “green” in the veggie channel because this channel is sensitive to the chlorophyll.\n",
    "\n",
    "fig, ([ax1, ax2, ax3, ax4]) = plt.subplots(1, 4, figsize=(16, 3))\n",
    "\n",
    "ax1.imshow(R, cmap='Reds', vmax=1, vmin=0)\n",
    "ax1.set_title('Red', fontweight='bold')\n",
    "ax1.axis('off')\n",
    "\n",
    "ax2.imshow(G, cmap='Greens', vmax=1, vmin=0)\n",
    "ax2.set_title('Veggie', fontweight='bold')\n",
    "ax2.axis('off')\n",
    "\n",
    "ax3.imshow(G_true, cmap='Greens', vmax=1, vmin=0)\n",
    "ax3.set_title('\"True\" Green', fontweight='bold')\n",
    "ax3.axis('off')\n",
    "\n",
    "ax4.imshow(B, cmap='Blues', vmax=1, vmin=0)\n",
    "ax4.set_title('Blue', fontweight='bold')\n",
    "ax4.axis('off')\n",
    "\n",
    "plt.subplots_adjust(wspace=.02)\n",
    "plt.savefig(\"goes_color_subplots\", dpi = 200)"
   ]
  },
  {
   "cell_type": "markdown",
   "id": "b217407a-0e1e-458d-8c8c-db37baf95bea",
   "metadata": {},
   "source": [
    "The addition of the three channels results in a color image. Combine the three channels with a stacked array and display the image with imshow."
   ]
  },
  {
   "cell_type": "code",
   "execution_count": null,
   "id": "cc3127c5-be32-4502-8ec1-fb6c07c4dc0e",
   "metadata": {},
   "outputs": [],
   "source": [
    "\n",
    "# The RGB array with the raw veggie band\n",
    "RGB_veggie = np.dstack([R, G, B])\n",
    "\n",
    "# The RGB array for the true color image\n",
    "RGB = np.dstack([R, G_true, B])\n",
    "\n",
    "fig, (ax1, ax2) = plt.subplots(1, 2, figsize=(16, 6))\n",
    "\n",
    "# The RGB using the raw veggie band\n",
    "ax1.imshow(RGB_veggie)\n",
    "ax1.set_title('GOES-16 RGB Raw Veggie', fontweight='bold', loc='left',\n",
    "              fontsize=12)\n",
    "ax1.set_title('{}'.format(scan_start.strftime('%d %B %Y %H:%M UTC ')),\n",
    "              loc='right')\n",
    "ax1.axis('off')\n",
    "\n",
    "# The RGB for the true color image\n",
    "ax2.imshow(RGB)\n",
    "ax2.set_title('GOES-16 RGB True Color', fontweight='bold', loc='left',\n",
    "              fontsize=12)\n",
    "ax2.set_title('{}'.format(scan_start.strftime('%d %B %Y %H:%M UTC ')),\n",
    "              loc='right')\n",
    "ax2.axis('off')\n",
    "plt.savefig(\"Rawveggie_truecolor\", dpi = 200)"
   ]
  },
  {
   "cell_type": "markdown",
   "id": "eef80daf-d3d6-4250-8d3b-95df58f16d0e",
   "metadata": {},
   "source": [
    "### Plot with Cartopy Geostationary Projection\n",
    "The image above is not georeferenced. You can see the land and oceans, but we do have enough information to draw state and country boundaries. Use the metpy.io package to obtain the projection information from the file. Then use Cartopy to plot the image on a map. The GOES data and image is on a [geostationary projection ]"
   ]
  },
  {
   "cell_type": "code",
   "execution_count": null,
   "id": "8bfd793e-7f23-40a8-8ca0-8a10f5b1f744",
   "metadata": {},
   "outputs": [],
   "source": [
    "# We'll use the `CMI_C02` variable as a 'hook' to get the CF metadata.\n",
    "dat = goes_tut.metpy.parse_cf('CMI_C01')\n",
    "\n",
    "geos = dat.metpy.cartopy_crs\n",
    "\n",
    "# We also need the x (north/south) and y (east/west) axis sweep of the ABI data\n",
    "x = dat.x\n",
    "y = dat.y"
   ]
  },
  {
   "cell_type": "code",
   "execution_count": null,
   "id": "5cebe415",
   "metadata": {},
   "outputs": [],
   "source": [
    "#IN: an nc dataset from GOES\n",
    "#OUT LAT/LON in the right projection\n",
    "def project_abi(data_cod): #grid edges\n",
    "    # grab the constants needed to do the projection from GOES grid to lat/lon\n",
    "    Req = data_cod.variables['goes_imager_projection'].semi_major_axis\n",
    "    Rpol = data_cod.variables['goes_imager_projection'].semi_minor_axis\n",
    "    lambda_0 = data_cod.variables['goes_imager_projection'].longitude_of_projection_origin\n",
    "    lambda_0 = lambda_0*math.pi/180\n",
    "    Hsat = data_cod.variables['goes_imager_projection'].perspective_point_height\n",
    "    H = Hsat+Req\n",
    "    # projection from GOES grid to lat/lon, following https://makersportal.com/blog/2018/11/25/goes-r-satellite-latitude-and-longitude-grid-projection-algorithm\n",
    "    lat_rad_1d = data_cod['x'][:]\n",
    "    lon_rad_1d = data_cod['y'][:]\n",
    "    [X, Y] = np.meshgrid(lat_rad_1d, lon_rad_1d) # lon is x, lat is y, uses 'xy' indexing by default\n",
    "\n",
    "    # sin and cos of x and y\n",
    "    sinx = np.sin(X)\n",
    "    sinx2 = sinx**2\n",
    "    siny = np.sin(Y)\n",
    "    siny2 = siny**2\n",
    "    cosx = np.cos(X)\n",
    "    cosx2 = cosx**2\n",
    "    cosy = np.cos(Y)\n",
    "    cosy2 = cosy**2\n",
    "\n",
    "    a = np.power(np.sin(X),2.0) + (np.power(np.cos(X),2.0)*(np.power(np.cos(Y),2.0)+(((Req*Req)/(Rpol*Rpol))*np.power(np.sin(Y),2.0))))\n",
    "    b = -2.0*H*np.cos(X)*np.cos(Y)\n",
    "    c = (H**2.0)-(Req**2.0)\n",
    "\n",
    "    # calculate rs\n",
    "    #if a.all(b**2)-(4*a*c) > 0: \n",
    "    rs = (-b - np.sqrt((b**2)-(4*a*c)))/2*a\n",
    "\n",
    "    # calculate sx, sy, sz\n",
    "    sx = rs*cosx*cosy\n",
    "    sy = -rs*sinx\n",
    "    sz = rs*cosx*siny\n",
    "       \n",
    "    # calculate lat and lon\n",
    "    #if a.all(((H-sx)**2)+(sy**2)) >0:\n",
    "    test = (Req**2/Rpol**2)*(sz/np.sqrt(((H-sx)**2)+(sy**2)))\n",
    "    lat = np.arctan(test)\n",
    "    lon = lambda_0 - np.arctan(sy/(H-sx)) # in radians\n",
    "\n",
    "    lat_deg = lat*180/math.pi\n",
    "    lon_deg = lon*180/math.pi\n",
    "\n",
    "    return lat_deg, lon_deg"
   ]
  },
  {
   "cell_type": "code",
   "execution_count": null,
   "id": "15fe2bdb",
   "metadata": {},
   "outputs": [],
   "source": [
    "lat_cod, lon_cod = project_abi(goes_tut_nc)"
   ]
  },
  {
   "cell_type": "code",
   "execution_count": null,
   "id": "cd7d0c15-3b52-4257-8d9f-49f2df3cf113",
   "metadata": {},
   "outputs": [],
   "source": [
    "fig = plt.figure(figsize=(15, 12))\n",
    "\n",
    "# Create axis with Geostationary projection\n",
    "ax = fig.add_subplot(1, 1, 1, projection=geos)\n",
    "\n",
    "# Add the RGB image to the figure. The data is in the same projection as the\n",
    "# axis we just created.\n",
    "ax.imshow(RGB, origin='upper',\n",
    "          extent=(x.min(), x.max(), y.min(), y.max()), transform=geos)\n",
    "\n",
    "# Add Coastlines and States\n",
    "ax.coastlines(resolution='50m', color='black', linewidth=0.25)\n",
    "ax.add_feature(ccrs.cartopy.feature.STATES, linewidth=0.25)\n",
    "\n",
    "plt.title('GOES-16 True Color', loc='left', fontweight='bold', fontsize=15)\n",
    "plt.title('{}'.format(scan_start.strftime('%d %B %Y %H:%M UTC ')), loc='right')\n",
    "\n",
    "plt.show()"
   ]
  },
  {
   "cell_type": "markdown",
   "id": "6719ca4c-8695-4a8d-9378-1a8ca3b2303a",
   "metadata": {},
   "source": [
    "### Plot with Cartopy: Plate Carrée Cylindrical Projection"
   ]
  },
  {
   "cell_type": "code",
   "execution_count": null,
   "id": "9cd344dd-7dbd-4a93-9bd1-b60a86a3da6d",
   "metadata": {},
   "outputs": [],
   "source": [
    "fig = plt.figure(figsize=(8, 8))\n",
    "\n",
    "pc = ccrs.PlateCarree()\n",
    "\n",
    "ax = fig.add_subplot(1, 1, 1, projection=pc)\n",
    "ax.set_extent([-114.75, -108.25, 36, 43], crs=pc)\n",
    "\n",
    "ax.imshow(RGB, origin='upper',\n",
    "          extent=(x.min(), x.max(), y.min(), y.max()),\n",
    "          transform=geos,\n",
    "          interpolation='none')\n",
    "\n",
    "ax.coastlines(resolution='50m', color='black', linewidth=1)\n",
    "ax.add_feature(ccrs.cartopy.feature.STATES)\n",
    "\n",
    "plt.title('GOES-16 True Color', loc='left', fontweight='bold', fontsize=15)\n",
    "plt.title('{}'.format(scan_start.strftime('%d %B %Y %H:%M UTC ')), loc='right')\n",
    "\n",
    "plt.show()"
   ]
  },
  {
   "cell_type": "markdown",
   "id": "91d620f6-1b84-4886-94b5-f7289d0d19ad",
   "metadata": {},
   "source": [
    "### Overlay Nighttime IR when dark\n",
    "To view clouds in portions of the domain experiencing nighttime, we will overlay the clean infrared (IR) channel over the true color image.\n",
    "\n",
    "First, open a file where the scan shows partial night area and create the true color RGB as before."
   ]
  },
  {
   "cell_type": "code",
   "execution_count": null,
   "id": "ed2f1e8c-84ef-4b7d-9d8c-17a8fa40c555",
   "metadata": {},
   "outputs": [],
   "source": []
  }
 ],
 "metadata": {
  "kernelspec": {
   "display_name": "Python 3",
   "language": "python",
   "name": "python3"
  },
  "language_info": {
   "codemirror_mode": {
    "name": "ipython",
    "version": 3
   },
   "file_extension": ".py",
   "mimetype": "text/x-python",
   "name": "python",
   "nbconvert_exporter": "python",
   "pygments_lexer": "ipython3",
   "version": "3.6.8"
  }
 },
 "nbformat": 4,
 "nbformat_minor": 5
}
