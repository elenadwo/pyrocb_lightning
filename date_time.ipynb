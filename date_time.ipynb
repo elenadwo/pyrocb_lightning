{
 "cells": [
  {
   "cell_type": "markdown",
   "id": "6fa72675-ff72-44ce-8207-74366c447e3c",
   "metadata": {},
   "source": [
    "# Learning Datetime \n",
    "Feb 1 2022 "
   ]
  },
  {
   "cell_type": "code",
   "execution_count": 4,
   "id": "084aafe4-7b79-43ab-9597-70f95c495650",
   "metadata": {},
   "outputs": [],
   "source": [
    "import datetime\n",
    "import numpy as np\n",
    "import xarray\n",
    "\n",
    "from datetime import datetime\n",
    "from datetime import date \n",
    "from datetime import time\n",
    "from datetime import timedelta\n",
    "\n",
    "import pytz\n",
    "from pytz import timezone\n",
    "from dateutil import tz\n"
   ]
  },
  {
   "cell_type": "code",
   "execution_count": 5,
   "id": "55a64b58-0cb0-4316-a852-0e0e9e6cb0f5",
   "metadata": {},
   "outputs": [
    {
     "ename": "FileNotFoundError",
     "evalue": "[Errno 2] No such file or directory: b'/home/elenadworak/PyroCb/goes_data_laura.nc'",
     "output_type": "error",
     "traceback": [
      "\u001b[0;31m---------------------------------------------------------------------------\u001b[0m",
      "\u001b[0;31mKeyError\u001b[0m                                  Traceback (most recent call last)",
      "File \u001b[0;32m~/anaconda3/envs/mynewenv/lib/python3.8/site-packages/xarray/backends/file_manager.py:199\u001b[0m, in \u001b[0;36mCachingFileManager._acquire_with_cache_info\u001b[0;34m(self, needs_lock)\u001b[0m\n\u001b[1;32m    198\u001b[0m \u001b[38;5;28;01mtry\u001b[39;00m:\n\u001b[0;32m--> 199\u001b[0m     file \u001b[38;5;241m=\u001b[39m \u001b[38;5;28;43mself\u001b[39;49m\u001b[38;5;241;43m.\u001b[39;49m\u001b[43m_cache\u001b[49m\u001b[43m[\u001b[49m\u001b[38;5;28;43mself\u001b[39;49m\u001b[38;5;241;43m.\u001b[39;49m\u001b[43m_key\u001b[49m\u001b[43m]\u001b[49m\n\u001b[1;32m    200\u001b[0m \u001b[38;5;28;01mexcept\u001b[39;00m \u001b[38;5;167;01mKeyError\u001b[39;00m:\n",
      "File \u001b[0;32m~/anaconda3/envs/mynewenv/lib/python3.8/site-packages/xarray/backends/lru_cache.py:53\u001b[0m, in \u001b[0;36mLRUCache.__getitem__\u001b[0;34m(self, key)\u001b[0m\n\u001b[1;32m     52\u001b[0m \u001b[38;5;28;01mwith\u001b[39;00m \u001b[38;5;28mself\u001b[39m\u001b[38;5;241m.\u001b[39m_lock:\n\u001b[0;32m---> 53\u001b[0m     value \u001b[38;5;241m=\u001b[39m \u001b[38;5;28;43mself\u001b[39;49m\u001b[38;5;241;43m.\u001b[39;49m\u001b[43m_cache\u001b[49m\u001b[43m[\u001b[49m\u001b[43mkey\u001b[49m\u001b[43m]\u001b[49m\n\u001b[1;32m     54\u001b[0m     \u001b[38;5;28mself\u001b[39m\u001b[38;5;241m.\u001b[39m_cache\u001b[38;5;241m.\u001b[39mmove_to_end(key)\n",
      "\u001b[0;31mKeyError\u001b[0m: [<class 'netCDF4._netCDF4.Dataset'>, ('/home/elenadworak/PyroCb/goes_data_laura.nc',), 'r', (('clobber', True), ('diskless', False), ('format', 'NETCDF4'), ('persist', False))]",
      "\nDuring handling of the above exception, another exception occurred:\n",
      "\u001b[0;31mFileNotFoundError\u001b[0m                         Traceback (most recent call last)",
      "Input \u001b[0;32mIn [5]\u001b[0m, in \u001b[0;36m<cell line: 2>\u001b[0;34m()\u001b[0m\n\u001b[1;32m      1\u001b[0m FILE \u001b[38;5;241m=\u001b[39m (\u001b[38;5;124m'\u001b[39m\u001b[38;5;124mgoes_data_laura.nc\u001b[39m\u001b[38;5;124m'\u001b[39m)\n\u001b[0;32m----> 2\u001b[0m goes_tut \u001b[38;5;241m=\u001b[39m \u001b[43mxarray\u001b[49m\u001b[38;5;241;43m.\u001b[39;49m\u001b[43mopen_dataset\u001b[49m\u001b[43m(\u001b[49m\u001b[43mFILE\u001b[49m\u001b[43m)\u001b[49m\n\u001b[1;32m      3\u001b[0m goes_tut\n",
      "File \u001b[0;32m~/anaconda3/envs/mynewenv/lib/python3.8/site-packages/xarray/backends/api.py:508\u001b[0m, in \u001b[0;36mopen_dataset\u001b[0;34m(filename_or_obj, group, decode_cf, mask_and_scale, decode_times, autoclose, concat_characters, decode_coords, engine, chunks, lock, cache, drop_variables, backend_kwargs, use_cftime, decode_timedelta)\u001b[0m\n\u001b[1;32m    506\u001b[0m     engine \u001b[38;5;241m=\u001b[39m _get_default_engine(filename_or_obj, allow_remote\u001b[38;5;241m=\u001b[39m\u001b[38;5;28;01mTrue\u001b[39;00m)\n\u001b[1;32m    507\u001b[0m \u001b[38;5;28;01mif\u001b[39;00m engine \u001b[38;5;241m==\u001b[39m \u001b[38;5;124m\"\u001b[39m\u001b[38;5;124mnetcdf4\u001b[39m\u001b[38;5;124m\"\u001b[39m:\n\u001b[0;32m--> 508\u001b[0m     store \u001b[38;5;241m=\u001b[39m \u001b[43mbackends\u001b[49m\u001b[38;5;241;43m.\u001b[39;49m\u001b[43mNetCDF4DataStore\u001b[49m\u001b[38;5;241;43m.\u001b[39;49m\u001b[43mopen\u001b[49m\u001b[43m(\u001b[49m\n\u001b[1;32m    509\u001b[0m \u001b[43m        \u001b[49m\u001b[43mfilename_or_obj\u001b[49m\u001b[43m,\u001b[49m\u001b[43m \u001b[49m\u001b[43mgroup\u001b[49m\u001b[38;5;241;43m=\u001b[39;49m\u001b[43mgroup\u001b[49m\u001b[43m,\u001b[49m\u001b[43m \u001b[49m\u001b[43mlock\u001b[49m\u001b[38;5;241;43m=\u001b[39;49m\u001b[43mlock\u001b[49m\u001b[43m,\u001b[49m\u001b[43m \u001b[49m\u001b[38;5;241;43m*\u001b[39;49m\u001b[38;5;241;43m*\u001b[39;49m\u001b[43mbackend_kwargs\u001b[49m\n\u001b[1;32m    510\u001b[0m \u001b[43m    \u001b[49m\u001b[43m)\u001b[49m\n\u001b[1;32m    511\u001b[0m \u001b[38;5;28;01melif\u001b[39;00m engine \u001b[38;5;241m==\u001b[39m \u001b[38;5;124m\"\u001b[39m\u001b[38;5;124mscipy\u001b[39m\u001b[38;5;124m\"\u001b[39m:\n\u001b[1;32m    512\u001b[0m     store \u001b[38;5;241m=\u001b[39m backends\u001b[38;5;241m.\u001b[39mScipyDataStore(filename_or_obj, \u001b[38;5;241m*\u001b[39m\u001b[38;5;241m*\u001b[39mbackend_kwargs)\n",
      "File \u001b[0;32m~/anaconda3/envs/mynewenv/lib/python3.8/site-packages/xarray/backends/netCDF4_.py:358\u001b[0m, in \u001b[0;36mNetCDF4DataStore.open\u001b[0;34m(cls, filename, mode, format, group, clobber, diskless, persist, lock, lock_maker, autoclose)\u001b[0m\n\u001b[1;32m    352\u001b[0m kwargs \u001b[38;5;241m=\u001b[39m \u001b[38;5;28mdict\u001b[39m(\n\u001b[1;32m    353\u001b[0m     clobber\u001b[38;5;241m=\u001b[39mclobber, diskless\u001b[38;5;241m=\u001b[39mdiskless, persist\u001b[38;5;241m=\u001b[39mpersist, \u001b[38;5;28mformat\u001b[39m\u001b[38;5;241m=\u001b[39m\u001b[38;5;28mformat\u001b[39m\n\u001b[1;32m    354\u001b[0m )\n\u001b[1;32m    355\u001b[0m manager \u001b[38;5;241m=\u001b[39m CachingFileManager(\n\u001b[1;32m    356\u001b[0m     netCDF4\u001b[38;5;241m.\u001b[39mDataset, filename, mode\u001b[38;5;241m=\u001b[39mmode, kwargs\u001b[38;5;241m=\u001b[39mkwargs\n\u001b[1;32m    357\u001b[0m )\n\u001b[0;32m--> 358\u001b[0m \u001b[38;5;28;01mreturn\u001b[39;00m \u001b[38;5;28;43mcls\u001b[39;49m\u001b[43m(\u001b[49m\u001b[43mmanager\u001b[49m\u001b[43m,\u001b[49m\u001b[43m \u001b[49m\u001b[43mgroup\u001b[49m\u001b[38;5;241;43m=\u001b[39;49m\u001b[43mgroup\u001b[49m\u001b[43m,\u001b[49m\u001b[43m \u001b[49m\u001b[43mmode\u001b[49m\u001b[38;5;241;43m=\u001b[39;49m\u001b[43mmode\u001b[49m\u001b[43m,\u001b[49m\u001b[43m \u001b[49m\u001b[43mlock\u001b[49m\u001b[38;5;241;43m=\u001b[39;49m\u001b[43mlock\u001b[49m\u001b[43m,\u001b[49m\u001b[43m \u001b[49m\u001b[43mautoclose\u001b[49m\u001b[38;5;241;43m=\u001b[39;49m\u001b[43mautoclose\u001b[49m\u001b[43m)\u001b[49m\n",
      "File \u001b[0;32m~/anaconda3/envs/mynewenv/lib/python3.8/site-packages/xarray/backends/netCDF4_.py:314\u001b[0m, in \u001b[0;36mNetCDF4DataStore.__init__\u001b[0;34m(self, manager, group, mode, lock, autoclose)\u001b[0m\n\u001b[1;32m    312\u001b[0m \u001b[38;5;28mself\u001b[39m\u001b[38;5;241m.\u001b[39m_group \u001b[38;5;241m=\u001b[39m group\n\u001b[1;32m    313\u001b[0m \u001b[38;5;28mself\u001b[39m\u001b[38;5;241m.\u001b[39m_mode \u001b[38;5;241m=\u001b[39m mode\n\u001b[0;32m--> 314\u001b[0m \u001b[38;5;28mself\u001b[39m\u001b[38;5;241m.\u001b[39mformat \u001b[38;5;241m=\u001b[39m \u001b[38;5;28;43mself\u001b[39;49m\u001b[38;5;241;43m.\u001b[39;49m\u001b[43mds\u001b[49m\u001b[38;5;241m.\u001b[39mdata_model\n\u001b[1;32m    315\u001b[0m \u001b[38;5;28mself\u001b[39m\u001b[38;5;241m.\u001b[39m_filename \u001b[38;5;241m=\u001b[39m \u001b[38;5;28mself\u001b[39m\u001b[38;5;241m.\u001b[39mds\u001b[38;5;241m.\u001b[39mfilepath()\n\u001b[1;32m    316\u001b[0m \u001b[38;5;28mself\u001b[39m\u001b[38;5;241m.\u001b[39mis_remote \u001b[38;5;241m=\u001b[39m is_remote_uri(\u001b[38;5;28mself\u001b[39m\u001b[38;5;241m.\u001b[39m_filename)\n",
      "File \u001b[0;32m~/anaconda3/envs/mynewenv/lib/python3.8/site-packages/xarray/backends/netCDF4_.py:367\u001b[0m, in \u001b[0;36mNetCDF4DataStore.ds\u001b[0;34m(self)\u001b[0m\n\u001b[1;32m    365\u001b[0m \u001b[38;5;129m@property\u001b[39m\n\u001b[1;32m    366\u001b[0m \u001b[38;5;28;01mdef\u001b[39;00m \u001b[38;5;21mds\u001b[39m(\u001b[38;5;28mself\u001b[39m):\n\u001b[0;32m--> 367\u001b[0m     \u001b[38;5;28;01mreturn\u001b[39;00m \u001b[38;5;28;43mself\u001b[39;49m\u001b[38;5;241;43m.\u001b[39;49m\u001b[43m_acquire\u001b[49m\u001b[43m(\u001b[49m\u001b[43m)\u001b[49m\n",
      "File \u001b[0;32m~/anaconda3/envs/mynewenv/lib/python3.8/site-packages/xarray/backends/netCDF4_.py:361\u001b[0m, in \u001b[0;36mNetCDF4DataStore._acquire\u001b[0;34m(self, needs_lock)\u001b[0m\n\u001b[1;32m    360\u001b[0m \u001b[38;5;28;01mdef\u001b[39;00m \u001b[38;5;21m_acquire\u001b[39m(\u001b[38;5;28mself\u001b[39m, needs_lock\u001b[38;5;241m=\u001b[39m\u001b[38;5;28;01mTrue\u001b[39;00m):\n\u001b[0;32m--> 361\u001b[0m     \u001b[38;5;28;01mwith\u001b[39;00m \u001b[38;5;28mself\u001b[39m\u001b[38;5;241m.\u001b[39m_manager\u001b[38;5;241m.\u001b[39macquire_context(needs_lock) \u001b[38;5;28;01mas\u001b[39;00m root:\n\u001b[1;32m    362\u001b[0m         ds \u001b[38;5;241m=\u001b[39m _nc4_require_group(root, \u001b[38;5;28mself\u001b[39m\u001b[38;5;241m.\u001b[39m_group, \u001b[38;5;28mself\u001b[39m\u001b[38;5;241m.\u001b[39m_mode)\n\u001b[1;32m    363\u001b[0m     \u001b[38;5;28;01mreturn\u001b[39;00m ds\n",
      "File \u001b[0;32m~/anaconda3/envs/mynewenv/lib/python3.8/contextlib.py:113\u001b[0m, in \u001b[0;36m_GeneratorContextManager.__enter__\u001b[0;34m(self)\u001b[0m\n\u001b[1;32m    111\u001b[0m \u001b[38;5;28;01mdel\u001b[39;00m \u001b[38;5;28mself\u001b[39m\u001b[38;5;241m.\u001b[39margs, \u001b[38;5;28mself\u001b[39m\u001b[38;5;241m.\u001b[39mkwds, \u001b[38;5;28mself\u001b[39m\u001b[38;5;241m.\u001b[39mfunc\n\u001b[1;32m    112\u001b[0m \u001b[38;5;28;01mtry\u001b[39;00m:\n\u001b[0;32m--> 113\u001b[0m     \u001b[38;5;28;01mreturn\u001b[39;00m \u001b[38;5;28;43mnext\u001b[39;49m\u001b[43m(\u001b[49m\u001b[38;5;28;43mself\u001b[39;49m\u001b[38;5;241;43m.\u001b[39;49m\u001b[43mgen\u001b[49m\u001b[43m)\u001b[49m\n\u001b[1;32m    114\u001b[0m \u001b[38;5;28;01mexcept\u001b[39;00m \u001b[38;5;167;01mStopIteration\u001b[39;00m:\n\u001b[1;32m    115\u001b[0m     \u001b[38;5;28;01mraise\u001b[39;00m \u001b[38;5;167;01mRuntimeError\u001b[39;00m(\u001b[38;5;124m\"\u001b[39m\u001b[38;5;124mgenerator didn\u001b[39m\u001b[38;5;124m'\u001b[39m\u001b[38;5;124mt yield\u001b[39m\u001b[38;5;124m\"\u001b[39m) \u001b[38;5;28;01mfrom\u001b[39;00m \u001b[38;5;28mNone\u001b[39m\n",
      "File \u001b[0;32m~/anaconda3/envs/mynewenv/lib/python3.8/site-packages/xarray/backends/file_manager.py:187\u001b[0m, in \u001b[0;36mCachingFileManager.acquire_context\u001b[0;34m(self, needs_lock)\u001b[0m\n\u001b[1;32m    184\u001b[0m \u001b[38;5;129m@contextlib\u001b[39m\u001b[38;5;241m.\u001b[39mcontextmanager\n\u001b[1;32m    185\u001b[0m \u001b[38;5;28;01mdef\u001b[39;00m \u001b[38;5;21macquire_context\u001b[39m(\u001b[38;5;28mself\u001b[39m, needs_lock\u001b[38;5;241m=\u001b[39m\u001b[38;5;28;01mTrue\u001b[39;00m):\n\u001b[1;32m    186\u001b[0m     \u001b[38;5;124;03m\"\"\"Context manager for acquiring a file.\"\"\"\u001b[39;00m\n\u001b[0;32m--> 187\u001b[0m     file, cached \u001b[38;5;241m=\u001b[39m \u001b[38;5;28;43mself\u001b[39;49m\u001b[38;5;241;43m.\u001b[39;49m\u001b[43m_acquire_with_cache_info\u001b[49m\u001b[43m(\u001b[49m\u001b[43mneeds_lock\u001b[49m\u001b[43m)\u001b[49m\n\u001b[1;32m    188\u001b[0m     \u001b[38;5;28;01mtry\u001b[39;00m:\n\u001b[1;32m    189\u001b[0m         \u001b[38;5;28;01myield\u001b[39;00m file\n",
      "File \u001b[0;32m~/anaconda3/envs/mynewenv/lib/python3.8/site-packages/xarray/backends/file_manager.py:205\u001b[0m, in \u001b[0;36mCachingFileManager._acquire_with_cache_info\u001b[0;34m(self, needs_lock)\u001b[0m\n\u001b[1;32m    203\u001b[0m     kwargs \u001b[38;5;241m=\u001b[39m kwargs\u001b[38;5;241m.\u001b[39mcopy()\n\u001b[1;32m    204\u001b[0m     kwargs[\u001b[38;5;124m\"\u001b[39m\u001b[38;5;124mmode\u001b[39m\u001b[38;5;124m\"\u001b[39m] \u001b[38;5;241m=\u001b[39m \u001b[38;5;28mself\u001b[39m\u001b[38;5;241m.\u001b[39m_mode\n\u001b[0;32m--> 205\u001b[0m file \u001b[38;5;241m=\u001b[39m \u001b[38;5;28;43mself\u001b[39;49m\u001b[38;5;241;43m.\u001b[39;49m\u001b[43m_opener\u001b[49m\u001b[43m(\u001b[49m\u001b[38;5;241;43m*\u001b[39;49m\u001b[38;5;28;43mself\u001b[39;49m\u001b[38;5;241;43m.\u001b[39;49m\u001b[43m_args\u001b[49m\u001b[43m,\u001b[49m\u001b[43m \u001b[49m\u001b[38;5;241;43m*\u001b[39;49m\u001b[38;5;241;43m*\u001b[39;49m\u001b[43mkwargs\u001b[49m\u001b[43m)\u001b[49m\n\u001b[1;32m    206\u001b[0m \u001b[38;5;28;01mif\u001b[39;00m \u001b[38;5;28mself\u001b[39m\u001b[38;5;241m.\u001b[39m_mode \u001b[38;5;241m==\u001b[39m \u001b[38;5;124m\"\u001b[39m\u001b[38;5;124mw\u001b[39m\u001b[38;5;124m\"\u001b[39m:\n\u001b[1;32m    207\u001b[0m     \u001b[38;5;66;03m# ensure file doesn't get overriden when opened again\u001b[39;00m\n\u001b[1;32m    208\u001b[0m     \u001b[38;5;28mself\u001b[39m\u001b[38;5;241m.\u001b[39m_mode \u001b[38;5;241m=\u001b[39m \u001b[38;5;124m\"\u001b[39m\u001b[38;5;124ma\u001b[39m\u001b[38;5;124m\"\u001b[39m\n",
      "File \u001b[0;32msrc/netCDF4/_netCDF4.pyx:2307\u001b[0m, in \u001b[0;36mnetCDF4._netCDF4.Dataset.__init__\u001b[0;34m()\u001b[0m\n",
      "File \u001b[0;32msrc/netCDF4/_netCDF4.pyx:1925\u001b[0m, in \u001b[0;36mnetCDF4._netCDF4._ensure_nc_success\u001b[0;34m()\u001b[0m\n",
      "\u001b[0;31mFileNotFoundError\u001b[0m: [Errno 2] No such file or directory: b'/home/elenadworak/PyroCb/goes_data_laura.nc'"
     ]
    }
   ],
   "source": [
    "FILE = ('goes_data_laura.nc')\n",
    "goes_tut = xarray.open_dataset(FILE)\n",
    "goes_tut"
   ]
  },
  {
   "cell_type": "code",
   "execution_count": null,
   "id": "5d92268c-ccf0-4d55-b81f-6aa4b2eba9c1",
   "metadata": {},
   "outputs": [],
   "source": [
    "# get current date and time \n",
    "\n",
    "datetime_object = datetime.now()\n",
    "print(datetime_object)"
   ]
  },
  {
   "cell_type": "code",
   "execution_count": null,
   "id": "c62ead3b-b8a3-49ac-8546-dd374dc68655",
   "metadata": {},
   "outputs": [],
   "source": [
    "print(dir(datetime))"
   ]
  },
  {
   "cell_type": "code",
   "execution_count": null,
   "id": "3abacf89-de8b-4ffb-b962-feb2cfb2881f",
   "metadata": {},
   "outputs": [],
   "source": [
    "date_object = datetime.today()\n",
    "print(date_object)"
   ]
  },
  {
   "cell_type": "markdown",
   "id": "28bda8fa-7043-4911-811e-b62a34891e88",
   "metadata": {},
   "source": [
    "Commonly used classes in the datetime module are:\n",
    "\n",
    "- date Class\n",
    "- time Class\n",
    "- datetime Class\n",
    "- timedelta Class\n"
   ]
  },
  {
   "cell_type": "code",
   "execution_count": null,
   "id": "d2380cb5-aa65-4b1e-89fd-e052fcf5138e",
   "metadata": {},
   "outputs": [],
   "source": [
    "# datetime.date class\n",
    "# date object represents a date (year, month, day)\n",
    "\n",
    "d = datetime.date(2022, 2, 1)\n",
    "print(d)"
   ]
  },
  {
   "cell_type": "code",
   "execution_count": null,
   "id": "c695eaf9-663b-4493-b9cf-fd3aa9a1d1b5",
   "metadata": {},
   "outputs": [],
   "source": [
    "# get current date \n",
    "\n",
    "today = date.today()\n",
    "print(\"Current date = \", today)"
   ]
  },
  {
   "cell_type": "code",
   "execution_count": null,
   "id": "81ef4abf-b601-447f-a121-b79931ee1522",
   "metadata": {},
   "outputs": [],
   "source": [
    "# date object of today's date\n",
    "today = date.today() \n",
    "\n",
    "print(\"Current year:\", today.year)\n",
    "print(\"Current month:\", today.month)\n",
    "print(\"Current day:\", today.day)"
   ]
  },
  {
   "cell_type": "code",
   "execution_count": null,
   "id": "d5e88cff-3145-42f1-8730-ad7c83d6b56e",
   "metadata": {},
   "outputs": [],
   "source": [
    "# time(hour = 0, minute = 0, second = 0)\n",
    "a = time()\n",
    "print(\"a =\", a)\n",
    "\n",
    "# time(hour, minute and second)\n",
    "b = time(11, 34, 56)\n",
    "print(\"b =\", b)\n",
    "\n",
    "# time(hour, minute, second, microsecond)\n",
    "c = time(11, 34, 56, 234566)\n",
    "print(\"c =\", c)\n",
    "\n",
    "# datetime(year, month, day, hour, minute, second, microsecond)\n",
    "d = datetime(2017, 11, 28, 23, 55, 59, 342380)\n",
    "print(d)"
   ]
  },
  {
   "cell_type": "markdown",
   "id": "0d6cc690-1df4-456f-b8cf-83e0b3b9534b",
   "metadata": {},
   "source": [
    "### datetime.timedelta\n",
    "A timedelta object represents the difference between two dates or times."
   ]
  },
  {
   "cell_type": "code",
   "execution_count": null,
   "id": "990cf0f6-1d86-47d1-934b-f203bb146365",
   "metadata": {},
   "outputs": [],
   "source": [
    "t1 = date(year = 2018, month = 7, day = 12)\n",
    "t2 = date(year = 2017, month = 12, day = 23)\n",
    "t3 = t1 - t2\n",
    "print(\"t3 =\", t3)\n",
    "\n",
    "t4 = datetime(year = 2018, month = 7, day = 12, hour = 7, minute = 9, second = 33)\n",
    "t5 = datetime(year = 2019, month = 6, day = 10, hour = 5, minute = 55, second = 13)\n",
    "t6 = t4 - t5\n",
    "print(\"t6 =\", t6)\n",
    "\n",
    "print(\"type of t3 =\", type(t3)) \n",
    "print(\"type of t6 =\", type(t6))  \n"
   ]
  },
  {
   "cell_type": "markdown",
   "id": "6713d953-af75-4dab-aee7-df559600203d",
   "metadata": {},
   "source": [
    "### Example 12: Difference between two timedelta objects"
   ]
  },
  {
   "cell_type": "code",
   "execution_count": null,
   "id": "93bd09d6-0d08-4bcd-93f1-c3d4147130da",
   "metadata": {},
   "outputs": [],
   "source": [
    "\n",
    "t1 = timedelta(weeks = 2, days = 5, hours = 1, seconds = 33)\n",
    "t2 = timedelta(days = 4, hours = 11, minutes = 4, seconds = 54)\n",
    "t3 = t1 - t2\n",
    "\n",
    "print(\"t3 =\", t3)"
   ]
  },
  {
   "cell_type": "markdown",
   "id": "39353597-9c2a-43d6-a5e9-0536b064a69f",
   "metadata": {},
   "source": [
    "### Python strftime() - datetime object to string\n",
    "The strftime() method is defined under classes date, datetime and time. The method creates a formatted string from a given date, datetime or time object."
   ]
  },
  {
   "cell_type": "code",
   "execution_count": null,
   "id": "bc6bfb38-de03-4583-9e6c-d975d42f792b",
   "metadata": {},
   "outputs": [],
   "source": [
    "# current date and time\n",
    "now = datetime.now()\n",
    "\n",
    "t = now.strftime(\"%H:%M:%S\")\n",
    "print(\"time:\", t)\n",
    "\n",
    "s1 = now.strftime(\"%m/%d/%Y, %H:%M:%S\")\n",
    "# mm/dd/YY H:M:S format\n",
    "print(\"s1:\", s1)\n",
    "\n",
    "s2 = now.strftime(\"%d/%m/%Y, %H:%M:%S\")\n",
    "# dd/mm/YY H:M:S format\n",
    "print(\"s2:\", s2)"
   ]
  },
  {
   "cell_type": "markdown",
   "id": "3645fadc-d562-4b86-8273-5af962b2a551",
   "metadata": {},
   "source": [
    "### Python strptime() - string to datetime\n",
    "The strptime() method creates a datetime object from a given string (representing date and time)."
   ]
  },
  {
   "cell_type": "code",
   "execution_count": null,
   "id": "2537b15b-6056-4c7d-8401-ba837b395669",
   "metadata": {},
   "outputs": [],
   "source": [
    "date_string = \"21 June, 2018\"\n",
    "print(\"date_string =\", date_string)\n",
    "\n",
    "date_object = datetime.strptime(date_string, \"%d %B, %Y\")\n",
    "print(\"date_object =\", date_object)"
   ]
  },
  {
   "cell_type": "code",
   "execution_count": null,
   "id": "9b058432-bd1c-4c6a-9afa-9cb5de5bccab",
   "metadata": {},
   "outputs": [],
   "source": [
    "# example from goes doc \n",
    "# Scan's start time, converted to datetime object\n",
    "scan_start = datetime.strptime(goes_tut.time_coverage_start, '%Y-%m-%dT%H:%M:%S.%fZ')\n",
    "\n",
    "# Scan's end time, converted to datetime object\n",
    "scan_end = datetime.strptime(goes_tut.time_coverage_end, '%Y-%m-%dT%H:%M:%S.%fZ')\n",
    "\n",
    "# File creation time, convert to datetime object\n",
    "file_created = datetime.strptime(goes_tut.date_created, '%Y-%m-%dT%H:%M:%S.%fZ')\n",
    "\n",
    "print('Scan Start    : {}'.format(scan_start))\n",
    "print('Scan End      : {}'.format(scan_end))\n",
    "print('File Created  : {}'.format(file_created))\n",
    "print('Scan Duration : {:.2f} minutes'.format((scan_end-scan_start).seconds/60))"
   ]
  },
  {
   "cell_type": "markdown",
   "id": "6be5bfc7-8728-474f-8eca-79de62b90889",
   "metadata": {},
   "source": [
    "## Handling timezone in Python\n",
    "Suppose, you are working on a project and need to display date and time based on their timezone. Rather than trying to handle timezone yourself, we suggest you to use a third-party pytZ module."
   ]
  },
  {
   "cell_type": "code",
   "execution_count": null,
   "id": "19497963-a55e-418b-8710-ff846bedd0ab",
   "metadata": {},
   "outputs": [],
   "source": [
    "local = datetime.now()\n",
    "print(\"Local:\", local.strftime(\"%m/%d/%Y, %H:%M:%S\"))\n",
    "\n",
    "\n",
    "tz_NY = pytz.timezone('America/New_York') \n",
    "datetime_NY = datetime.now(tz_NY)\n",
    "print(\"NY:\", datetime_NY.strftime(\"%m/%d/%Y, %H:%M:%S\"))\n",
    "\n",
    "tz_London = pytz.timezone('Europe/London')\n",
    "datetime_London = datetime.now(tz_London)\n",
    "print(\"London:\", datetime_London.strftime(\"%m/%d/%Y, %H:%M:%S\"))"
   ]
  },
  {
   "cell_type": "code",
   "execution_count": null,
   "id": "475a49db-401f-4f14-8bdb-768193aa6d33",
   "metadata": {},
   "outputs": [],
   "source": [
    "from_zone = tz.gettz('UTC')\n",
    "to_zone = tz.gettz('America/San_Francisco')"
   ]
  },
  {
   "cell_type": "code",
   "execution_count": null,
   "id": "be7b23c8-75a9-4627-9519-160824ad435b",
   "metadata": {},
   "outputs": [],
   "source": []
  }
 ],
 "metadata": {
  "kernelspec": {
   "display_name": "Python 3 (ipykernel)",
   "language": "python",
   "name": "python3"
  },
  "language_info": {
   "codemirror_mode": {
    "name": "ipython",
    "version": 3
   },
   "file_extension": ".py",
   "mimetype": "text/x-python",
   "name": "python",
   "nbconvert_exporter": "python",
   "pygments_lexer": "ipython3",
   "version": "3.8.13"
  }
 },
 "nbformat": 4,
 "nbformat_minor": 5
}
