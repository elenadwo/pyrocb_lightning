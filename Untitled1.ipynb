{
 "cells": [
  {
   "cell_type": "code",
   "execution_count": 2,
   "id": "80798558",
   "metadata": {},
   "outputs": [],
   "source": [
    "import os"
   ]
  },
  {
   "cell_type": "code",
   "execution_count": 1,
   "id": "8d38aad9",
   "metadata": {},
   "outputs": [],
   "source": [
    "import os\n",
    "import awscli as aws\n",
    "import numpy as np\n",
    "import pandas as pd\n",
    "from datetime import datetime\n",
    "from datetime import date \n",
    "from datetime import time\n",
    "import math\n",
    "\n",
    "import cartopy.crs as ccrs\n",
    "import cartopy.feature as cfeature\n",
    "import cartopy\n",
    "import matplotlib.ticker as mticker\n",
    "from cartopy.mpl.gridliner import LONGITUDE_FORMATTER, LATITUDE_FORMATTER\n",
    "from shapely import geometry\n",
    "\n",
    "import matplotlib.pyplot as plt\n",
    "import xarray \n",
    "import metpy  \n",
    "from mpl_toolkits.basemap import Basemap\n",
    "import colormap\n",
    "from matplotlib.colors import LinearSegmentedColormap\n",
    "from matplotlib import cm\n",
    "from matplotlib.colors import ListedColormap, LinearSegmentedColormap\n",
    "\n",
    "import time\n",
    "import calendar\n",
    "from matplotlib.patches import Polygon\n",
    "from netCDF4 import Dataset # Import the NetCDF Python interface\n",
    "import netCDF4 as nc\n",
    "import dask\n",
    "import nco\n",
    "from sklearn.neighbors import NearestNeighbors\n",
    "from math import radians, cos, sin, asin, sqrt\n",
    "from textwrap import wrap\n",
    "import matplotlib.patches as mpatches\n",
    "import matplotlib.gridspec as grd\n",
    "\n"
   ]
  },
  {
   "cell_type": "code",
   "execution_count": 8,
   "id": "faf9b13c",
   "metadata": {},
   "outputs": [],
   "source": [
    "def dist(lat1, long1, lat2, long2):\n",
    "    \"\"\"\n",
    "Replicating the same formula as mentioned in Wiki\n",
    "    \"\"\"\n",
    "    # convert decimal degrees to radians \n",
    "    lat1, long1, lat2, long2 = map(radians, [lat1, long1, lat2, long2])\n",
    "    # haversine formula \n",
    "    dlon = long2 - long1 \n",
    "    dlat = lat2 - lat1 \n",
    "    a = sin(dlat/2)**2 + cos(lat1) * cos(lat2) * sin(dlon/2)**2\n",
    "    c = 2 * asin(sqrt(a)) \n",
    "    # Radius of earth in kilometers is 6371\n",
    "    km = 6371* c\n",
    "    return km\n",
    "\n",
    "\n",
    "\n"
   ]
  },
  {
   "cell_type": "code",
   "execution_count": null,
   "id": "9eb8e1a4",
   "metadata": {},
   "outputs": [
    {
     "name": "stdout",
     "output_type": "stream",
     "text": [
      "0\n",
      "0\n",
      "0\n",
      "0\n",
      "0\n",
      "0\n"
     ]
    },
    {
     "name": "stderr",
     "output_type": "stream",
     "text": [
      "/tmp/ipykernel_295660/1711196949.py:23: SettingWithCopyWarning: \n",
      "A value is trying to be set on a copy of a slice from a DataFrame.\n",
      "Try using .loc[row_indexer,col_indexer] = value instead\n",
      "\n",
      "See the caveats in the documentation: https://pandas.pydata.org/pandas-docs/stable/user_guide/indexing.html#returning-a-view-versus-a-copy\n",
      "  br_temp_clean1_time['maximum_cloud_top_height'] = br_temp_clean1_time.apply(\n"
     ]
    },
    {
     "name": "stdout",
     "output_type": "stream",
     "text": [
      "1\n"
     ]
    },
    {
     "name": "stderr",
     "output_type": "stream",
     "text": [
      "/tmp/ipykernel_295660/1711196949.py:23: SettingWithCopyWarning: \n",
      "A value is trying to be set on a copy of a slice from a DataFrame.\n",
      "Try using .loc[row_indexer,col_indexer] = value instead\n",
      "\n",
      "See the caveats in the documentation: https://pandas.pydata.org/pandas-docs/stable/user_guide/indexing.html#returning-a-view-versus-a-copy\n",
      "  br_temp_clean1_time['maximum_cloud_top_height'] = br_temp_clean1_time.apply(\n"
     ]
    },
    {
     "name": "stdout",
     "output_type": "stream",
     "text": [
      "1\n"
     ]
    },
    {
     "name": "stderr",
     "output_type": "stream",
     "text": [
      "/tmp/ipykernel_295660/1711196949.py:23: SettingWithCopyWarning: \n",
      "A value is trying to be set on a copy of a slice from a DataFrame.\n",
      "Try using .loc[row_indexer,col_indexer] = value instead\n",
      "\n",
      "See the caveats in the documentation: https://pandas.pydata.org/pandas-docs/stable/user_guide/indexing.html#returning-a-view-versus-a-copy\n",
      "  br_temp_clean1_time['maximum_cloud_top_height'] = br_temp_clean1_time.apply(\n"
     ]
    },
    {
     "name": "stdout",
     "output_type": "stream",
     "text": [
      "1\n"
     ]
    },
    {
     "name": "stderr",
     "output_type": "stream",
     "text": [
      "/tmp/ipykernel_295660/1711196949.py:23: SettingWithCopyWarning: \n",
      "A value is trying to be set on a copy of a slice from a DataFrame.\n",
      "Try using .loc[row_indexer,col_indexer] = value instead\n",
      "\n",
      "See the caveats in the documentation: https://pandas.pydata.org/pandas-docs/stable/user_guide/indexing.html#returning-a-view-versus-a-copy\n",
      "  br_temp_clean1_time['maximum_cloud_top_height'] = br_temp_clean1_time.apply(\n"
     ]
    },
    {
     "name": "stdout",
     "output_type": "stream",
     "text": [
      "1\n"
     ]
    },
    {
     "name": "stderr",
     "output_type": "stream",
     "text": [
      "/tmp/ipykernel_295660/1711196949.py:23: SettingWithCopyWarning: \n",
      "A value is trying to be set on a copy of a slice from a DataFrame.\n",
      "Try using .loc[row_indexer,col_indexer] = value instead\n",
      "\n",
      "See the caveats in the documentation: https://pandas.pydata.org/pandas-docs/stable/user_guide/indexing.html#returning-a-view-versus-a-copy\n",
      "  br_temp_clean1_time['maximum_cloud_top_height'] = br_temp_clean1_time.apply(\n"
     ]
    },
    {
     "name": "stdout",
     "output_type": "stream",
     "text": [
      "1\n"
     ]
    },
    {
     "name": "stderr",
     "output_type": "stream",
     "text": [
      "/tmp/ipykernel_295660/1711196949.py:23: SettingWithCopyWarning: \n",
      "A value is trying to be set on a copy of a slice from a DataFrame.\n",
      "Try using .loc[row_indexer,col_indexer] = value instead\n",
      "\n",
      "See the caveats in the documentation: https://pandas.pydata.org/pandas-docs/stable/user_guide/indexing.html#returning-a-view-versus-a-copy\n",
      "  br_temp_clean1_time['maximum_cloud_top_height'] = br_temp_clean1_time.apply(\n"
     ]
    },
    {
     "name": "stdout",
     "output_type": "stream",
     "text": [
      "1\n"
     ]
    },
    {
     "name": "stderr",
     "output_type": "stream",
     "text": [
      "/tmp/ipykernel_295660/1711196949.py:23: SettingWithCopyWarning: \n",
      "A value is trying to be set on a copy of a slice from a DataFrame.\n",
      "Try using .loc[row_indexer,col_indexer] = value instead\n",
      "\n",
      "See the caveats in the documentation: https://pandas.pydata.org/pandas-docs/stable/user_guide/indexing.html#returning-a-view-versus-a-copy\n",
      "  br_temp_clean1_time['maximum_cloud_top_height'] = br_temp_clean1_time.apply(\n"
     ]
    },
    {
     "name": "stdout",
     "output_type": "stream",
     "text": [
      "2\n"
     ]
    },
    {
     "name": "stderr",
     "output_type": "stream",
     "text": [
      "/tmp/ipykernel_295660/1711196949.py:23: SettingWithCopyWarning: \n",
      "A value is trying to be set on a copy of a slice from a DataFrame.\n",
      "Try using .loc[row_indexer,col_indexer] = value instead\n",
      "\n",
      "See the caveats in the documentation: https://pandas.pydata.org/pandas-docs/stable/user_guide/indexing.html#returning-a-view-versus-a-copy\n",
      "  br_temp_clean1_time['maximum_cloud_top_height'] = br_temp_clean1_time.apply(\n"
     ]
    },
    {
     "name": "stdout",
     "output_type": "stream",
     "text": [
      "2\n"
     ]
    },
    {
     "name": "stderr",
     "output_type": "stream",
     "text": [
      "/tmp/ipykernel_295660/1711196949.py:23: SettingWithCopyWarning: \n",
      "A value is trying to be set on a copy of a slice from a DataFrame.\n",
      "Try using .loc[row_indexer,col_indexer] = value instead\n",
      "\n",
      "See the caveats in the documentation: https://pandas.pydata.org/pandas-docs/stable/user_guide/indexing.html#returning-a-view-versus-a-copy\n",
      "  br_temp_clean1_time['maximum_cloud_top_height'] = br_temp_clean1_time.apply(\n"
     ]
    },
    {
     "name": "stdout",
     "output_type": "stream",
     "text": [
      "2\n"
     ]
    },
    {
     "name": "stderr",
     "output_type": "stream",
     "text": [
      "/tmp/ipykernel_295660/1711196949.py:23: SettingWithCopyWarning: \n",
      "A value is trying to be set on a copy of a slice from a DataFrame.\n",
      "Try using .loc[row_indexer,col_indexer] = value instead\n",
      "\n",
      "See the caveats in the documentation: https://pandas.pydata.org/pandas-docs/stable/user_guide/indexing.html#returning-a-view-versus-a-copy\n",
      "  br_temp_clean1_time['maximum_cloud_top_height'] = br_temp_clean1_time.apply(\n"
     ]
    },
    {
     "name": "stdout",
     "output_type": "stream",
     "text": [
      "2\n"
     ]
    },
    {
     "name": "stderr",
     "output_type": "stream",
     "text": [
      "/tmp/ipykernel_295660/1711196949.py:23: SettingWithCopyWarning: \n",
      "A value is trying to be set on a copy of a slice from a DataFrame.\n",
      "Try using .loc[row_indexer,col_indexer] = value instead\n",
      "\n",
      "See the caveats in the documentation: https://pandas.pydata.org/pandas-docs/stable/user_guide/indexing.html#returning-a-view-versus-a-copy\n",
      "  br_temp_clean1_time['maximum_cloud_top_height'] = br_temp_clean1_time.apply(\n"
     ]
    },
    {
     "name": "stdout",
     "output_type": "stream",
     "text": [
      "2\n"
     ]
    },
    {
     "name": "stderr",
     "output_type": "stream",
     "text": [
      "/tmp/ipykernel_295660/1711196949.py:23: SettingWithCopyWarning: \n",
      "A value is trying to be set on a copy of a slice from a DataFrame.\n",
      "Try using .loc[row_indexer,col_indexer] = value instead\n",
      "\n",
      "See the caveats in the documentation: https://pandas.pydata.org/pandas-docs/stable/user_guide/indexing.html#returning-a-view-versus-a-copy\n",
      "  br_temp_clean1_time['maximum_cloud_top_height'] = br_temp_clean1_time.apply(\n"
     ]
    },
    {
     "name": "stdout",
     "output_type": "stream",
     "text": [
      "2\n"
     ]
    },
    {
     "name": "stderr",
     "output_type": "stream",
     "text": [
      "/tmp/ipykernel_295660/1711196949.py:23: SettingWithCopyWarning: \n",
      "A value is trying to be set on a copy of a slice from a DataFrame.\n",
      "Try using .loc[row_indexer,col_indexer] = value instead\n",
      "\n",
      "See the caveats in the documentation: https://pandas.pydata.org/pandas-docs/stable/user_guide/indexing.html#returning-a-view-versus-a-copy\n",
      "  br_temp_clean1_time['maximum_cloud_top_height'] = br_temp_clean1_time.apply(\n"
     ]
    },
    {
     "name": "stdout",
     "output_type": "stream",
     "text": [
      "3\n"
     ]
    },
    {
     "name": "stderr",
     "output_type": "stream",
     "text": [
      "/tmp/ipykernel_295660/1711196949.py:23: SettingWithCopyWarning: \n",
      "A value is trying to be set on a copy of a slice from a DataFrame.\n",
      "Try using .loc[row_indexer,col_indexer] = value instead\n",
      "\n",
      "See the caveats in the documentation: https://pandas.pydata.org/pandas-docs/stable/user_guide/indexing.html#returning-a-view-versus-a-copy\n",
      "  br_temp_clean1_time['maximum_cloud_top_height'] = br_temp_clean1_time.apply(\n"
     ]
    },
    {
     "name": "stdout",
     "output_type": "stream",
     "text": [
      "3\n"
     ]
    },
    {
     "name": "stderr",
     "output_type": "stream",
     "text": [
      "/tmp/ipykernel_295660/1711196949.py:23: SettingWithCopyWarning: \n",
      "A value is trying to be set on a copy of a slice from a DataFrame.\n",
      "Try using .loc[row_indexer,col_indexer] = value instead\n",
      "\n",
      "See the caveats in the documentation: https://pandas.pydata.org/pandas-docs/stable/user_guide/indexing.html#returning-a-view-versus-a-copy\n",
      "  br_temp_clean1_time['maximum_cloud_top_height'] = br_temp_clean1_time.apply(\n"
     ]
    },
    {
     "name": "stdout",
     "output_type": "stream",
     "text": [
      "3\n"
     ]
    },
    {
     "name": "stderr",
     "output_type": "stream",
     "text": [
      "/tmp/ipykernel_295660/1711196949.py:23: SettingWithCopyWarning: \n",
      "A value is trying to be set on a copy of a slice from a DataFrame.\n",
      "Try using .loc[row_indexer,col_indexer] = value instead\n",
      "\n",
      "See the caveats in the documentation: https://pandas.pydata.org/pandas-docs/stable/user_guide/indexing.html#returning-a-view-versus-a-copy\n",
      "  br_temp_clean1_time['maximum_cloud_top_height'] = br_temp_clean1_time.apply(\n"
     ]
    },
    {
     "name": "stdout",
     "output_type": "stream",
     "text": [
      "3\n"
     ]
    },
    {
     "name": "stderr",
     "output_type": "stream",
     "text": [
      "/tmp/ipykernel_295660/1711196949.py:23: SettingWithCopyWarning: \n",
      "A value is trying to be set on a copy of a slice from a DataFrame.\n",
      "Try using .loc[row_indexer,col_indexer] = value instead\n",
      "\n",
      "See the caveats in the documentation: https://pandas.pydata.org/pandas-docs/stable/user_guide/indexing.html#returning-a-view-versus-a-copy\n",
      "  br_temp_clean1_time['maximum_cloud_top_height'] = br_temp_clean1_time.apply(\n"
     ]
    },
    {
     "name": "stdout",
     "output_type": "stream",
     "text": [
      "3\n"
     ]
    },
    {
     "name": "stderr",
     "output_type": "stream",
     "text": [
      "/tmp/ipykernel_295660/1711196949.py:23: SettingWithCopyWarning: \n",
      "A value is trying to be set on a copy of a slice from a DataFrame.\n",
      "Try using .loc[row_indexer,col_indexer] = value instead\n",
      "\n",
      "See the caveats in the documentation: https://pandas.pydata.org/pandas-docs/stable/user_guide/indexing.html#returning-a-view-versus-a-copy\n",
      "  br_temp_clean1_time['maximum_cloud_top_height'] = br_temp_clean1_time.apply(\n"
     ]
    },
    {
     "name": "stdout",
     "output_type": "stream",
     "text": [
      "3\n"
     ]
    },
    {
     "name": "stderr",
     "output_type": "stream",
     "text": [
      "/tmp/ipykernel_295660/1711196949.py:23: SettingWithCopyWarning: \n",
      "A value is trying to be set on a copy of a slice from a DataFrame.\n",
      "Try using .loc[row_indexer,col_indexer] = value instead\n",
      "\n",
      "See the caveats in the documentation: https://pandas.pydata.org/pandas-docs/stable/user_guide/indexing.html#returning-a-view-versus-a-copy\n",
      "  br_temp_clean1_time['maximum_cloud_top_height'] = br_temp_clean1_time.apply(\n"
     ]
    },
    {
     "name": "stdout",
     "output_type": "stream",
     "text": [
      "4\n"
     ]
    },
    {
     "name": "stderr",
     "output_type": "stream",
     "text": [
      "/tmp/ipykernel_295660/1711196949.py:23: SettingWithCopyWarning: \n",
      "A value is trying to be set on a copy of a slice from a DataFrame.\n",
      "Try using .loc[row_indexer,col_indexer] = value instead\n",
      "\n",
      "See the caveats in the documentation: https://pandas.pydata.org/pandas-docs/stable/user_guide/indexing.html#returning-a-view-versus-a-copy\n",
      "  br_temp_clean1_time['maximum_cloud_top_height'] = br_temp_clean1_time.apply(\n"
     ]
    },
    {
     "name": "stdout",
     "output_type": "stream",
     "text": [
      "4\n"
     ]
    },
    {
     "name": "stderr",
     "output_type": "stream",
     "text": [
      "/tmp/ipykernel_295660/1711196949.py:23: SettingWithCopyWarning: \n",
      "A value is trying to be set on a copy of a slice from a DataFrame.\n",
      "Try using .loc[row_indexer,col_indexer] = value instead\n",
      "\n",
      "See the caveats in the documentation: https://pandas.pydata.org/pandas-docs/stable/user_guide/indexing.html#returning-a-view-versus-a-copy\n",
      "  br_temp_clean1_time['maximum_cloud_top_height'] = br_temp_clean1_time.apply(\n"
     ]
    },
    {
     "name": "stdout",
     "output_type": "stream",
     "text": [
      "4\n"
     ]
    },
    {
     "name": "stderr",
     "output_type": "stream",
     "text": [
      "/tmp/ipykernel_295660/1711196949.py:23: SettingWithCopyWarning: \n",
      "A value is trying to be set on a copy of a slice from a DataFrame.\n",
      "Try using .loc[row_indexer,col_indexer] = value instead\n",
      "\n",
      "See the caveats in the documentation: https://pandas.pydata.org/pandas-docs/stable/user_guide/indexing.html#returning-a-view-versus-a-copy\n",
      "  br_temp_clean1_time['maximum_cloud_top_height'] = br_temp_clean1_time.apply(\n"
     ]
    },
    {
     "name": "stdout",
     "output_type": "stream",
     "text": [
      "4\n"
     ]
    },
    {
     "name": "stderr",
     "output_type": "stream",
     "text": [
      "/tmp/ipykernel_295660/1711196949.py:23: SettingWithCopyWarning: \n",
      "A value is trying to be set on a copy of a slice from a DataFrame.\n",
      "Try using .loc[row_indexer,col_indexer] = value instead\n",
      "\n",
      "See the caveats in the documentation: https://pandas.pydata.org/pandas-docs/stable/user_guide/indexing.html#returning-a-view-versus-a-copy\n",
      "  br_temp_clean1_time['maximum_cloud_top_height'] = br_temp_clean1_time.apply(\n"
     ]
    },
    {
     "name": "stdout",
     "output_type": "stream",
     "text": [
      "4\n"
     ]
    },
    {
     "name": "stderr",
     "output_type": "stream",
     "text": [
      "/tmp/ipykernel_295660/1711196949.py:23: SettingWithCopyWarning: \n",
      "A value is trying to be set on a copy of a slice from a DataFrame.\n",
      "Try using .loc[row_indexer,col_indexer] = value instead\n",
      "\n",
      "See the caveats in the documentation: https://pandas.pydata.org/pandas-docs/stable/user_guide/indexing.html#returning-a-view-versus-a-copy\n",
      "  br_temp_clean1_time['maximum_cloud_top_height'] = br_temp_clean1_time.apply(\n"
     ]
    },
    {
     "name": "stdout",
     "output_type": "stream",
     "text": [
      "4\n"
     ]
    },
    {
     "name": "stderr",
     "output_type": "stream",
     "text": [
      "/tmp/ipykernel_295660/1711196949.py:23: SettingWithCopyWarning: \n",
      "A value is trying to be set on a copy of a slice from a DataFrame.\n",
      "Try using .loc[row_indexer,col_indexer] = value instead\n",
      "\n",
      "See the caveats in the documentation: https://pandas.pydata.org/pandas-docs/stable/user_guide/indexing.html#returning-a-view-versus-a-copy\n",
      "  br_temp_clean1_time['maximum_cloud_top_height'] = br_temp_clean1_time.apply(\n"
     ]
    },
    {
     "name": "stdout",
     "output_type": "stream",
     "text": [
      "5\n"
     ]
    },
    {
     "name": "stderr",
     "output_type": "stream",
     "text": [
      "/tmp/ipykernel_295660/1711196949.py:23: SettingWithCopyWarning: \n",
      "A value is trying to be set on a copy of a slice from a DataFrame.\n",
      "Try using .loc[row_indexer,col_indexer] = value instead\n",
      "\n",
      "See the caveats in the documentation: https://pandas.pydata.org/pandas-docs/stable/user_guide/indexing.html#returning-a-view-versus-a-copy\n",
      "  br_temp_clean1_time['maximum_cloud_top_height'] = br_temp_clean1_time.apply(\n"
     ]
    },
    {
     "name": "stdout",
     "output_type": "stream",
     "text": [
      "5\n"
     ]
    },
    {
     "name": "stderr",
     "output_type": "stream",
     "text": [
      "/tmp/ipykernel_295660/1711196949.py:23: SettingWithCopyWarning: \n",
      "A value is trying to be set on a copy of a slice from a DataFrame.\n",
      "Try using .loc[row_indexer,col_indexer] = value instead\n",
      "\n",
      "See the caveats in the documentation: https://pandas.pydata.org/pandas-docs/stable/user_guide/indexing.html#returning-a-view-versus-a-copy\n",
      "  br_temp_clean1_time['maximum_cloud_top_height'] = br_temp_clean1_time.apply(\n"
     ]
    },
    {
     "name": "stdout",
     "output_type": "stream",
     "text": [
      "5\n"
     ]
    },
    {
     "name": "stderr",
     "output_type": "stream",
     "text": [
      "/tmp/ipykernel_295660/1711196949.py:23: SettingWithCopyWarning: \n",
      "A value is trying to be set on a copy of a slice from a DataFrame.\n",
      "Try using .loc[row_indexer,col_indexer] = value instead\n",
      "\n",
      "See the caveats in the documentation: https://pandas.pydata.org/pandas-docs/stable/user_guide/indexing.html#returning-a-view-versus-a-copy\n",
      "  br_temp_clean1_time['maximum_cloud_top_height'] = br_temp_clean1_time.apply(\n"
     ]
    },
    {
     "name": "stdout",
     "output_type": "stream",
     "text": [
      "5\n"
     ]
    },
    {
     "name": "stderr",
     "output_type": "stream",
     "text": [
      "/tmp/ipykernel_295660/1711196949.py:23: SettingWithCopyWarning: \n",
      "A value is trying to be set on a copy of a slice from a DataFrame.\n",
      "Try using .loc[row_indexer,col_indexer] = value instead\n",
      "\n",
      "See the caveats in the documentation: https://pandas.pydata.org/pandas-docs/stable/user_guide/indexing.html#returning-a-view-versus-a-copy\n",
      "  br_temp_clean1_time['maximum_cloud_top_height'] = br_temp_clean1_time.apply(\n"
     ]
    },
    {
     "name": "stdout",
     "output_type": "stream",
     "text": [
      "5\n"
     ]
    },
    {
     "name": "stderr",
     "output_type": "stream",
     "text": [
      "/tmp/ipykernel_295660/1711196949.py:23: SettingWithCopyWarning: \n",
      "A value is trying to be set on a copy of a slice from a DataFrame.\n",
      "Try using .loc[row_indexer,col_indexer] = value instead\n",
      "\n",
      "See the caveats in the documentation: https://pandas.pydata.org/pandas-docs/stable/user_guide/indexing.html#returning-a-view-versus-a-copy\n",
      "  br_temp_clean1_time['maximum_cloud_top_height'] = br_temp_clean1_time.apply(\n"
     ]
    },
    {
     "name": "stdout",
     "output_type": "stream",
     "text": [
      "5\n"
     ]
    },
    {
     "name": "stderr",
     "output_type": "stream",
     "text": [
      "/tmp/ipykernel_295660/1711196949.py:23: SettingWithCopyWarning: \n",
      "A value is trying to be set on a copy of a slice from a DataFrame.\n",
      "Try using .loc[row_indexer,col_indexer] = value instead\n",
      "\n",
      "See the caveats in the documentation: https://pandas.pydata.org/pandas-docs/stable/user_guide/indexing.html#returning-a-view-versus-a-copy\n",
      "  br_temp_clean1_time['maximum_cloud_top_height'] = br_temp_clean1_time.apply(\n"
     ]
    },
    {
     "name": "stdout",
     "output_type": "stream",
     "text": [
      "6\n"
     ]
    },
    {
     "name": "stderr",
     "output_type": "stream",
     "text": [
      "/tmp/ipykernel_295660/1711196949.py:23: SettingWithCopyWarning: \n",
      "A value is trying to be set on a copy of a slice from a DataFrame.\n",
      "Try using .loc[row_indexer,col_indexer] = value instead\n",
      "\n",
      "See the caveats in the documentation: https://pandas.pydata.org/pandas-docs/stable/user_guide/indexing.html#returning-a-view-versus-a-copy\n",
      "  br_temp_clean1_time['maximum_cloud_top_height'] = br_temp_clean1_time.apply(\n"
     ]
    },
    {
     "name": "stdout",
     "output_type": "stream",
     "text": [
      "6\n"
     ]
    },
    {
     "name": "stderr",
     "output_type": "stream",
     "text": [
      "/tmp/ipykernel_295660/1711196949.py:23: SettingWithCopyWarning: \n",
      "A value is trying to be set on a copy of a slice from a DataFrame.\n",
      "Try using .loc[row_indexer,col_indexer] = value instead\n",
      "\n",
      "See the caveats in the documentation: https://pandas.pydata.org/pandas-docs/stable/user_guide/indexing.html#returning-a-view-versus-a-copy\n",
      "  br_temp_clean1_time['maximum_cloud_top_height'] = br_temp_clean1_time.apply(\n"
     ]
    },
    {
     "name": "stdout",
     "output_type": "stream",
     "text": [
      "6\n"
     ]
    },
    {
     "name": "stderr",
     "output_type": "stream",
     "text": [
      "/tmp/ipykernel_295660/1711196949.py:23: SettingWithCopyWarning: \n",
      "A value is trying to be set on a copy of a slice from a DataFrame.\n",
      "Try using .loc[row_indexer,col_indexer] = value instead\n",
      "\n",
      "See the caveats in the documentation: https://pandas.pydata.org/pandas-docs/stable/user_guide/indexing.html#returning-a-view-versus-a-copy\n",
      "  br_temp_clean1_time['maximum_cloud_top_height'] = br_temp_clean1_time.apply(\n"
     ]
    },
    {
     "name": "stdout",
     "output_type": "stream",
     "text": [
      "6\n"
     ]
    },
    {
     "name": "stderr",
     "output_type": "stream",
     "text": [
      "/tmp/ipykernel_295660/1711196949.py:23: SettingWithCopyWarning: \n",
      "A value is trying to be set on a copy of a slice from a DataFrame.\n",
      "Try using .loc[row_indexer,col_indexer] = value instead\n",
      "\n",
      "See the caveats in the documentation: https://pandas.pydata.org/pandas-docs/stable/user_guide/indexing.html#returning-a-view-versus-a-copy\n",
      "  br_temp_clean1_time['maximum_cloud_top_height'] = br_temp_clean1_time.apply(\n"
     ]
    },
    {
     "name": "stdout",
     "output_type": "stream",
     "text": [
      "6\n"
     ]
    },
    {
     "name": "stderr",
     "output_type": "stream",
     "text": [
      "/tmp/ipykernel_295660/1711196949.py:23: SettingWithCopyWarning: \n",
      "A value is trying to be set on a copy of a slice from a DataFrame.\n",
      "Try using .loc[row_indexer,col_indexer] = value instead\n",
      "\n",
      "See the caveats in the documentation: https://pandas.pydata.org/pandas-docs/stable/user_guide/indexing.html#returning-a-view-versus-a-copy\n",
      "  br_temp_clean1_time['maximum_cloud_top_height'] = br_temp_clean1_time.apply(\n"
     ]
    },
    {
     "name": "stdout",
     "output_type": "stream",
     "text": [
      "6\n"
     ]
    },
    {
     "name": "stderr",
     "output_type": "stream",
     "text": [
      "/tmp/ipykernel_295660/1711196949.py:23: SettingWithCopyWarning: \n",
      "A value is trying to be set on a copy of a slice from a DataFrame.\n",
      "Try using .loc[row_indexer,col_indexer] = value instead\n",
      "\n",
      "See the caveats in the documentation: https://pandas.pydata.org/pandas-docs/stable/user_guide/indexing.html#returning-a-view-versus-a-copy\n",
      "  br_temp_clean1_time['maximum_cloud_top_height'] = br_temp_clean1_time.apply(\n"
     ]
    },
    {
     "name": "stdout",
     "output_type": "stream",
     "text": [
      "7\n"
     ]
    },
    {
     "name": "stderr",
     "output_type": "stream",
     "text": [
      "/tmp/ipykernel_295660/1711196949.py:23: SettingWithCopyWarning: \n",
      "A value is trying to be set on a copy of a slice from a DataFrame.\n",
      "Try using .loc[row_indexer,col_indexer] = value instead\n",
      "\n",
      "See the caveats in the documentation: https://pandas.pydata.org/pandas-docs/stable/user_guide/indexing.html#returning-a-view-versus-a-copy\n",
      "  br_temp_clean1_time['maximum_cloud_top_height'] = br_temp_clean1_time.apply(\n"
     ]
    },
    {
     "name": "stdout",
     "output_type": "stream",
     "text": [
      "7\n"
     ]
    },
    {
     "name": "stderr",
     "output_type": "stream",
     "text": [
      "/tmp/ipykernel_295660/1711196949.py:23: SettingWithCopyWarning: \n",
      "A value is trying to be set on a copy of a slice from a DataFrame.\n",
      "Try using .loc[row_indexer,col_indexer] = value instead\n",
      "\n",
      "See the caveats in the documentation: https://pandas.pydata.org/pandas-docs/stable/user_guide/indexing.html#returning-a-view-versus-a-copy\n",
      "  br_temp_clean1_time['maximum_cloud_top_height'] = br_temp_clean1_time.apply(\n"
     ]
    },
    {
     "name": "stdout",
     "output_type": "stream",
     "text": [
      "7\n"
     ]
    },
    {
     "name": "stderr",
     "output_type": "stream",
     "text": [
      "/tmp/ipykernel_295660/1711196949.py:23: SettingWithCopyWarning: \n",
      "A value is trying to be set on a copy of a slice from a DataFrame.\n",
      "Try using .loc[row_indexer,col_indexer] = value instead\n",
      "\n",
      "See the caveats in the documentation: https://pandas.pydata.org/pandas-docs/stable/user_guide/indexing.html#returning-a-view-versus-a-copy\n",
      "  br_temp_clean1_time['maximum_cloud_top_height'] = br_temp_clean1_time.apply(\n"
     ]
    },
    {
     "name": "stdout",
     "output_type": "stream",
     "text": [
      "7\n"
     ]
    },
    {
     "name": "stderr",
     "output_type": "stream",
     "text": [
      "/tmp/ipykernel_295660/1711196949.py:23: SettingWithCopyWarning: \n",
      "A value is trying to be set on a copy of a slice from a DataFrame.\n",
      "Try using .loc[row_indexer,col_indexer] = value instead\n",
      "\n",
      "See the caveats in the documentation: https://pandas.pydata.org/pandas-docs/stable/user_guide/indexing.html#returning-a-view-versus-a-copy\n",
      "  br_temp_clean1_time['maximum_cloud_top_height'] = br_temp_clean1_time.apply(\n"
     ]
    },
    {
     "name": "stdout",
     "output_type": "stream",
     "text": [
      "7\n"
     ]
    },
    {
     "name": "stderr",
     "output_type": "stream",
     "text": [
      "/tmp/ipykernel_295660/1711196949.py:23: SettingWithCopyWarning: \n",
      "A value is trying to be set on a copy of a slice from a DataFrame.\n",
      "Try using .loc[row_indexer,col_indexer] = value instead\n",
      "\n",
      "See the caveats in the documentation: https://pandas.pydata.org/pandas-docs/stable/user_guide/indexing.html#returning-a-view-versus-a-copy\n",
      "  br_temp_clean1_time['maximum_cloud_top_height'] = br_temp_clean1_time.apply(\n"
     ]
    },
    {
     "name": "stdout",
     "output_type": "stream",
     "text": [
      "7\n"
     ]
    },
    {
     "name": "stderr",
     "output_type": "stream",
     "text": [
      "/tmp/ipykernel_295660/1711196949.py:23: SettingWithCopyWarning: \n",
      "A value is trying to be set on a copy of a slice from a DataFrame.\n",
      "Try using .loc[row_indexer,col_indexer] = value instead\n",
      "\n",
      "See the caveats in the documentation: https://pandas.pydata.org/pandas-docs/stable/user_guide/indexing.html#returning-a-view-versus-a-copy\n",
      "  br_temp_clean1_time['maximum_cloud_top_height'] = br_temp_clean1_time.apply(\n"
     ]
    },
    {
     "name": "stdout",
     "output_type": "stream",
     "text": [
      "8\n"
     ]
    },
    {
     "name": "stderr",
     "output_type": "stream",
     "text": [
      "/tmp/ipykernel_295660/1711196949.py:23: SettingWithCopyWarning: \n",
      "A value is trying to be set on a copy of a slice from a DataFrame.\n",
      "Try using .loc[row_indexer,col_indexer] = value instead\n",
      "\n",
      "See the caveats in the documentation: https://pandas.pydata.org/pandas-docs/stable/user_guide/indexing.html#returning-a-view-versus-a-copy\n",
      "  br_temp_clean1_time['maximum_cloud_top_height'] = br_temp_clean1_time.apply(\n"
     ]
    },
    {
     "name": "stdout",
     "output_type": "stream",
     "text": [
      "8\n"
     ]
    },
    {
     "name": "stderr",
     "output_type": "stream",
     "text": [
      "/tmp/ipykernel_295660/1711196949.py:23: SettingWithCopyWarning: \n",
      "A value is trying to be set on a copy of a slice from a DataFrame.\n",
      "Try using .loc[row_indexer,col_indexer] = value instead\n",
      "\n",
      "See the caveats in the documentation: https://pandas.pydata.org/pandas-docs/stable/user_guide/indexing.html#returning-a-view-versus-a-copy\n",
      "  br_temp_clean1_time['maximum_cloud_top_height'] = br_temp_clean1_time.apply(\n"
     ]
    },
    {
     "name": "stdout",
     "output_type": "stream",
     "text": [
      "8\n"
     ]
    },
    {
     "name": "stderr",
     "output_type": "stream",
     "text": [
      "/tmp/ipykernel_295660/1711196949.py:23: SettingWithCopyWarning: \n",
      "A value is trying to be set on a copy of a slice from a DataFrame.\n",
      "Try using .loc[row_indexer,col_indexer] = value instead\n",
      "\n",
      "See the caveats in the documentation: https://pandas.pydata.org/pandas-docs/stable/user_guide/indexing.html#returning-a-view-versus-a-copy\n",
      "  br_temp_clean1_time['maximum_cloud_top_height'] = br_temp_clean1_time.apply(\n"
     ]
    },
    {
     "name": "stdout",
     "output_type": "stream",
     "text": [
      "8\n"
     ]
    },
    {
     "name": "stderr",
     "output_type": "stream",
     "text": [
      "/tmp/ipykernel_295660/1711196949.py:23: SettingWithCopyWarning: \n",
      "A value is trying to be set on a copy of a slice from a DataFrame.\n",
      "Try using .loc[row_indexer,col_indexer] = value instead\n",
      "\n",
      "See the caveats in the documentation: https://pandas.pydata.org/pandas-docs/stable/user_guide/indexing.html#returning-a-view-versus-a-copy\n",
      "  br_temp_clean1_time['maximum_cloud_top_height'] = br_temp_clean1_time.apply(\n"
     ]
    },
    {
     "name": "stdout",
     "output_type": "stream",
     "text": [
      "8\n"
     ]
    },
    {
     "name": "stderr",
     "output_type": "stream",
     "text": [
      "/tmp/ipykernel_295660/1711196949.py:23: SettingWithCopyWarning: \n",
      "A value is trying to be set on a copy of a slice from a DataFrame.\n",
      "Try using .loc[row_indexer,col_indexer] = value instead\n",
      "\n",
      "See the caveats in the documentation: https://pandas.pydata.org/pandas-docs/stable/user_guide/indexing.html#returning-a-view-versus-a-copy\n",
      "  br_temp_clean1_time['maximum_cloud_top_height'] = br_temp_clean1_time.apply(\n"
     ]
    },
    {
     "name": "stdout",
     "output_type": "stream",
     "text": [
      "8\n"
     ]
    },
    {
     "name": "stderr",
     "output_type": "stream",
     "text": [
      "/tmp/ipykernel_295660/1711196949.py:23: SettingWithCopyWarning: \n",
      "A value is trying to be set on a copy of a slice from a DataFrame.\n",
      "Try using .loc[row_indexer,col_indexer] = value instead\n",
      "\n",
      "See the caveats in the documentation: https://pandas.pydata.org/pandas-docs/stable/user_guide/indexing.html#returning-a-view-versus-a-copy\n",
      "  br_temp_clean1_time['maximum_cloud_top_height'] = br_temp_clean1_time.apply(\n"
     ]
    },
    {
     "name": "stdout",
     "output_type": "stream",
     "text": [
      "9\n"
     ]
    },
    {
     "name": "stderr",
     "output_type": "stream",
     "text": [
      "/tmp/ipykernel_295660/1711196949.py:23: SettingWithCopyWarning: \n",
      "A value is trying to be set on a copy of a slice from a DataFrame.\n",
      "Try using .loc[row_indexer,col_indexer] = value instead\n",
      "\n",
      "See the caveats in the documentation: https://pandas.pydata.org/pandas-docs/stable/user_guide/indexing.html#returning-a-view-versus-a-copy\n",
      "  br_temp_clean1_time['maximum_cloud_top_height'] = br_temp_clean1_time.apply(\n"
     ]
    },
    {
     "name": "stdout",
     "output_type": "stream",
     "text": [
      "9\n"
     ]
    },
    {
     "name": "stderr",
     "output_type": "stream",
     "text": [
      "/tmp/ipykernel_295660/1711196949.py:23: SettingWithCopyWarning: \n",
      "A value is trying to be set on a copy of a slice from a DataFrame.\n",
      "Try using .loc[row_indexer,col_indexer] = value instead\n",
      "\n",
      "See the caveats in the documentation: https://pandas.pydata.org/pandas-docs/stable/user_guide/indexing.html#returning-a-view-versus-a-copy\n",
      "  br_temp_clean1_time['maximum_cloud_top_height'] = br_temp_clean1_time.apply(\n"
     ]
    },
    {
     "name": "stdout",
     "output_type": "stream",
     "text": [
      "9\n"
     ]
    },
    {
     "name": "stderr",
     "output_type": "stream",
     "text": [
      "/tmp/ipykernel_295660/1711196949.py:23: SettingWithCopyWarning: \n",
      "A value is trying to be set on a copy of a slice from a DataFrame.\n",
      "Try using .loc[row_indexer,col_indexer] = value instead\n",
      "\n",
      "See the caveats in the documentation: https://pandas.pydata.org/pandas-docs/stable/user_guide/indexing.html#returning-a-view-versus-a-copy\n",
      "  br_temp_clean1_time['maximum_cloud_top_height'] = br_temp_clean1_time.apply(\n"
     ]
    },
    {
     "name": "stdout",
     "output_type": "stream",
     "text": [
      "9\n"
     ]
    },
    {
     "name": "stderr",
     "output_type": "stream",
     "text": [
      "/tmp/ipykernel_295660/1711196949.py:23: SettingWithCopyWarning: \n",
      "A value is trying to be set on a copy of a slice from a DataFrame.\n",
      "Try using .loc[row_indexer,col_indexer] = value instead\n",
      "\n",
      "See the caveats in the documentation: https://pandas.pydata.org/pandas-docs/stable/user_guide/indexing.html#returning-a-view-versus-a-copy\n",
      "  br_temp_clean1_time['maximum_cloud_top_height'] = br_temp_clean1_time.apply(\n"
     ]
    },
    {
     "name": "stdout",
     "output_type": "stream",
     "text": [
      "9\n"
     ]
    },
    {
     "name": "stderr",
     "output_type": "stream",
     "text": [
      "/tmp/ipykernel_295660/1711196949.py:23: SettingWithCopyWarning: \n",
      "A value is trying to be set on a copy of a slice from a DataFrame.\n",
      "Try using .loc[row_indexer,col_indexer] = value instead\n",
      "\n",
      "See the caveats in the documentation: https://pandas.pydata.org/pandas-docs/stable/user_guide/indexing.html#returning-a-view-versus-a-copy\n",
      "  br_temp_clean1_time['maximum_cloud_top_height'] = br_temp_clean1_time.apply(\n"
     ]
    },
    {
     "name": "stdout",
     "output_type": "stream",
     "text": [
      "9\n"
     ]
    },
    {
     "name": "stderr",
     "output_type": "stream",
     "text": [
      "/tmp/ipykernel_295660/1711196949.py:23: SettingWithCopyWarning: \n",
      "A value is trying to be set on a copy of a slice from a DataFrame.\n",
      "Try using .loc[row_indexer,col_indexer] = value instead\n",
      "\n",
      "See the caveats in the documentation: https://pandas.pydata.org/pandas-docs/stable/user_guide/indexing.html#returning-a-view-versus-a-copy\n",
      "  br_temp_clean1_time['maximum_cloud_top_height'] = br_temp_clean1_time.apply(\n"
     ]
    },
    {
     "name": "stdout",
     "output_type": "stream",
     "text": [
      "10\n"
     ]
    },
    {
     "name": "stderr",
     "output_type": "stream",
     "text": [
      "/tmp/ipykernel_295660/1711196949.py:23: SettingWithCopyWarning: \n",
      "A value is trying to be set on a copy of a slice from a DataFrame.\n",
      "Try using .loc[row_indexer,col_indexer] = value instead\n",
      "\n",
      "See the caveats in the documentation: https://pandas.pydata.org/pandas-docs/stable/user_guide/indexing.html#returning-a-view-versus-a-copy\n",
      "  br_temp_clean1_time['maximum_cloud_top_height'] = br_temp_clean1_time.apply(\n"
     ]
    },
    {
     "name": "stdout",
     "output_type": "stream",
     "text": [
      "10\n"
     ]
    },
    {
     "name": "stderr",
     "output_type": "stream",
     "text": [
      "/tmp/ipykernel_295660/1711196949.py:23: SettingWithCopyWarning: \n",
      "A value is trying to be set on a copy of a slice from a DataFrame.\n",
      "Try using .loc[row_indexer,col_indexer] = value instead\n",
      "\n",
      "See the caveats in the documentation: https://pandas.pydata.org/pandas-docs/stable/user_guide/indexing.html#returning-a-view-versus-a-copy\n",
      "  br_temp_clean1_time['maximum_cloud_top_height'] = br_temp_clean1_time.apply(\n"
     ]
    },
    {
     "name": "stdout",
     "output_type": "stream",
     "text": [
      "10\n"
     ]
    },
    {
     "name": "stderr",
     "output_type": "stream",
     "text": [
      "/tmp/ipykernel_295660/1711196949.py:23: SettingWithCopyWarning: \n",
      "A value is trying to be set on a copy of a slice from a DataFrame.\n",
      "Try using .loc[row_indexer,col_indexer] = value instead\n",
      "\n",
      "See the caveats in the documentation: https://pandas.pydata.org/pandas-docs/stable/user_guide/indexing.html#returning-a-view-versus-a-copy\n",
      "  br_temp_clean1_time['maximum_cloud_top_height'] = br_temp_clean1_time.apply(\n"
     ]
    },
    {
     "name": "stdout",
     "output_type": "stream",
     "text": [
      "10\n"
     ]
    },
    {
     "name": "stderr",
     "output_type": "stream",
     "text": [
      "/tmp/ipykernel_295660/1711196949.py:23: SettingWithCopyWarning: \n",
      "A value is trying to be set on a copy of a slice from a DataFrame.\n",
      "Try using .loc[row_indexer,col_indexer] = value instead\n",
      "\n",
      "See the caveats in the documentation: https://pandas.pydata.org/pandas-docs/stable/user_guide/indexing.html#returning-a-view-versus-a-copy\n",
      "  br_temp_clean1_time['maximum_cloud_top_height'] = br_temp_clean1_time.apply(\n"
     ]
    },
    {
     "name": "stdout",
     "output_type": "stream",
     "text": [
      "10\n"
     ]
    },
    {
     "name": "stderr",
     "output_type": "stream",
     "text": [
      "/tmp/ipykernel_295660/1711196949.py:23: SettingWithCopyWarning: \n",
      "A value is trying to be set on a copy of a slice from a DataFrame.\n",
      "Try using .loc[row_indexer,col_indexer] = value instead\n",
      "\n",
      "See the caveats in the documentation: https://pandas.pydata.org/pandas-docs/stable/user_guide/indexing.html#returning-a-view-versus-a-copy\n",
      "  br_temp_clean1_time['maximum_cloud_top_height'] = br_temp_clean1_time.apply(\n"
     ]
    },
    {
     "name": "stdout",
     "output_type": "stream",
     "text": [
      "10\n"
     ]
    },
    {
     "name": "stderr",
     "output_type": "stream",
     "text": [
      "/tmp/ipykernel_295660/1711196949.py:23: SettingWithCopyWarning: \n",
      "A value is trying to be set on a copy of a slice from a DataFrame.\n",
      "Try using .loc[row_indexer,col_indexer] = value instead\n",
      "\n",
      "See the caveats in the documentation: https://pandas.pydata.org/pandas-docs/stable/user_guide/indexing.html#returning-a-view-versus-a-copy\n",
      "  br_temp_clean1_time['maximum_cloud_top_height'] = br_temp_clean1_time.apply(\n"
     ]
    },
    {
     "name": "stdout",
     "output_type": "stream",
     "text": [
      "11\n"
     ]
    },
    {
     "name": "stderr",
     "output_type": "stream",
     "text": [
      "/tmp/ipykernel_295660/1711196949.py:23: SettingWithCopyWarning: \n",
      "A value is trying to be set on a copy of a slice from a DataFrame.\n",
      "Try using .loc[row_indexer,col_indexer] = value instead\n",
      "\n",
      "See the caveats in the documentation: https://pandas.pydata.org/pandas-docs/stable/user_guide/indexing.html#returning-a-view-versus-a-copy\n",
      "  br_temp_clean1_time['maximum_cloud_top_height'] = br_temp_clean1_time.apply(\n"
     ]
    },
    {
     "name": "stdout",
     "output_type": "stream",
     "text": [
      "11\n"
     ]
    },
    {
     "name": "stderr",
     "output_type": "stream",
     "text": [
      "/tmp/ipykernel_295660/1711196949.py:23: SettingWithCopyWarning: \n",
      "A value is trying to be set on a copy of a slice from a DataFrame.\n",
      "Try using .loc[row_indexer,col_indexer] = value instead\n",
      "\n",
      "See the caveats in the documentation: https://pandas.pydata.org/pandas-docs/stable/user_guide/indexing.html#returning-a-view-versus-a-copy\n",
      "  br_temp_clean1_time['maximum_cloud_top_height'] = br_temp_clean1_time.apply(\n"
     ]
    },
    {
     "name": "stdout",
     "output_type": "stream",
     "text": [
      "11\n"
     ]
    },
    {
     "name": "stderr",
     "output_type": "stream",
     "text": [
      "/tmp/ipykernel_295660/1711196949.py:23: SettingWithCopyWarning: \n",
      "A value is trying to be set on a copy of a slice from a DataFrame.\n",
      "Try using .loc[row_indexer,col_indexer] = value instead\n",
      "\n",
      "See the caveats in the documentation: https://pandas.pydata.org/pandas-docs/stable/user_guide/indexing.html#returning-a-view-versus-a-copy\n",
      "  br_temp_clean1_time['maximum_cloud_top_height'] = br_temp_clean1_time.apply(\n"
     ]
    },
    {
     "name": "stdout",
     "output_type": "stream",
     "text": [
      "11\n"
     ]
    },
    {
     "name": "stderr",
     "output_type": "stream",
     "text": [
      "/tmp/ipykernel_295660/1711196949.py:23: SettingWithCopyWarning: \n",
      "A value is trying to be set on a copy of a slice from a DataFrame.\n",
      "Try using .loc[row_indexer,col_indexer] = value instead\n",
      "\n",
      "See the caveats in the documentation: https://pandas.pydata.org/pandas-docs/stable/user_guide/indexing.html#returning-a-view-versus-a-copy\n",
      "  br_temp_clean1_time['maximum_cloud_top_height'] = br_temp_clean1_time.apply(\n"
     ]
    },
    {
     "name": "stdout",
     "output_type": "stream",
     "text": [
      "11\n"
     ]
    },
    {
     "name": "stderr",
     "output_type": "stream",
     "text": [
      "/tmp/ipykernel_295660/1711196949.py:23: SettingWithCopyWarning: \n",
      "A value is trying to be set on a copy of a slice from a DataFrame.\n",
      "Try using .loc[row_indexer,col_indexer] = value instead\n",
      "\n",
      "See the caveats in the documentation: https://pandas.pydata.org/pandas-docs/stable/user_guide/indexing.html#returning-a-view-versus-a-copy\n",
      "  br_temp_clean1_time['maximum_cloud_top_height'] = br_temp_clean1_time.apply(\n"
     ]
    },
    {
     "name": "stdout",
     "output_type": "stream",
     "text": [
      "11\n"
     ]
    },
    {
     "name": "stderr",
     "output_type": "stream",
     "text": [
      "/tmp/ipykernel_295660/1711196949.py:23: SettingWithCopyWarning: \n",
      "A value is trying to be set on a copy of a slice from a DataFrame.\n",
      "Try using .loc[row_indexer,col_indexer] = value instead\n",
      "\n",
      "See the caveats in the documentation: https://pandas.pydata.org/pandas-docs/stable/user_guide/indexing.html#returning-a-view-versus-a-copy\n",
      "  br_temp_clean1_time['maximum_cloud_top_height'] = br_temp_clean1_time.apply(\n"
     ]
    }
   ],
   "source": [
    "br_temp_clean1 = pd.read_csv('/data2/edworak/data/bt_df_clean1.nc', usecols = [\"year\", \"month\", \"day\", \"hour\", \"minute\",  \"lat\", \"lon\", \"CMI_C14\"])\n",
    "df_cth_clean1 = pd.read_csv('/data2/edworak/data/cth_df_clean1.nc')\n",
    "\n",
    "cth_bt_clean1 = []\n",
    "\n",
    "# get it all into one \n",
    "# then limit it by time \n",
    "hours = [18, 19, 20, 21, 22, 23, 0, 1, 2, 3, 4, 5]\n",
    "mins = range(0, 60, 10)\n",
    "\n",
    "def find_nearest_max(lat, long):\n",
    "    distances = cth_clean1_time.apply(lambda row: dist(lat, long, row['lat'], row['lon']), axis=1)\n",
    "    return cth_clean1_time.loc[distances.idxmin(), 'maximum_cloud_top_height']\n",
    "\n",
    "for i in range(len(hours)): \n",
    "    for j in range(len(mins)): \n",
    "        print(i)\n",
    "        cth_clean1_time = df_cth_clean1.loc[(df_cth_clean1.hour == hours[i]) & (df_cth_clean1.minute >= mins[j]) & (df_cth_clean1.minute <= mins[j] + 9)]\n",
    "        br_temp_clean1_time = br_temp_clean1.loc[(br_temp_clean1.hour == hours[i])& (br_temp_clean1.minute >= mins[j]) & (br_temp_clean1.minute <= mins[j] + 9)] \n",
    "        \n",
    "        if (len(cth_clean1_time) >0) & (len(br_temp_clean1_time) >0): \n",
    "            \n",
    "            br_temp_clean1_time['maximum_cloud_top_height'] = br_temp_clean1_time.apply(\n",
    "                lambda row: find_nearest_max(row['lat'], row['lon']), axis=1)\n",
    "            \n",
    "            br_temp_clean1_time = pd.merge(br_temp_clean1_time, cth_clean1_time[['maximum_cloud_top_height', 'lat','lon']],on='maximum_cloud_top_height', how='left')\n",
    "\n",
    "            # Rename the new columns as both the columns has same name, and python gets confused \n",
    "            br_temp_clean1_time = br_temp_clean1_time.rename(columns = {'lat_x':'bt_lat','lon_x':'bt_lon',\n",
    "                                                                  'lat_y':'cth_lat','lon_y':'cth_lon'})\n",
    "\n",
    "            br_temp_clean1_time['distance(km)'] = [dist(br_temp_clean1_time.bt_lon[i],br_temp_clean1_time.bt_lat[i],\n",
    "                                                 br_temp_clean1_time.cth_lon[i], br_temp_clean1_time.cth_lat[i]) \n",
    "                                                 for i in range(len(br_temp_clean1_time))]\n",
    "            br_temp_clean1_time['distance(km)'] = br_temp_clean1_time['distance(km)'].round(decimals=3)\n",
    "\n",
    "            if len(cth_bt_clean1) == 0: \n",
    "                cth_bt_clean1 = br_temp_clean1_time\n",
    "            else: \n",
    "                cth_bt_clean1 = pd.concat([cth_bt_clean1, br_temp_clean1_time], axis =0)\n",
    "            cth_bt_clean1\n",
    "            \n",
    "            \n",
    "cth_bt_clean1.to_csv(\"/data2/edworak/data/cth_bt_clean1_raw.nc\")\n"
   ]
  },
  {
   "cell_type": "code",
   "execution_count": 9,
   "id": "c900c59a",
   "metadata": {},
   "outputs": [],
   "source": [
    "cth_bt_clean1 = pd.read_csv(\"/data2/edworak/data/cth_bt_clean1_raw.nc\")\n",
    "\n",
    "cth_bt_clean1 = cth_bt_clean1.sort_values('distance(km)', ascending=True)\n",
    "\n",
    "cth_bt_clean1 = cth_bt_clean1.drop_duplicates(subset=['year', 'month', 'day', 'hour', 'minute', \n",
    "                                                     \"CMI_C14\", \"bt_lat\", \"bt_lon\"], keep='first')\n",
    "\n",
    "cth_bt_clean1 = cth_bt_clean1.sort_index()\n",
    "cth_bt_clean1.to_csv(\"/data2/edworak/data/cth_bt_clean1.nc\")"
   ]
  },
  {
   "cell_type": "code",
   "execution_count": 11,
   "id": "9cc90cb6",
   "metadata": {
    "scrolled": true
   },
   "outputs": [
    {
     "data": {
      "text/html": [
       "<div>\n",
       "<style scoped>\n",
       "    .dataframe tbody tr th:only-of-type {\n",
       "        vertical-align: middle;\n",
       "    }\n",
       "\n",
       "    .dataframe tbody tr th {\n",
       "        vertical-align: top;\n",
       "    }\n",
       "\n",
       "    .dataframe thead th {\n",
       "        text-align: right;\n",
       "    }\n",
       "</style>\n",
       "<table border=\"1\" class=\"dataframe\">\n",
       "  <thead>\n",
       "    <tr style=\"text-align: right;\">\n",
       "      <th></th>\n",
       "      <th>Unnamed: 0.1</th>\n",
       "      <th>Unnamed: 0</th>\n",
       "      <th>year</th>\n",
       "      <th>month</th>\n",
       "      <th>day</th>\n",
       "      <th>hour</th>\n",
       "      <th>minute</th>\n",
       "      <th>bt_lat</th>\n",
       "      <th>bt_lon</th>\n",
       "      <th>CMI_C14</th>\n",
       "      <th>maximum_cloud_top_height</th>\n",
       "      <th>cth_lat</th>\n",
       "      <th>cth_lon</th>\n",
       "      <th>distance(km)</th>\n",
       "    </tr>\n",
       "  </thead>\n",
       "  <tbody>\n",
       "    <tr>\n",
       "      <th>0</th>\n",
       "      <td>768</td>\n",
       "      <td>768</td>\n",
       "      <td>2019</td>\n",
       "      <td>6</td>\n",
       "      <td>8</td>\n",
       "      <td>18</td>\n",
       "      <td>55</td>\n",
       "      <td>54.896385</td>\n",
       "      <td>-118.029740</td>\n",
       "      <td>-50.196106</td>\n",
       "      <td>16971.695312</td>\n",
       "      <td>54.855682</td>\n",
       "      <td>-118.01522</td>\n",
       "      <td>2.670</td>\n",
       "    </tr>\n",
       "    <tr>\n",
       "      <th>1</th>\n",
       "      <td>2962</td>\n",
       "      <td>2962</td>\n",
       "      <td>2019</td>\n",
       "      <td>6</td>\n",
       "      <td>8</td>\n",
       "      <td>18</td>\n",
       "      <td>55</td>\n",
       "      <td>54.898476</td>\n",
       "      <td>-117.992150</td>\n",
       "      <td>-50.974167</td>\n",
       "      <td>16971.695312</td>\n",
       "      <td>54.855682</td>\n",
       "      <td>-118.01522</td>\n",
       "      <td>3.402</td>\n",
       "    </tr>\n",
       "    <tr>\n",
       "      <th>2</th>\n",
       "      <td>5156</td>\n",
       "      <td>5156</td>\n",
       "      <td>2019</td>\n",
       "      <td>6</td>\n",
       "      <td>8</td>\n",
       "      <td>18</td>\n",
       "      <td>55</td>\n",
       "      <td>54.900528</td>\n",
       "      <td>-117.954570</td>\n",
       "      <td>-50.495360</td>\n",
       "      <td>16971.695312</td>\n",
       "      <td>54.855682</td>\n",
       "      <td>-118.01522</td>\n",
       "      <td>7.138</td>\n",
       "    </tr>\n",
       "    <tr>\n",
       "      <th>3</th>\n",
       "      <td>7404</td>\n",
       "      <td>7404</td>\n",
       "      <td>2019</td>\n",
       "      <td>6</td>\n",
       "      <td>8</td>\n",
       "      <td>18</td>\n",
       "      <td>55</td>\n",
       "      <td>54.679604</td>\n",
       "      <td>-118.182240</td>\n",
       "      <td>-50.016556</td>\n",
       "      <td>16971.695312</td>\n",
       "      <td>54.640190</td>\n",
       "      <td>-118.13097</td>\n",
       "      <td>6.064</td>\n",
       "    </tr>\n",
       "    <tr>\n",
       "      <th>4</th>\n",
       "      <td>9598</td>\n",
       "      <td>9598</td>\n",
       "      <td>2019</td>\n",
       "      <td>6</td>\n",
       "      <td>8</td>\n",
       "      <td>18</td>\n",
       "      <td>55</td>\n",
       "      <td>54.644226</td>\n",
       "      <td>-118.056450</td>\n",
       "      <td>-50.255950</td>\n",
       "      <td>16971.695312</td>\n",
       "      <td>54.640190</td>\n",
       "      <td>-118.13097</td>\n",
       "      <td>8.289</td>\n",
       "    </tr>\n",
       "    <tr>\n",
       "      <th>...</th>\n",
       "      <td>...</td>\n",
       "      <td>...</td>\n",
       "      <td>...</td>\n",
       "      <td>...</td>\n",
       "      <td>...</td>\n",
       "      <td>...</td>\n",
       "      <td>...</td>\n",
       "      <td>...</td>\n",
       "      <td>...</td>\n",
       "      <td>...</td>\n",
       "      <td>...</td>\n",
       "      <td>...</td>\n",
       "      <td>...</td>\n",
       "      <td>...</td>\n",
       "    </tr>\n",
       "    <tr>\n",
       "      <th>79415</th>\n",
       "      <td>174238368</td>\n",
       "      <td>69872</td>\n",
       "      <td>2019</td>\n",
       "      <td>6</td>\n",
       "      <td>9</td>\n",
       "      <td>5</td>\n",
       "      <td>55</td>\n",
       "      <td>51.088127</td>\n",
       "      <td>-118.051980</td>\n",
       "      <td>-50.854460</td>\n",
       "      <td>17346.240234</td>\n",
       "      <td>51.127670</td>\n",
       "      <td>-117.99996</td>\n",
       "      <td>6.142</td>\n",
       "    </tr>\n",
       "    <tr>\n",
       "      <th>79416</th>\n",
       "      <td>174240562</td>\n",
       "      <td>72066</td>\n",
       "      <td>2019</td>\n",
       "      <td>6</td>\n",
       "      <td>9</td>\n",
       "      <td>5</td>\n",
       "      <td>55</td>\n",
       "      <td>51.090225</td>\n",
       "      <td>-118.017760</td>\n",
       "      <td>-50.255950</td>\n",
       "      <td>17346.240234</td>\n",
       "      <td>51.127670</td>\n",
       "      <td>-117.99996</td>\n",
       "      <td>2.782</td>\n",
       "    </tr>\n",
       "    <tr>\n",
       "      <th>79417</th>\n",
       "      <td>174242756</td>\n",
       "      <td>74260</td>\n",
       "      <td>2019</td>\n",
       "      <td>6</td>\n",
       "      <td>9</td>\n",
       "      <td>5</td>\n",
       "      <td>55</td>\n",
       "      <td>51.091710</td>\n",
       "      <td>-117.983980</td>\n",
       "      <td>-50.136260</td>\n",
       "      <td>17346.240234</td>\n",
       "      <td>51.127670</td>\n",
       "      <td>-117.99996</td>\n",
       "      <td>2.584</td>\n",
       "    </tr>\n",
       "    <tr>\n",
       "      <th>79418</th>\n",
       "      <td>174244950</td>\n",
       "      <td>76454</td>\n",
       "      <td>2019</td>\n",
       "      <td>6</td>\n",
       "      <td>9</td>\n",
       "      <td>5</td>\n",
       "      <td>55</td>\n",
       "      <td>51.093067</td>\n",
       "      <td>-117.950264</td>\n",
       "      <td>-50.136260</td>\n",
       "      <td>17346.240234</td>\n",
       "      <td>51.127670</td>\n",
       "      <td>-117.99996</td>\n",
       "      <td>5.813</td>\n",
       "    </tr>\n",
       "    <tr>\n",
       "      <th>79419</th>\n",
       "      <td>174247143</td>\n",
       "      <td>78647</td>\n",
       "      <td>2019</td>\n",
       "      <td>6</td>\n",
       "      <td>9</td>\n",
       "      <td>5</td>\n",
       "      <td>55</td>\n",
       "      <td>51.045723</td>\n",
       "      <td>-118.171220</td>\n",
       "      <td>-50.196106</td>\n",
       "      <td>17346.240234</td>\n",
       "      <td>51.119442</td>\n",
       "      <td>-118.16949</td>\n",
       "      <td>3.875</td>\n",
       "    </tr>\n",
       "  </tbody>\n",
       "</table>\n",
       "<p>79420 rows × 14 columns</p>\n",
       "</div>"
      ],
      "text/plain": [
       "       Unnamed: 0.1  Unnamed: 0  year  month  day  hour  minute     bt_lat  \\\n",
       "0               768         768  2019      6    8    18      55  54.896385   \n",
       "1              2962        2962  2019      6    8    18      55  54.898476   \n",
       "2              5156        5156  2019      6    8    18      55  54.900528   \n",
       "3              7404        7404  2019      6    8    18      55  54.679604   \n",
       "4              9598        9598  2019      6    8    18      55  54.644226   \n",
       "...             ...         ...   ...    ...  ...   ...     ...        ...   \n",
       "79415     174238368       69872  2019      6    9     5      55  51.088127   \n",
       "79416     174240562       72066  2019      6    9     5      55  51.090225   \n",
       "79417     174242756       74260  2019      6    9     5      55  51.091710   \n",
       "79418     174244950       76454  2019      6    9     5      55  51.093067   \n",
       "79419     174247143       78647  2019      6    9     5      55  51.045723   \n",
       "\n",
       "           bt_lon    CMI_C14  maximum_cloud_top_height    cth_lat    cth_lon  \\\n",
       "0     -118.029740 -50.196106              16971.695312  54.855682 -118.01522   \n",
       "1     -117.992150 -50.974167              16971.695312  54.855682 -118.01522   \n",
       "2     -117.954570 -50.495360              16971.695312  54.855682 -118.01522   \n",
       "3     -118.182240 -50.016556              16971.695312  54.640190 -118.13097   \n",
       "4     -118.056450 -50.255950              16971.695312  54.640190 -118.13097   \n",
       "...           ...        ...                       ...        ...        ...   \n",
       "79415 -118.051980 -50.854460              17346.240234  51.127670 -117.99996   \n",
       "79416 -118.017760 -50.255950              17346.240234  51.127670 -117.99996   \n",
       "79417 -117.983980 -50.136260              17346.240234  51.127670 -117.99996   \n",
       "79418 -117.950264 -50.136260              17346.240234  51.127670 -117.99996   \n",
       "79419 -118.171220 -50.196106              17346.240234  51.119442 -118.16949   \n",
       "\n",
       "       distance(km)  \n",
       "0             2.670  \n",
       "1             3.402  \n",
       "2             7.138  \n",
       "3             6.064  \n",
       "4             8.289  \n",
       "...             ...  \n",
       "79415         6.142  \n",
       "79416         2.782  \n",
       "79417         2.584  \n",
       "79418         5.813  \n",
       "79419         3.875  \n",
       "\n",
       "[79420 rows x 14 columns]"
      ]
     },
     "execution_count": 11,
     "metadata": {},
     "output_type": "execute_result"
    }
   ],
   "source": [
    "cth_bt_clean1 = pd.read_csv(\"/data2/edworak/data/cth_bt_clean1.nc\")\n",
    "cth_bt_clean1"
   ]
  },
  {
   "cell_type": "markdown",
   "id": "4101fb7d",
   "metadata": {},
   "source": [
    "# AGH"
   ]
  },
  {
   "cell_type": "code",
   "execution_count": 9,
   "id": "7c35469f",
   "metadata": {},
   "outputs": [],
   "source": [
    "def dist(lat1, long1, lat2, long2):\n",
    "    \"\"\"\n",
    "Replicating the same formula as mentioned in Wiki\n",
    "    \"\"\"\n",
    "    # convert decimal degrees to radians \n",
    "    lat1, long1, lat2, long2 = map(radians, [lat1, long1, lat2, long2])\n",
    "    # haversine formula \n",
    "    dlon = long2 - long1 \n",
    "    dlat = lat2 - lat1 \n",
    "    a = sin(dlat/2)**2 + cos(lat1) * cos(lat2) * sin(dlon/2)**2\n",
    "    c = 2 * asin(sqrt(a)) \n",
    "    # Radius of earth in kilometers is 6371\n",
    "    km = 6371* c\n",
    "    return km"
   ]
  },
  {
   "cell_type": "code",
   "execution_count": 13,
   "id": "4f83f1ec",
   "metadata": {},
   "outputs": [],
   "source": [
    "def calculate_distance(lon1, lat1, lon2, lat2):\n",
    "    lon1_rad, lat1_rad, lon2_rad, lat2_rad = np.radians(lon1), np.radians(lat1), np.radians(lon2), np.radians(lat2)\n",
    "    dlon = lon2_rad - lon1_rad\n",
    "    dlat = lat2_rad - lat1_rad\n",
    "    a = np.sin(dlat / 2) ** 2 + np.cos(lat1_rad) * np.cos(lat2_rad) * np.sin(dlon / 2) ** 2\n",
    "    c = 2 * np.arcsin(np.sqrt(a))\n",
    "    return c * 6371  # 6371 is the approximate radius of the Earth in kilometers\n"
   ]
  },
  {
   "cell_type": "code",
   "execution_count": 4,
   "id": "9a0fcb07",
   "metadata": {},
   "outputs": [
    {
     "data": {
      "text/html": [
       "<div>\n",
       "<style scoped>\n",
       "    .dataframe tbody tr th:only-of-type {\n",
       "        vertical-align: middle;\n",
       "    }\n",
       "\n",
       "    .dataframe tbody tr th {\n",
       "        vertical-align: top;\n",
       "    }\n",
       "\n",
       "    .dataframe thead th {\n",
       "        text-align: right;\n",
       "    }\n",
       "</style>\n",
       "<table border=\"1\" class=\"dataframe\">\n",
       "  <thead>\n",
       "    <tr style=\"text-align: right;\">\n",
       "      <th></th>\n",
       "      <th>year</th>\n",
       "      <th>month</th>\n",
       "      <th>day</th>\n",
       "      <th>hour</th>\n",
       "      <th>minute</th>\n",
       "      <th>second</th>\n",
       "      <th>lat</th>\n",
       "      <th>lon</th>\n",
       "      <th>peak-current</th>\n",
       "      <th>C or G</th>\n",
       "      <th>multi</th>\n",
       "      <th>polarity</th>\n",
       "      <th>range</th>\n",
       "    </tr>\n",
       "  </thead>\n",
       "  <tbody>\n",
       "    <tr>\n",
       "      <th>0</th>\n",
       "      <td>2021</td>\n",
       "      <td>6</td>\n",
       "      <td>2</td>\n",
       "      <td>22</td>\n",
       "      <td>15</td>\n",
       "      <td>39</td>\n",
       "      <td>58.073</td>\n",
       "      <td>-119.732</td>\n",
       "      <td>14.7</td>\n",
       "      <td>C</td>\n",
       "      <td>0</td>\n",
       "      <td>+</td>\n",
       "      <td>11817.95</td>\n",
       "    </tr>\n",
       "    <tr>\n",
       "      <th>1</th>\n",
       "      <td>2021</td>\n",
       "      <td>6</td>\n",
       "      <td>2</td>\n",
       "      <td>22</td>\n",
       "      <td>15</td>\n",
       "      <td>40</td>\n",
       "      <td>58.043</td>\n",
       "      <td>-119.737</td>\n",
       "      <td>12.2</td>\n",
       "      <td>C</td>\n",
       "      <td>0</td>\n",
       "      <td>+</td>\n",
       "      <td>11819.49</td>\n",
       "    </tr>\n",
       "    <tr>\n",
       "      <th>2</th>\n",
       "      <td>2021</td>\n",
       "      <td>6</td>\n",
       "      <td>2</td>\n",
       "      <td>22</td>\n",
       "      <td>19</td>\n",
       "      <td>23</td>\n",
       "      <td>58.060</td>\n",
       "      <td>-118.448</td>\n",
       "      <td>-40.3</td>\n",
       "      <td>G</td>\n",
       "      <td>0</td>\n",
       "      <td>-</td>\n",
       "      <td>11818.65</td>\n",
       "    </tr>\n",
       "    <tr>\n",
       "      <th>3</th>\n",
       "      <td>2021</td>\n",
       "      <td>6</td>\n",
       "      <td>2</td>\n",
       "      <td>22</td>\n",
       "      <td>19</td>\n",
       "      <td>23</td>\n",
       "      <td>58.060</td>\n",
       "      <td>-118.449</td>\n",
       "      <td>-22.4</td>\n",
       "      <td>G</td>\n",
       "      <td>0</td>\n",
       "      <td>-</td>\n",
       "      <td>11818.65</td>\n",
       "    </tr>\n",
       "    <tr>\n",
       "      <th>4</th>\n",
       "      <td>2021</td>\n",
       "      <td>6</td>\n",
       "      <td>2</td>\n",
       "      <td>22</td>\n",
       "      <td>19</td>\n",
       "      <td>23</td>\n",
       "      <td>58.059</td>\n",
       "      <td>-118.448</td>\n",
       "      <td>-9.5</td>\n",
       "      <td>G</td>\n",
       "      <td>0</td>\n",
       "      <td>-</td>\n",
       "      <td>11818.68</td>\n",
       "    </tr>\n",
       "    <tr>\n",
       "      <th>...</th>\n",
       "      <td>...</td>\n",
       "      <td>...</td>\n",
       "      <td>...</td>\n",
       "      <td>...</td>\n",
       "      <td>...</td>\n",
       "      <td>...</td>\n",
       "      <td>...</td>\n",
       "      <td>...</td>\n",
       "      <td>...</td>\n",
       "      <td>...</td>\n",
       "      <td>...</td>\n",
       "      <td>...</td>\n",
       "      <td>...</td>\n",
       "    </tr>\n",
       "    <tr>\n",
       "      <th>1308797</th>\n",
       "      <td>2021</td>\n",
       "      <td>7</td>\n",
       "      <td>31</td>\n",
       "      <td>23</td>\n",
       "      <td>55</td>\n",
       "      <td>54</td>\n",
       "      <td>52.396</td>\n",
       "      <td>-123.137</td>\n",
       "      <td>-12.6</td>\n",
       "      <td>G</td>\n",
       "      <td>0</td>\n",
       "      <td>-</td>\n",
       "      <td>12104.32</td>\n",
       "    </tr>\n",
       "    <tr>\n",
       "      <th>1308798</th>\n",
       "      <td>2021</td>\n",
       "      <td>7</td>\n",
       "      <td>31</td>\n",
       "      <td>23</td>\n",
       "      <td>55</td>\n",
       "      <td>54</td>\n",
       "      <td>52.397</td>\n",
       "      <td>-123.148</td>\n",
       "      <td>-17.5</td>\n",
       "      <td>G</td>\n",
       "      <td>0</td>\n",
       "      <td>-</td>\n",
       "      <td>12104.26</td>\n",
       "    </tr>\n",
       "    <tr>\n",
       "      <th>1308799</th>\n",
       "      <td>2021</td>\n",
       "      <td>7</td>\n",
       "      <td>31</td>\n",
       "      <td>23</td>\n",
       "      <td>55</td>\n",
       "      <td>54</td>\n",
       "      <td>52.334</td>\n",
       "      <td>-123.095</td>\n",
       "      <td>-6.7</td>\n",
       "      <td>G</td>\n",
       "      <td>0</td>\n",
       "      <td>-</td>\n",
       "      <td>12107.33</td>\n",
       "    </tr>\n",
       "    <tr>\n",
       "      <th>1308800</th>\n",
       "      <td>2021</td>\n",
       "      <td>7</td>\n",
       "      <td>31</td>\n",
       "      <td>23</td>\n",
       "      <td>56</td>\n",
       "      <td>39</td>\n",
       "      <td>52.323</td>\n",
       "      <td>-122.974</td>\n",
       "      <td>2.4</td>\n",
       "      <td>C</td>\n",
       "      <td>0</td>\n",
       "      <td>+</td>\n",
       "      <td>12107.86</td>\n",
       "    </tr>\n",
       "    <tr>\n",
       "      <th>1308801</th>\n",
       "      <td>2021</td>\n",
       "      <td>7</td>\n",
       "      <td>31</td>\n",
       "      <td>23</td>\n",
       "      <td>59</td>\n",
       "      <td>57</td>\n",
       "      <td>52.412</td>\n",
       "      <td>-123.141</td>\n",
       "      <td>8.0</td>\n",
       "      <td>C</td>\n",
       "      <td>0</td>\n",
       "      <td>+</td>\n",
       "      <td>12103.51</td>\n",
       "    </tr>\n",
       "  </tbody>\n",
       "</table>\n",
       "<p>1308802 rows × 13 columns</p>\n",
       "</div>"
      ],
      "text/plain": [
       "         year  month  day  hour  minute second     lat      lon  peak-current  \\\n",
       "0        2021      6    2    22      15     39  58.073 -119.732          14.7   \n",
       "1        2021      6    2    22      15     40  58.043 -119.737          12.2   \n",
       "2        2021      6    2    22      19     23  58.060 -118.448         -40.3   \n",
       "3        2021      6    2    22      19     23  58.060 -118.449         -22.4   \n",
       "4        2021      6    2    22      19     23  58.059 -118.448          -9.5   \n",
       "...       ...    ...  ...   ...     ...    ...     ...      ...           ...   \n",
       "1308797  2021      7   31    23      55     54  52.396 -123.137         -12.6   \n",
       "1308798  2021      7   31    23      55     54  52.397 -123.148         -17.5   \n",
       "1308799  2021      7   31    23      55     54  52.334 -123.095          -6.7   \n",
       "1308800  2021      7   31    23      56     39  52.323 -122.974           2.4   \n",
       "1308801  2021      7   31    23      59     57  52.412 -123.141           8.0   \n",
       "\n",
       "        C or G  multi polarity     range  \n",
       "0            C      0        +  11817.95  \n",
       "1            C      0        +  11819.49  \n",
       "2            G      0        -  11818.65  \n",
       "3            G      0        -  11818.65  \n",
       "4            G      0        -  11818.68  \n",
       "...        ...    ...      ...       ...  \n",
       "1308797      G      0        -  12104.32  \n",
       "1308798      G      0        -  12104.26  \n",
       "1308799      G      0        -  12107.33  \n",
       "1308800      C      0        +  12107.86  \n",
       "1308801      C      0        +  12103.51  \n",
       "\n",
       "[1308802 rows x 13 columns]"
      ]
     },
     "execution_count": 4,
     "metadata": {},
     "output_type": "execute_result"
    }
   ],
   "source": [
    "data = pd.read_csv(\"/data2/edworak/data/2021_2022_acdegiklmnoprstuvzACEGKLMNRST4_sc.txt\", names = [\"a\", \"c\", \"Date\", \"e\", \"lon\", \"i\", \"peak-current\", \"lat\", \"m\", \"n\", \"o\", \"polarity\", \"range\", \"signal\", \"time\", \"u\", \"v\", \"z\", \"A\", \"C\", \"E\", \"C or G\", \"mag_current\", \"lat2\", \"m2\", \"time_nano\", \"R\", \"S\", \"T\", \"latlon\"], delim_whitespace = True, skiprows = 0)\n",
    "data2 = pd.read_csv(\"/data2/edworak/data/2021_2022_acdegiklmnoprstuvzACEGKLMNRST4_sc.txt\", names = [\"Date\", \"lon\",\"peak-current\", \"lat\", \"multi\", \"polarity\", \"range\", \"Time\", \"C or G\" ], delim_whitespace = True, skiprows = 0, usecols = [3,5,7,9,10,13,14,17,24])\n",
    "data2[[\"year\", \"month\", \"day\"]] = data2[\"Date\"].str.split(\"-\", expand = True)\n",
    "data2[[\"hour\", \"minute\", \"second\"]] = data2[\"Time\"].str.split(\":\", expand = True)\n",
    "data2['year'] = data2['year'].astype('int')\n",
    "data2['month'] = data2['month'].astype('int')\n",
    "data2['day'] = data2['day'].astype('int')\n",
    "data2['hour'] = data2['hour'].astype('int')\n",
    "data2['minute'] = data2['minute'].astype('int')\n",
    "data_split2 = data2[[\"year\", \"month\", \"day\", \"hour\", \"minute\", \"second\", \"lat\", \"lon\", \"peak-current\", \"C or G\", \"multi\", \"polarity\", \"range\"]]\n",
    "\n",
    "data_split2"
   ]
  },
  {
   "cell_type": "code",
   "execution_count": 5,
   "id": "13d3d9d8",
   "metadata": {},
   "outputs": [
    {
     "data": {
      "text/html": [
       "<div>\n",
       "<style scoped>\n",
       "    .dataframe tbody tr th:only-of-type {\n",
       "        vertical-align: middle;\n",
       "    }\n",
       "\n",
       "    .dataframe tbody tr th {\n",
       "        vertical-align: top;\n",
       "    }\n",
       "\n",
       "    .dataframe thead th {\n",
       "        text-align: right;\n",
       "    }\n",
       "</style>\n",
       "<table border=\"1\" class=\"dataframe\">\n",
       "  <thead>\n",
       "    <tr style=\"text-align: right;\">\n",
       "      <th></th>\n",
       "      <th>year</th>\n",
       "      <th>month</th>\n",
       "      <th>day</th>\n",
       "      <th>hour</th>\n",
       "      <th>minute</th>\n",
       "      <th>second</th>\n",
       "      <th>lat</th>\n",
       "      <th>lon</th>\n",
       "      <th>peak-current</th>\n",
       "      <th>C or G</th>\n",
       "    </tr>\n",
       "  </thead>\n",
       "  <tbody>\n",
       "    <tr>\n",
       "      <th>112391</th>\n",
       "      <td>2021</td>\n",
       "      <td>6</td>\n",
       "      <td>15</td>\n",
       "      <td>18</td>\n",
       "      <td>0</td>\n",
       "      <td>01.838311680</td>\n",
       "      <td>54.3720</td>\n",
       "      <td>-114.9640</td>\n",
       "      <td>-12.4</td>\n",
       "      <td>G</td>\n",
       "    </tr>\n",
       "    <tr>\n",
       "      <th>112392</th>\n",
       "      <td>2021</td>\n",
       "      <td>6</td>\n",
       "      <td>15</td>\n",
       "      <td>18</td>\n",
       "      <td>0</td>\n",
       "      <td>02.672797952</td>\n",
       "      <td>54.9954</td>\n",
       "      <td>-114.5772</td>\n",
       "      <td>23.1</td>\n",
       "      <td>G</td>\n",
       "    </tr>\n",
       "    <tr>\n",
       "      <th>112393</th>\n",
       "      <td>2021</td>\n",
       "      <td>6</td>\n",
       "      <td>15</td>\n",
       "      <td>18</td>\n",
       "      <td>0</td>\n",
       "      <td>02.675810560</td>\n",
       "      <td>54.9930</td>\n",
       "      <td>-114.5842</td>\n",
       "      <td>-87.3</td>\n",
       "      <td>G</td>\n",
       "    </tr>\n",
       "    <tr>\n",
       "      <th>112394</th>\n",
       "      <td>2021</td>\n",
       "      <td>6</td>\n",
       "      <td>15</td>\n",
       "      <td>18</td>\n",
       "      <td>0</td>\n",
       "      <td>02.701090304</td>\n",
       "      <td>54.9968</td>\n",
       "      <td>-114.5735</td>\n",
       "      <td>-15.6</td>\n",
       "      <td>C</td>\n",
       "    </tr>\n",
       "    <tr>\n",
       "      <th>112395</th>\n",
       "      <td>2021</td>\n",
       "      <td>6</td>\n",
       "      <td>15</td>\n",
       "      <td>18</td>\n",
       "      <td>0</td>\n",
       "      <td>02.706437888</td>\n",
       "      <td>54.9714</td>\n",
       "      <td>-114.5681</td>\n",
       "      <td>-15.6</td>\n",
       "      <td>G</td>\n",
       "    </tr>\n",
       "    <tr>\n",
       "      <th>...</th>\n",
       "      <td>...</td>\n",
       "      <td>...</td>\n",
       "      <td>...</td>\n",
       "      <td>...</td>\n",
       "      <td>...</td>\n",
       "      <td>...</td>\n",
       "      <td>...</td>\n",
       "      <td>...</td>\n",
       "      <td>...</td>\n",
       "      <td>...</td>\n",
       "    </tr>\n",
       "    <tr>\n",
       "      <th>120253</th>\n",
       "      <td>2021</td>\n",
       "      <td>6</td>\n",
       "      <td>15</td>\n",
       "      <td>23</td>\n",
       "      <td>59</td>\n",
       "      <td>48</td>\n",
       "      <td>59.2990</td>\n",
       "      <td>-115.3530</td>\n",
       "      <td>-15.8</td>\n",
       "      <td>G</td>\n",
       "    </tr>\n",
       "    <tr>\n",
       "      <th>120254</th>\n",
       "      <td>2021</td>\n",
       "      <td>6</td>\n",
       "      <td>15</td>\n",
       "      <td>23</td>\n",
       "      <td>59</td>\n",
       "      <td>49</td>\n",
       "      <td>59.3110</td>\n",
       "      <td>-115.2900</td>\n",
       "      <td>7.0</td>\n",
       "      <td>C</td>\n",
       "    </tr>\n",
       "    <tr>\n",
       "      <th>120256</th>\n",
       "      <td>2021</td>\n",
       "      <td>6</td>\n",
       "      <td>15</td>\n",
       "      <td>23</td>\n",
       "      <td>59</td>\n",
       "      <td>54</td>\n",
       "      <td>59.3270</td>\n",
       "      <td>-115.1040</td>\n",
       "      <td>6.1</td>\n",
       "      <td>C</td>\n",
       "    </tr>\n",
       "    <tr>\n",
       "      <th>120257</th>\n",
       "      <td>2021</td>\n",
       "      <td>6</td>\n",
       "      <td>15</td>\n",
       "      <td>23</td>\n",
       "      <td>59</td>\n",
       "      <td>55</td>\n",
       "      <td>53.6360</td>\n",
       "      <td>-115.8750</td>\n",
       "      <td>11.8</td>\n",
       "      <td>C</td>\n",
       "    </tr>\n",
       "    <tr>\n",
       "      <th>120258</th>\n",
       "      <td>2021</td>\n",
       "      <td>6</td>\n",
       "      <td>15</td>\n",
       "      <td>23</td>\n",
       "      <td>59</td>\n",
       "      <td>56</td>\n",
       "      <td>59.9540</td>\n",
       "      <td>-115.5400</td>\n",
       "      <td>-17.3</td>\n",
       "      <td>G</td>\n",
       "    </tr>\n",
       "  </tbody>\n",
       "</table>\n",
       "<p>26389 rows × 10 columns</p>\n",
       "</div>"
      ],
      "text/plain": [
       "        year  month  day  hour  minute        second      lat       lon  \\\n",
       "112391  2021      6   15    18       0  01.838311680  54.3720 -114.9640   \n",
       "112392  2021      6   15    18       0  02.672797952  54.9954 -114.5772   \n",
       "112393  2021      6   15    18       0  02.675810560  54.9930 -114.5842   \n",
       "112394  2021      6   15    18       0  02.701090304  54.9968 -114.5735   \n",
       "112395  2021      6   15    18       0  02.706437888  54.9714 -114.5681   \n",
       "...      ...    ...  ...   ...     ...           ...      ...       ...   \n",
       "120253  2021      6   15    23      59            48  59.2990 -115.3530   \n",
       "120254  2021      6   15    23      59            49  59.3110 -115.2900   \n",
       "120256  2021      6   15    23      59            54  59.3270 -115.1040   \n",
       "120257  2021      6   15    23      59            55  53.6360 -115.8750   \n",
       "120258  2021      6   15    23      59            56  59.9540 -115.5400   \n",
       "\n",
       "        peak-current C or G  \n",
       "112391         -12.4      G  \n",
       "112392          23.1      G  \n",
       "112393         -87.3      G  \n",
       "112394         -15.6      C  \n",
       "112395         -15.6      G  \n",
       "...              ...    ...  \n",
       "120253         -15.8      G  \n",
       "120254           7.0      C  \n",
       "120256           6.1      C  \n",
       "120257          11.8      C  \n",
       "120258         -17.3      G  \n",
       "\n",
       "[26389 rows x 10 columns]"
      ]
     },
     "execution_count": 5,
     "metadata": {},
     "output_type": "execute_result"
    }
   ],
   "source": [
    "data3 = pd.read_csv(\"/data2/edworak/data/2021_sc_dN4KG 2.csv\", names = [\"Date\", \"Time\", \"lat\", \"lon\", \"peak-current\", \"C or G\"],  delimiter = \",\", skiprows = 0)\n",
    "data3[[\"year\", \"month\", \"day\"]] = data3[\"Date\"].str.split(\"-\", expand = True)\n",
    "data3[[\"hour\", \"minute\", \"second\"]] = data3[\"Time\"].str.split(\":\", expand = True)\n",
    "data3['year'] = data3['year'].astype('int')\n",
    "data3['month'] = data3['month'].astype('int')\n",
    "data3['day'] = data3['day'].astype('int')\n",
    "data3['hour'] = data3['hour'].astype('int')\n",
    "data3['minute'] = data3['minute'].astype('int')\n",
    "data4 = data3[[\"year\", \"month\", \"day\", \"hour\", \"minute\", \"second\", \"lat\", \"lon\", \"peak-current\", \"C or G\"]]\n",
    "\n",
    "data_15_east = data4.loc[(data4[\"day\"] == 15) & (data4[\"hour\"] >= 18) & (data4[\"hour\"] <= 23)]\n",
    "data_15_west = data_split2.loc[(data_split2[\"day\"] == 15) & (data_split2[\"hour\"]>= 18) & (data_split2[\"hour\"]<= 23)]\n",
    "frames3 = [data_15_east, data_15_west]\n",
    "data_nosmoke_extra= pd.concat(frames3)\n",
    "data_nosmoke = data_nosmoke_extra[[\"year\", \"month\", \"day\", \"hour\", \"minute\", \"second\", \"lat\", \"lon\", \"peak-current\", \"C or G\"]]\n",
    "lightning_clean5 = data_nosmoke.loc[(data_nosmoke[\"lat\"] >= 53) & (data_nosmoke[\"lat\"] <= 60) & (data_nosmoke[\"lon\"] >= -117) &(data_nosmoke[\"lon\"] <= -110)]\n",
    "lightning_clean5"
   ]
  },
  {
   "cell_type": "code",
   "execution_count": 7,
   "id": "652222d9",
   "metadata": {},
   "outputs": [
    {
     "data": {
      "text/html": [
       "<div>\n",
       "<style scoped>\n",
       "    .dataframe tbody tr th:only-of-type {\n",
       "        vertical-align: middle;\n",
       "    }\n",
       "\n",
       "    .dataframe tbody tr th {\n",
       "        vertical-align: top;\n",
       "    }\n",
       "\n",
       "    .dataframe thead th {\n",
       "        text-align: right;\n",
       "    }\n",
       "</style>\n",
       "<table border=\"1\" class=\"dataframe\">\n",
       "  <thead>\n",
       "    <tr style=\"text-align: right;\">\n",
       "      <th></th>\n",
       "      <th>year</th>\n",
       "      <th>month</th>\n",
       "      <th>day</th>\n",
       "      <th>hour</th>\n",
       "      <th>minute</th>\n",
       "      <th>tlat</th>\n",
       "      <th>tlon</th>\n",
       "      <th>CMI_C14</th>\n",
       "    </tr>\n",
       "  </thead>\n",
       "  <tbody>\n",
       "    <tr>\n",
       "      <th>0</th>\n",
       "      <td>2021</td>\n",
       "      <td>6</td>\n",
       "      <td>15</td>\n",
       "      <td>23</td>\n",
       "      <td>55</td>\n",
       "      <td>59.575569</td>\n",
       "      <td>-117.320033</td>\n",
       "      <td>-51.692383</td>\n",
       "    </tr>\n",
       "    <tr>\n",
       "      <th>1</th>\n",
       "      <td>2021</td>\n",
       "      <td>6</td>\n",
       "      <td>15</td>\n",
       "      <td>22</td>\n",
       "      <td>55</td>\n",
       "      <td>59.574097</td>\n",
       "      <td>-117.321280</td>\n",
       "      <td>-51.093872</td>\n",
       "    </tr>\n",
       "    <tr>\n",
       "      <th>2</th>\n",
       "      <td>2021</td>\n",
       "      <td>6</td>\n",
       "      <td>15</td>\n",
       "      <td>22</td>\n",
       "      <td>45</td>\n",
       "      <td>59.580708</td>\n",
       "      <td>-117.273440</td>\n",
       "      <td>-50.136260</td>\n",
       "    </tr>\n",
       "    <tr>\n",
       "      <th>3</th>\n",
       "      <td>2021</td>\n",
       "      <td>6</td>\n",
       "      <td>15</td>\n",
       "      <td>23</td>\n",
       "      <td>45</td>\n",
       "      <td>59.579303</td>\n",
       "      <td>-117.232357</td>\n",
       "      <td>-51.093872</td>\n",
       "    </tr>\n",
       "    <tr>\n",
       "      <th>4</th>\n",
       "      <td>2021</td>\n",
       "      <td>6</td>\n",
       "      <td>15</td>\n",
       "      <td>23</td>\n",
       "      <td>25</td>\n",
       "      <td>59.587322</td>\n",
       "      <td>-117.183308</td>\n",
       "      <td>-50.196106</td>\n",
       "    </tr>\n",
       "    <tr>\n",
       "      <th>...</th>\n",
       "      <td>...</td>\n",
       "      <td>...</td>\n",
       "      <td>...</td>\n",
       "      <td>...</td>\n",
       "      <td>...</td>\n",
       "      <td>...</td>\n",
       "      <td>...</td>\n",
       "      <td>...</td>\n",
       "    </tr>\n",
       "    <tr>\n",
       "      <th>273174</th>\n",
       "      <td>2021</td>\n",
       "      <td>6</td>\n",
       "      <td>15</td>\n",
       "      <td>20</td>\n",
       "      <td>5</td>\n",
       "      <td>54.565652</td>\n",
       "      <td>-113.650556</td>\n",
       "      <td>-52.111330</td>\n",
       "    </tr>\n",
       "    <tr>\n",
       "      <th>273175</th>\n",
       "      <td>2021</td>\n",
       "      <td>6</td>\n",
       "      <td>15</td>\n",
       "      <td>20</td>\n",
       "      <td>5</td>\n",
       "      <td>54.568421</td>\n",
       "      <td>-113.610646</td>\n",
       "      <td>-52.111330</td>\n",
       "    </tr>\n",
       "    <tr>\n",
       "      <th>273176</th>\n",
       "      <td>2021</td>\n",
       "      <td>6</td>\n",
       "      <td>15</td>\n",
       "      <td>20</td>\n",
       "      <td>5</td>\n",
       "      <td>54.571345</td>\n",
       "      <td>-113.570546</td>\n",
       "      <td>-51.692383</td>\n",
       "    </tr>\n",
       "    <tr>\n",
       "      <th>273177</th>\n",
       "      <td>2021</td>\n",
       "      <td>6</td>\n",
       "      <td>15</td>\n",
       "      <td>20</td>\n",
       "      <td>5</td>\n",
       "      <td>54.572945</td>\n",
       "      <td>-113.538719</td>\n",
       "      <td>-51.393127</td>\n",
       "    </tr>\n",
       "    <tr>\n",
       "      <th>273178</th>\n",
       "      <td>2021</td>\n",
       "      <td>6</td>\n",
       "      <td>15</td>\n",
       "      <td>20</td>\n",
       "      <td>5</td>\n",
       "      <td>54.575524</td>\n",
       "      <td>-113.498909</td>\n",
       "      <td>-50.615050</td>\n",
       "    </tr>\n",
       "  </tbody>\n",
       "</table>\n",
       "<p>273179 rows × 8 columns</p>\n",
       "</div>"
      ],
      "text/plain": [
       "        year  month  day  hour  minute       tlat        tlon    CMI_C14\n",
       "0       2021      6   15    23      55  59.575569 -117.320033 -51.692383\n",
       "1       2021      6   15    22      55  59.574097 -117.321280 -51.093872\n",
       "2       2021      6   15    22      45  59.580708 -117.273440 -50.136260\n",
       "3       2021      6   15    23      45  59.579303 -117.232357 -51.093872\n",
       "4       2021      6   15    23      25  59.587322 -117.183308 -50.196106\n",
       "...      ...    ...  ...   ...     ...        ...         ...        ...\n",
       "273174  2021      6   15    20       5  54.565652 -113.650556 -52.111330\n",
       "273175  2021      6   15    20       5  54.568421 -113.610646 -52.111330\n",
       "273176  2021      6   15    20       5  54.571345 -113.570546 -51.692383\n",
       "273177  2021      6   15    20       5  54.572945 -113.538719 -51.393127\n",
       "273178  2021      6   15    20       5  54.575524 -113.498909 -50.615050\n",
       "\n",
       "[273179 rows x 8 columns]"
      ]
     },
     "execution_count": 7,
     "metadata": {},
     "output_type": "execute_result"
    }
   ],
   "source": [
    "correct_bt_clean5 = pd.read_csv(\"/data2/edworak/data/correct_bt_clean5.nc\", usecols = [1, 2, 3, 4, 5, 6, 7, 8])\n",
    "correct_bt_clean5"
   ]
  },
  {
   "cell_type": "code",
   "execution_count": 14,
   "id": "2bbcedb1",
   "metadata": {
    "collapsed": true
   },
   "outputs": [
    {
     "name": "stdout",
     "output_type": "stream",
     "text": [
      "0\n",
      "0\n",
      "0\n",
      "0\n",
      "0\n",
      "0\n",
      "0\n",
      "0\n",
      "0\n",
      "0\n",
      "0\n",
      "0\n",
      "1\n",
      "1\n",
      "1\n",
      "1\n",
      "1\n",
      "1\n",
      "1\n",
      "1\n",
      "1\n",
      "1\n",
      "1\n",
      "1\n",
      "2\n",
      "2\n",
      "2\n",
      "2\n",
      "2\n",
      "2\n",
      "2\n",
      "2\n",
      "2\n",
      "2\n",
      "2\n",
      "2\n",
      "3\n",
      "3\n",
      "3\n",
      "3\n",
      "3\n",
      "3\n",
      "3\n",
      "3\n",
      "3\n",
      "3\n",
      "3\n",
      "3\n",
      "4\n",
      "4\n",
      "4\n",
      "4\n",
      "4\n",
      "4\n",
      "4\n",
      "4\n",
      "4\n",
      "4\n",
      "4\n",
      "4\n",
      "5\n",
      "5\n",
      "5\n",
      "5\n",
      "5\n",
      "5\n",
      "5\n",
      "5\n",
      "5\n",
      "5\n",
      "5\n",
      "5\n"
     ]
    }
   ],
   "source": [
    "lightning_df_clean5 = pd.DataFrame()\n",
    "\n",
    "\n",
    "hours = [18, 19, 20, 21, 22, 23]\n",
    "mins = range(0, 60, 5)\n",
    "\n",
    "def find_nearest_clean5(lat, long):\n",
    "    distances = correct_bt_clean5_time.apply(lambda row: dist(lat, long, row['tlat'], row['tlon']), axis=1)\n",
    "    return correct_bt_clean5_time.loc[distances.idxmin(), \"CMI_C14\"]\n",
    "\n",
    "for i in range(len(hours)): \n",
    "    for j in range(len(mins)): \n",
    "        print(i)\n",
    "\n",
    "        data_clean5_time = lightning_clean5.loc[(lightning_clean5.hour == hours[i]) & (lightning_clean5.minute >= mins[j]) & (lightning_clean5.minute <= mins[j] + 9)]\n",
    "        correct_bt_clean5_time = correct_bt_clean5.loc[(correct_bt_clean5.hour == hours[i])& (correct_bt_clean5.minute >= mins[j]) & (correct_bt_clean5.minute <= mins[j] + 9)] \n",
    "        \n",
    "        if not data_clean5_time.empty and not correct_bt_clean5_time.empty: \n",
    "            data_clean5_time = data_clean5_time.copy()\n",
    "            correct_bt_clean5_time = correct_bt_clean5_time.copy()\n",
    "            \n",
    "            data_clean5_time['CMI_C14'] = data_clean5_time.apply(\n",
    "                lambda row: find_nearest_clean5(row['lat'], row['lon']), axis=1)\n",
    "\n",
    "            data_clean5_time = pd.merge(data_clean5_time, correct_bt_clean5_time[['CMI_C14','tlat','tlon']],on='CMI_C14', how='left')\n",
    "\n",
    "\n",
    "            # Rename the new columns as both the columns has same name, and python gets confused \n",
    "            data_clean5_time = data_clean5_time.rename(columns = {'lat_x':'l_lat','lon_x':'l_lon',\n",
    "                                                                  'lat_y':'tlat','lon_y':'tlon'})\n",
    "\n",
    "            data_clean5_time['distance(km)'] = calculate_distance(data_clean5_time.lon, data_clean5_time.lat,\n",
    "                                                 data_clean5_time.tlon, data_clean5_time.tlat)\n",
    "            \n",
    "            data_clean5_time = data_clean5_time[data_clean5_time['distance(km)'] <= 50]\n",
    "            data_clean5_time['distance(km)'] = data_clean5_time['distance(km)'].round(decimals=3)\n",
    "\n",
    "            if lightning_df_clean5.empty: \n",
    "                lightning_df_clean5 = data_clean5_time\n",
    "                \n",
    "            else: \n",
    "                lightning_df_clean5 = pd.concat([lightning_df_clean5, data_clean5_time], axis =0)\n",
    "            lightning_df_clean5"
   ]
  },
  {
   "cell_type": "code",
   "execution_count": 16,
   "id": "c311bc6d",
   "metadata": {},
   "outputs": [
    {
     "data": {
      "text/html": [
       "<div>\n",
       "<style scoped>\n",
       "    .dataframe tbody tr th:only-of-type {\n",
       "        vertical-align: middle;\n",
       "    }\n",
       "\n",
       "    .dataframe tbody tr th {\n",
       "        vertical-align: top;\n",
       "    }\n",
       "\n",
       "    .dataframe thead th {\n",
       "        text-align: right;\n",
       "    }\n",
       "</style>\n",
       "<table border=\"1\" class=\"dataframe\">\n",
       "  <thead>\n",
       "    <tr style=\"text-align: right;\">\n",
       "      <th></th>\n",
       "      <th>year</th>\n",
       "      <th>month</th>\n",
       "      <th>day</th>\n",
       "      <th>hour</th>\n",
       "      <th>minute</th>\n",
       "      <th>second</th>\n",
       "      <th>lat</th>\n",
       "      <th>lon</th>\n",
       "      <th>peak-current</th>\n",
       "      <th>C or G</th>\n",
       "      <th>CMI_C14</th>\n",
       "      <th>tlat</th>\n",
       "      <th>tlon</th>\n",
       "      <th>distance(km)</th>\n",
       "    </tr>\n",
       "  </thead>\n",
       "  <tbody>\n",
       "    <tr>\n",
       "      <th>12</th>\n",
       "      <td>2021</td>\n",
       "      <td>6</td>\n",
       "      <td>15</td>\n",
       "      <td>18</td>\n",
       "      <td>0</td>\n",
       "      <td>01.838311680</td>\n",
       "      <td>54.372</td>\n",
       "      <td>-114.964</td>\n",
       "      <td>-12.4</td>\n",
       "      <td>G</td>\n",
       "      <td>-58.216095</td>\n",
       "      <td>54.685743</td>\n",
       "      <td>-114.432225</td>\n",
       "      <td>48.933</td>\n",
       "    </tr>\n",
       "    <tr>\n",
       "      <th>17</th>\n",
       "      <td>2021</td>\n",
       "      <td>6</td>\n",
       "      <td>15</td>\n",
       "      <td>18</td>\n",
       "      <td>0</td>\n",
       "      <td>01.838311680</td>\n",
       "      <td>54.372</td>\n",
       "      <td>-114.964</td>\n",
       "      <td>-12.4</td>\n",
       "      <td>G</td>\n",
       "      <td>-58.216095</td>\n",
       "      <td>54.520937</td>\n",
       "      <td>-115.052560</td>\n",
       "      <td>17.523</td>\n",
       "    </tr>\n",
       "    <tr>\n",
       "      <th>18</th>\n",
       "      <td>2021</td>\n",
       "      <td>6</td>\n",
       "      <td>15</td>\n",
       "      <td>18</td>\n",
       "      <td>0</td>\n",
       "      <td>01.838311680</td>\n",
       "      <td>54.372</td>\n",
       "      <td>-114.964</td>\n",
       "      <td>-12.4</td>\n",
       "      <td>G</td>\n",
       "      <td>-58.216095</td>\n",
       "      <td>54.539462</td>\n",
       "      <td>-114.747889</td>\n",
       "      <td>23.279</td>\n",
       "    </tr>\n",
       "    <tr>\n",
       "      <th>19</th>\n",
       "      <td>2021</td>\n",
       "      <td>6</td>\n",
       "      <td>15</td>\n",
       "      <td>18</td>\n",
       "      <td>0</td>\n",
       "      <td>01.838311680</td>\n",
       "      <td>54.372</td>\n",
       "      <td>-114.964</td>\n",
       "      <td>-12.4</td>\n",
       "      <td>G</td>\n",
       "      <td>-58.216095</td>\n",
       "      <td>54.542342</td>\n",
       "      <td>-114.708379</td>\n",
       "      <td>25.135</td>\n",
       "    </tr>\n",
       "    <tr>\n",
       "      <th>22</th>\n",
       "      <td>2021</td>\n",
       "      <td>6</td>\n",
       "      <td>15</td>\n",
       "      <td>18</td>\n",
       "      <td>0</td>\n",
       "      <td>01.838311680</td>\n",
       "      <td>54.372</td>\n",
       "      <td>-114.964</td>\n",
       "      <td>-12.4</td>\n",
       "      <td>G</td>\n",
       "      <td>-58.216095</td>\n",
       "      <td>54.491423</td>\n",
       "      <td>-114.854029</td>\n",
       "      <td>15.064</td>\n",
       "    </tr>\n",
       "    <tr>\n",
       "      <th>...</th>\n",
       "      <td>...</td>\n",
       "      <td>...</td>\n",
       "      <td>...</td>\n",
       "      <td>...</td>\n",
       "      <td>...</td>\n",
       "      <td>...</td>\n",
       "      <td>...</td>\n",
       "      <td>...</td>\n",
       "      <td>...</td>\n",
       "      <td>...</td>\n",
       "      <td>...</td>\n",
       "      <td>...</td>\n",
       "      <td>...</td>\n",
       "      <td>...</td>\n",
       "    </tr>\n",
       "    <tr>\n",
       "      <th>16827</th>\n",
       "      <td>2021</td>\n",
       "      <td>6</td>\n",
       "      <td>15</td>\n",
       "      <td>23</td>\n",
       "      <td>59</td>\n",
       "      <td>54</td>\n",
       "      <td>59.327</td>\n",
       "      <td>-115.104</td>\n",
       "      <td>6.1</td>\n",
       "      <td>C</td>\n",
       "      <td>-60.729828</td>\n",
       "      <td>59.169904</td>\n",
       "      <td>-115.045471</td>\n",
       "      <td>17.782</td>\n",
       "    </tr>\n",
       "    <tr>\n",
       "      <th>16829</th>\n",
       "      <td>2021</td>\n",
       "      <td>6</td>\n",
       "      <td>15</td>\n",
       "      <td>23</td>\n",
       "      <td>59</td>\n",
       "      <td>54</td>\n",
       "      <td>59.327</td>\n",
       "      <td>-115.104</td>\n",
       "      <td>6.1</td>\n",
       "      <td>C</td>\n",
       "      <td>-60.729828</td>\n",
       "      <td>58.950396</td>\n",
       "      <td>-115.287816</td>\n",
       "      <td>43.169</td>\n",
       "    </tr>\n",
       "    <tr>\n",
       "      <th>16830</th>\n",
       "      <td>2021</td>\n",
       "      <td>6</td>\n",
       "      <td>15</td>\n",
       "      <td>23</td>\n",
       "      <td>59</td>\n",
       "      <td>54</td>\n",
       "      <td>59.327</td>\n",
       "      <td>-115.104</td>\n",
       "      <td>6.1</td>\n",
       "      <td>C</td>\n",
       "      <td>-60.729828</td>\n",
       "      <td>58.965466</td>\n",
       "      <td>-115.072761</td>\n",
       "      <td>40.240</td>\n",
       "    </tr>\n",
       "    <tr>\n",
       "      <th>16831</th>\n",
       "      <td>2021</td>\n",
       "      <td>6</td>\n",
       "      <td>15</td>\n",
       "      <td>23</td>\n",
       "      <td>59</td>\n",
       "      <td>54</td>\n",
       "      <td>59.327</td>\n",
       "      <td>-115.104</td>\n",
       "      <td>6.1</td>\n",
       "      <td>C</td>\n",
       "      <td>-60.729828</td>\n",
       "      <td>58.977605</td>\n",
       "      <td>-114.892761</td>\n",
       "      <td>40.675</td>\n",
       "    </tr>\n",
       "    <tr>\n",
       "      <th>16859</th>\n",
       "      <td>2021</td>\n",
       "      <td>6</td>\n",
       "      <td>15</td>\n",
       "      <td>23</td>\n",
       "      <td>59</td>\n",
       "      <td>56</td>\n",
       "      <td>59.954</td>\n",
       "      <td>-115.540</td>\n",
       "      <td>-17.3</td>\n",
       "      <td>G</td>\n",
       "      <td>-58.156250</td>\n",
       "      <td>59.593806</td>\n",
       "      <td>-115.452130</td>\n",
       "      <td>40.353</td>\n",
       "    </tr>\n",
       "  </tbody>\n",
       "</table>\n",
       "<p>368795 rows × 14 columns</p>\n",
       "</div>"
      ],
      "text/plain": [
       "       year  month  day  hour  minute        second     lat      lon  \\\n",
       "12     2021      6   15    18       0  01.838311680  54.372 -114.964   \n",
       "17     2021      6   15    18       0  01.838311680  54.372 -114.964   \n",
       "18     2021      6   15    18       0  01.838311680  54.372 -114.964   \n",
       "19     2021      6   15    18       0  01.838311680  54.372 -114.964   \n",
       "22     2021      6   15    18       0  01.838311680  54.372 -114.964   \n",
       "...     ...    ...  ...   ...     ...           ...     ...      ...   \n",
       "16827  2021      6   15    23      59            54  59.327 -115.104   \n",
       "16829  2021      6   15    23      59            54  59.327 -115.104   \n",
       "16830  2021      6   15    23      59            54  59.327 -115.104   \n",
       "16831  2021      6   15    23      59            54  59.327 -115.104   \n",
       "16859  2021      6   15    23      59            56  59.954 -115.540   \n",
       "\n",
       "       peak-current C or G    CMI_C14       tlat        tlon  distance(km)  \n",
       "12            -12.4      G -58.216095  54.685743 -114.432225        48.933  \n",
       "17            -12.4      G -58.216095  54.520937 -115.052560        17.523  \n",
       "18            -12.4      G -58.216095  54.539462 -114.747889        23.279  \n",
       "19            -12.4      G -58.216095  54.542342 -114.708379        25.135  \n",
       "22            -12.4      G -58.216095  54.491423 -114.854029        15.064  \n",
       "...             ...    ...        ...        ...         ...           ...  \n",
       "16827           6.1      C -60.729828  59.169904 -115.045471        17.782  \n",
       "16829           6.1      C -60.729828  58.950396 -115.287816        43.169  \n",
       "16830           6.1      C -60.729828  58.965466 -115.072761        40.240  \n",
       "16831           6.1      C -60.729828  58.977605 -114.892761        40.675  \n",
       "16859         -17.3      G -58.156250  59.593806 -115.452130        40.353  \n",
       "\n",
       "[368795 rows x 14 columns]"
      ]
     },
     "execution_count": 16,
     "metadata": {},
     "output_type": "execute_result"
    }
   ],
   "source": [
    "lightning_df_clean5"
   ]
  },
  {
   "cell_type": "code",
   "execution_count": null,
   "id": "b3f4dc91",
   "metadata": {},
   "outputs": [],
   "source": [
    "lightning_df_clean5.to_csv(\"/data2/edworak/data/lightning_bt_plx_clean5.nc\")"
   ]
  },
  {
   "cell_type": "code",
   "execution_count": 20,
   "id": "40ff229c",
   "metadata": {},
   "outputs": [
    {
     "data": {
      "text/html": [
       "<div>\n",
       "<style scoped>\n",
       "    .dataframe tbody tr th:only-of-type {\n",
       "        vertical-align: middle;\n",
       "    }\n",
       "\n",
       "    .dataframe tbody tr th {\n",
       "        vertical-align: top;\n",
       "    }\n",
       "\n",
       "    .dataframe thead th {\n",
       "        text-align: right;\n",
       "    }\n",
       "</style>\n",
       "<table border=\"1\" class=\"dataframe\">\n",
       "  <thead>\n",
       "    <tr style=\"text-align: right;\">\n",
       "      <th></th>\n",
       "      <th>year</th>\n",
       "      <th>month</th>\n",
       "      <th>day</th>\n",
       "      <th>hour</th>\n",
       "      <th>minute</th>\n",
       "      <th>second</th>\n",
       "      <th>lat</th>\n",
       "      <th>lon</th>\n",
       "      <th>peak current</th>\n",
       "      <th>C or G</th>\n",
       "      <th>CMI_C14</th>\n",
       "      <th>tlat</th>\n",
       "      <th>tlon</th>\n",
       "      <th>distance(km)</th>\n",
       "    </tr>\n",
       "  </thead>\n",
       "  <tbody>\n",
       "    <tr>\n",
       "      <th>0</th>\n",
       "      <td>2021</td>\n",
       "      <td>6</td>\n",
       "      <td>15</td>\n",
       "      <td>21</td>\n",
       "      <td>55</td>\n",
       "      <td>1.112943</td>\n",
       "      <td>58.2470</td>\n",
       "      <td>-113.3299</td>\n",
       "      <td>5.7</td>\n",
       "      <td>C</td>\n",
       "      <td>-60.131332</td>\n",
       "      <td>58.263847</td>\n",
       "      <td>-113.340982</td>\n",
       "      <td>1.982</td>\n",
       "    </tr>\n",
       "    <tr>\n",
       "      <th>1</th>\n",
       "      <td>2021</td>\n",
       "      <td>6</td>\n",
       "      <td>15</td>\n",
       "      <td>21</td>\n",
       "      <td>30</td>\n",
       "      <td>1.129019</td>\n",
       "      <td>58.0625</td>\n",
       "      <td>-113.4030</td>\n",
       "      <td>10.1</td>\n",
       "      <td>G</td>\n",
       "      <td>-61.567750</td>\n",
       "      <td>58.065236</td>\n",
       "      <td>-113.415133</td>\n",
       "      <td>0.776</td>\n",
       "    </tr>\n",
       "    <tr>\n",
       "      <th>2</th>\n",
       "      <td>2021</td>\n",
       "      <td>6</td>\n",
       "      <td>15</td>\n",
       "      <td>21</td>\n",
       "      <td>0</td>\n",
       "      <td>0.742416</td>\n",
       "      <td>57.9104</td>\n",
       "      <td>-113.5325</td>\n",
       "      <td>-7.3</td>\n",
       "      <td>C</td>\n",
       "      <td>-60.430573</td>\n",
       "      <td>57.917131</td>\n",
       "      <td>-113.531218</td>\n",
       "      <td>0.752</td>\n",
       "    </tr>\n",
       "    <tr>\n",
       "      <th>3</th>\n",
       "      <td>2021</td>\n",
       "      <td>6</td>\n",
       "      <td>15</td>\n",
       "      <td>23</td>\n",
       "      <td>0</td>\n",
       "      <td>0.612641</td>\n",
       "      <td>58.9507</td>\n",
       "      <td>-114.0581</td>\n",
       "      <td>-18.4</td>\n",
       "      <td>G</td>\n",
       "      <td>-60.071472</td>\n",
       "      <td>58.934521</td>\n",
       "      <td>-114.045339</td>\n",
       "      <td>1.942</td>\n",
       "    </tr>\n",
       "    <tr>\n",
       "      <th>4</th>\n",
       "      <td>2021</td>\n",
       "      <td>6</td>\n",
       "      <td>15</td>\n",
       "      <td>20</td>\n",
       "      <td>30</td>\n",
       "      <td>0.877531</td>\n",
       "      <td>57.7775</td>\n",
       "      <td>-113.4118</td>\n",
       "      <td>5.5</td>\n",
       "      <td>G</td>\n",
       "      <td>-58.635070</td>\n",
       "      <td>57.785582</td>\n",
       "      <td>-113.421276</td>\n",
       "      <td>1.060</td>\n",
       "    </tr>\n",
       "    <tr>\n",
       "      <th>...</th>\n",
       "      <td>...</td>\n",
       "      <td>...</td>\n",
       "      <td>...</td>\n",
       "      <td>...</td>\n",
       "      <td>...</td>\n",
       "      <td>...</td>\n",
       "      <td>...</td>\n",
       "      <td>...</td>\n",
       "      <td>...</td>\n",
       "      <td>...</td>\n",
       "      <td>...</td>\n",
       "      <td>...</td>\n",
       "      <td>...</td>\n",
       "      <td>...</td>\n",
       "    </tr>\n",
       "    <tr>\n",
       "      <th>25234</th>\n",
       "      <td>2021</td>\n",
       "      <td>6</td>\n",
       "      <td>15</td>\n",
       "      <td>22</td>\n",
       "      <td>54</td>\n",
       "      <td>34.000000</td>\n",
       "      <td>58.6480</td>\n",
       "      <td>-116.6660</td>\n",
       "      <td>18.0</td>\n",
       "      <td>C</td>\n",
       "      <td>-50.136260</td>\n",
       "      <td>58.721055</td>\n",
       "      <td>-116.683493</td>\n",
       "      <td>8.186</td>\n",
       "    </tr>\n",
       "    <tr>\n",
       "      <th>25235</th>\n",
       "      <td>2021</td>\n",
       "      <td>6</td>\n",
       "      <td>15</td>\n",
       "      <td>22</td>\n",
       "      <td>54</td>\n",
       "      <td>35.000000</td>\n",
       "      <td>59.1910</td>\n",
       "      <td>-115.5510</td>\n",
       "      <td>9.3</td>\n",
       "      <td>C</td>\n",
       "      <td>-58.395660</td>\n",
       "      <td>59.188900</td>\n",
       "      <td>-115.535730</td>\n",
       "      <td>0.901</td>\n",
       "    </tr>\n",
       "    <tr>\n",
       "      <th>25236</th>\n",
       "      <td>2021</td>\n",
       "      <td>6</td>\n",
       "      <td>15</td>\n",
       "      <td>22</td>\n",
       "      <td>54</td>\n",
       "      <td>39.000000</td>\n",
       "      <td>59.2580</td>\n",
       "      <td>-115.4780</td>\n",
       "      <td>7.8</td>\n",
       "      <td>C</td>\n",
       "      <td>-55.822083</td>\n",
       "      <td>59.242825</td>\n",
       "      <td>-115.495375</td>\n",
       "      <td>1.955</td>\n",
       "    </tr>\n",
       "    <tr>\n",
       "      <th>25237</th>\n",
       "      <td>2021</td>\n",
       "      <td>6</td>\n",
       "      <td>15</td>\n",
       "      <td>22</td>\n",
       "      <td>54</td>\n",
       "      <td>46.000000</td>\n",
       "      <td>58.7920</td>\n",
       "      <td>-115.8400</td>\n",
       "      <td>-20.1</td>\n",
       "      <td>G</td>\n",
       "      <td>-50.136260</td>\n",
       "      <td>58.776016</td>\n",
       "      <td>-115.824421</td>\n",
       "      <td>1.991</td>\n",
       "    </tr>\n",
       "    <tr>\n",
       "      <th>25238</th>\n",
       "      <td>2021</td>\n",
       "      <td>6</td>\n",
       "      <td>15</td>\n",
       "      <td>22</td>\n",
       "      <td>54</td>\n",
       "      <td>50.000000</td>\n",
       "      <td>58.8850</td>\n",
       "      <td>-115.5410</td>\n",
       "      <td>-11.0</td>\n",
       "      <td>G</td>\n",
       "      <td>-50.375656</td>\n",
       "      <td>58.884877</td>\n",
       "      <td>-115.548325</td>\n",
       "      <td>0.421</td>\n",
       "    </tr>\n",
       "  </tbody>\n",
       "</table>\n",
       "<p>25239 rows × 14 columns</p>\n",
       "</div>"
      ],
      "text/plain": [
       "       year  month  day  hour  minute     second      lat       lon  \\\n",
       "0      2021      6   15    21      55   1.112943  58.2470 -113.3299   \n",
       "1      2021      6   15    21      30   1.129019  58.0625 -113.4030   \n",
       "2      2021      6   15    21       0   0.742416  57.9104 -113.5325   \n",
       "3      2021      6   15    23       0   0.612641  58.9507 -114.0581   \n",
       "4      2021      6   15    20      30   0.877531  57.7775 -113.4118   \n",
       "...     ...    ...  ...   ...     ...        ...      ...       ...   \n",
       "25234  2021      6   15    22      54  34.000000  58.6480 -116.6660   \n",
       "25235  2021      6   15    22      54  35.000000  59.1910 -115.5510   \n",
       "25236  2021      6   15    22      54  39.000000  59.2580 -115.4780   \n",
       "25237  2021      6   15    22      54  46.000000  58.7920 -115.8400   \n",
       "25238  2021      6   15    22      54  50.000000  58.8850 -115.5410   \n",
       "\n",
       "       peak current C or G    CMI_C14       tlat        tlon  distance(km)  \n",
       "0               5.7      C -60.131332  58.263847 -113.340982         1.982  \n",
       "1              10.1      G -61.567750  58.065236 -113.415133         0.776  \n",
       "2              -7.3      C -60.430573  57.917131 -113.531218         0.752  \n",
       "3             -18.4      G -60.071472  58.934521 -114.045339         1.942  \n",
       "4               5.5      G -58.635070  57.785582 -113.421276         1.060  \n",
       "...             ...    ...        ...        ...         ...           ...  \n",
       "25234          18.0      C -50.136260  58.721055 -116.683493         8.186  \n",
       "25235           9.3      C -58.395660  59.188900 -115.535730         0.901  \n",
       "25236           7.8      C -55.822083  59.242825 -115.495375         1.955  \n",
       "25237         -20.1      G -50.136260  58.776016 -115.824421         1.991  \n",
       "25238         -11.0      G -50.375656  58.884877 -115.548325         0.421  \n",
       "\n",
       "[25239 rows x 14 columns]"
      ]
     },
     "execution_count": 20,
     "metadata": {},
     "output_type": "execute_result"
    }
   ],
   "source": [
    "# df = lightning_df_clean5\n",
    "# #df = pd.read_csv(\"/data2/edworak/data/lightning_bt_plx_clean5.nc\")\n",
    "# df = df.sort_values('distance(km)', ascending=True)\n",
    "# df = df.drop_duplicates(subset=['year', 'month', 'day', 'hour', 'minute', 'second', 'lat', 'lon',\n",
    "#       'peak-current', 'C or G'], keep='first') \n",
    "# df = df.sort_index()\n",
    "# df = df.rename(columns={'peak-current': 'peak current'})\n",
    "\n",
    "# df.to_csv(\"/data2/edworak/data/lightning_bt_plx_clean5.nc\")\n",
    "# df \n",
    "df1 = pd.read_csv(\"/data2/edworak/data/lightning_bt_plx_clean5.nc\", usecols = [1, 2, 3, 4, 5, 6, 7, 8, 9, 10, 11, 12, 13, 14])\n",
    "df1"
   ]
  },
  {
   "cell_type": "code",
   "execution_count": null,
   "id": "cb0047d1",
   "metadata": {},
   "outputs": [],
   "source": []
  },
  {
   "cell_type": "code",
   "execution_count": null,
   "id": "5bd5e06c",
   "metadata": {},
   "outputs": [],
   "source": []
  }
 ],
 "metadata": {
  "kernelspec": {
   "display_name": "Python 3 (ipykernel)",
   "language": "python",
   "name": "python3"
  },
  "language_info": {
   "codemirror_mode": {
    "name": "ipython",
    "version": 3
   },
   "file_extension": ".py",
   "mimetype": "text/x-python",
   "name": "python",
   "nbconvert_exporter": "python",
   "pygments_lexer": "ipython3",
   "version": "3.8.13"
  }
 },
 "nbformat": 4,
 "nbformat_minor": 5
}
