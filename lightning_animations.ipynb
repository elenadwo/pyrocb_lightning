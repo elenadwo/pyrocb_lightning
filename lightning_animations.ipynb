{
 "cells": [
  {
   "cell_type": "markdown",
   "id": "4afb0f12-4e75-44dd-83ef-b04b5a511ca9",
   "metadata": {},
   "source": [
    "# Animation of Lightning Strikes in BC"
   ]
  },
  {
   "cell_type": "markdown",
   "id": "b9902fc2-f410-4828-b82d-b8b12bc37824",
   "metadata": {},
   "source": [
    "### Install Packages"
   ]
  },
  {
   "cell_type": "code",
   "execution_count": 1,
   "id": "91c357bd-acb1-4bbd-829b-a63a11d08fa6",
   "metadata": {},
   "outputs": [],
   "source": [
    "#conda list"
   ]
  },
  {
   "cell_type": "markdown",
   "id": "4ee9737e-0615-465a-95be-022d4d5c2789",
   "metadata": {},
   "source": [
    "### Import Packages"
   ]
  },
  {
   "cell_type": "code",
   "execution_count": 2,
   "id": "fc213f36-6fcd-405d-865c-64b8138bd1c5",
   "metadata": {},
   "outputs": [],
   "source": [
    "import matplotlib.pyplot as plt\n",
    "import numpy as np\n",
    "from celluloid import Camera\n",
    "import cartopy.crs as ccrs\n",
    "import cartopy.feature as cfeature\n",
    "from IPython.display import HTML\n",
    "import ffmpeg\n",
    "\n",
    "from matplotlib import animation, rc\n",
    "\n",
    "import cartopy\n",
    "from matplotlib import animation, rc\n",
    "from pymatreader import read_mat\n",
    "import pandas as pd\n",
    "import os"
   ]
  },
  {
   "cell_type": "markdown",
   "id": "0fa34192-934b-4a12-8f44-fb6e524fd8d4",
   "metadata": {},
   "source": [
    "### Laura's Animation Tutorial"
   ]
  },
  {
   "cell_type": "code",
   "execution_count": 3,
   "id": "8ab5fec3",
   "metadata": {},
   "outputs": [
    {
     "name": "stderr",
     "output_type": "stream",
     "text": [
      "MovieWriter stderr:\n",
      "[gif @ 0x563918e88300] GIF muxer supports only a single video GIF stream.\n",
      "Could not write header for output file #0 (incorrect codec parameters ?): Invalid argument\n",
      "Error initializing output stream 0:0 -- \n",
      "\n"
     ]
    },
    {
     "ename": "CalledProcessError",
     "evalue": "Command '['ffmpeg', '-f', 'rawvideo', '-vcodec', 'rawvideo', '-s', '432x288', '-pix_fmt', 'rgba', '-r', '2.5', '-loglevel', 'error', '-i', 'pipe:', '-vcodec', 'h264', '-pix_fmt', 'yuv420p', '-y', 'animation_tutorial.gif']' returned non-zero exit status 1.",
     "output_type": "error",
     "traceback": [
      "\u001b[0;31m---------------------------------------------------------------------------\u001b[0m",
      "\u001b[0;31mBrokenPipeError\u001b[0m                           Traceback (most recent call last)",
      "\u001b[0;32m/home/elenadworak/anaconda3/envs/myenv/lib/python3.6/site-packages/matplotlib/animation.py\u001b[0m in \u001b[0;36msaving\u001b[0;34m(self, fig, outfile, dpi, *args, **kwargs)\u001b[0m\n\u001b[1;32m    229\u001b[0m         \u001b[0;32mtry\u001b[0m\u001b[0;34m:\u001b[0m\u001b[0;34m\u001b[0m\u001b[0;34m\u001b[0m\u001b[0m\n\u001b[0;32m--> 230\u001b[0;31m             \u001b[0;32myield\u001b[0m \u001b[0mself\u001b[0m\u001b[0;34m\u001b[0m\u001b[0;34m\u001b[0m\u001b[0m\n\u001b[0m\u001b[1;32m    231\u001b[0m         \u001b[0;32mfinally\u001b[0m\u001b[0;34m:\u001b[0m\u001b[0;34m\u001b[0m\u001b[0;34m\u001b[0m\u001b[0m\n",
      "\u001b[0;32m/home/elenadworak/anaconda3/envs/myenv/lib/python3.6/site-packages/matplotlib/animation.py\u001b[0m in \u001b[0;36msave\u001b[0;34m(self, filename, writer, fps, dpi, codec, bitrate, extra_args, metadata, extra_anim, savefig_kwargs, progress_callback)\u001b[0m\n\u001b[1;32m   1151\u001b[0m                             \u001b[0mframe_number\u001b[0m \u001b[0;34m+=\u001b[0m \u001b[0;36m1\u001b[0m\u001b[0;34m\u001b[0m\u001b[0;34m\u001b[0m\u001b[0m\n\u001b[0;32m-> 1152\u001b[0;31m                     \u001b[0mwriter\u001b[0m\u001b[0;34m.\u001b[0m\u001b[0mgrab_frame\u001b[0m\u001b[0;34m(\u001b[0m\u001b[0;34m**\u001b[0m\u001b[0msavefig_kwargs\u001b[0m\u001b[0;34m)\u001b[0m\u001b[0;34m\u001b[0m\u001b[0;34m\u001b[0m\u001b[0m\n\u001b[0m\u001b[1;32m   1153\u001b[0m \u001b[0;34m\u001b[0m\u001b[0m\n",
      "\u001b[0;32m/home/elenadworak/anaconda3/envs/myenv/lib/python3.6/site-packages/matplotlib/animation.py\u001b[0m in \u001b[0;36mgrab_frame\u001b[0;34m(self, **savefig_kwargs)\u001b[0m\n\u001b[1;32m    384\u001b[0m         self.fig.savefig(self._frame_sink(), format=self.frame_format,\n\u001b[0;32m--> 385\u001b[0;31m                          dpi=self.dpi, **savefig_kwargs)\n\u001b[0m\u001b[1;32m    386\u001b[0m \u001b[0;34m\u001b[0m\u001b[0m\n",
      "\u001b[0;32m/home/elenadworak/anaconda3/envs/myenv/lib/python3.6/site-packages/matplotlib/figure.py\u001b[0m in \u001b[0;36msavefig\u001b[0;34m(self, fname, transparent, **kwargs)\u001b[0m\n\u001b[1;32m   2202\u001b[0m \u001b[0;34m\u001b[0m\u001b[0m\n\u001b[0;32m-> 2203\u001b[0;31m         \u001b[0mself\u001b[0m\u001b[0;34m.\u001b[0m\u001b[0mcanvas\u001b[0m\u001b[0;34m.\u001b[0m\u001b[0mprint_figure\u001b[0m\u001b[0;34m(\u001b[0m\u001b[0mfname\u001b[0m\u001b[0;34m,\u001b[0m \u001b[0;34m**\u001b[0m\u001b[0mkwargs\u001b[0m\u001b[0;34m)\u001b[0m\u001b[0;34m\u001b[0m\u001b[0;34m\u001b[0m\u001b[0m\n\u001b[0m\u001b[1;32m   2204\u001b[0m \u001b[0;34m\u001b[0m\u001b[0m\n",
      "\u001b[0;32m/home/elenadworak/anaconda3/envs/myenv/lib/python3.6/site-packages/matplotlib/backend_bases.py\u001b[0m in \u001b[0;36mprint_figure\u001b[0;34m(self, filename, dpi, facecolor, edgecolor, orientation, format, bbox_inches, **kwargs)\u001b[0m\n\u001b[1;32m   2125\u001b[0m                     \u001b[0mbbox_inches_restore\u001b[0m\u001b[0;34m=\u001b[0m\u001b[0m_bbox_inches_restore\u001b[0m\u001b[0;34m,\u001b[0m\u001b[0;34m\u001b[0m\u001b[0;34m\u001b[0m\u001b[0m\n\u001b[0;32m-> 2126\u001b[0;31m                     **kwargs)\n\u001b[0m\u001b[1;32m   2127\u001b[0m             \u001b[0;32mfinally\u001b[0m\u001b[0;34m:\u001b[0m\u001b[0;34m\u001b[0m\u001b[0;34m\u001b[0m\u001b[0m\n",
      "\u001b[0;32m/home/elenadworak/anaconda3/envs/myenv/lib/python3.6/site-packages/matplotlib/backends/backend_agg.py\u001b[0m in \u001b[0;36mprint_raw\u001b[0;34m(self, filename_or_obj, *args, **kwargs)\u001b[0m\n\u001b[1;32m    449\u001b[0m         \u001b[0;32mwith\u001b[0m \u001b[0mcbook\u001b[0m\u001b[0;34m.\u001b[0m\u001b[0mopen_file_cm\u001b[0m\u001b[0;34m(\u001b[0m\u001b[0mfilename_or_obj\u001b[0m\u001b[0;34m,\u001b[0m \u001b[0;34m\"wb\"\u001b[0m\u001b[0;34m)\u001b[0m \u001b[0;32mas\u001b[0m \u001b[0mfh\u001b[0m\u001b[0;34m:\u001b[0m\u001b[0;34m\u001b[0m\u001b[0;34m\u001b[0m\u001b[0m\n\u001b[0;32m--> 450\u001b[0;31m             \u001b[0mfh\u001b[0m\u001b[0;34m.\u001b[0m\u001b[0mwrite\u001b[0m\u001b[0;34m(\u001b[0m\u001b[0mrenderer\u001b[0m\u001b[0;34m.\u001b[0m\u001b[0mbuffer_rgba\u001b[0m\u001b[0;34m(\u001b[0m\u001b[0;34m)\u001b[0m\u001b[0;34m)\u001b[0m\u001b[0;34m\u001b[0m\u001b[0;34m\u001b[0m\u001b[0m\n\u001b[0m\u001b[1;32m    451\u001b[0m \u001b[0;34m\u001b[0m\u001b[0m\n",
      "\u001b[0;31mBrokenPipeError\u001b[0m: [Errno 32] Broken pipe",
      "\nDuring handling of the above exception, another exception occurred:\n",
      "\u001b[0;31mCalledProcessError\u001b[0m                        Traceback (most recent call last)",
      "\u001b[0;32m<ipython-input-3-0cf84a2003fc>\u001b[0m in \u001b[0;36m<module>\u001b[0;34m()\u001b[0m\n\u001b[1;32m     26\u001b[0m \u001b[0;31m#repeat_delay is how long (in miliseconds) between the gif ending and starting over\u001b[0m\u001b[0;34m\u001b[0m\u001b[0;34m\u001b[0m\u001b[0;34m\u001b[0m\u001b[0m\n\u001b[1;32m     27\u001b[0m \u001b[0;31m#blit i'm not sure, but it needed to be true for this to work\u001b[0m\u001b[0;34m\u001b[0m\u001b[0;34m\u001b[0m\u001b[0;34m\u001b[0m\u001b[0m\n\u001b[0;32m---> 28\u001b[0;31m \u001b[0manimation\u001b[0m\u001b[0;34m.\u001b[0m\u001b[0msave\u001b[0m\u001b[0;34m(\u001b[0m\u001b[0;34m'animation_tutorial.gif'\u001b[0m\u001b[0;34m)\u001b[0m \u001b[0;31m#saves the animation to a gif\u001b[0m\u001b[0;34m\u001b[0m\u001b[0;34m\u001b[0m\u001b[0m\n\u001b[0m\u001b[1;32m     29\u001b[0m \u001b[0;31m#HTML(animation.to_html5_video()) #this will show the gif in the jupyter notebook\u001b[0m\u001b[0;34m\u001b[0m\u001b[0;34m\u001b[0m\u001b[0;34m\u001b[0m\u001b[0m\n\u001b[1;32m     30\u001b[0m \u001b[0mHTML\u001b[0m\u001b[0;34m(\u001b[0m\u001b[0manimation\u001b[0m\u001b[0;34m.\u001b[0m\u001b[0mto_html5_video\u001b[0m\u001b[0;34m(\u001b[0m\u001b[0;34m)\u001b[0m\u001b[0;34m)\u001b[0m\u001b[0;34m\u001b[0m\u001b[0;34m\u001b[0m\u001b[0m\n",
      "\u001b[0;32m/home/elenadworak/anaconda3/envs/myenv/lib/python3.6/site-packages/matplotlib/animation.py\u001b[0m in \u001b[0;36msave\u001b[0;34m(self, filename, writer, fps, dpi, codec, bitrate, extra_args, metadata, extra_anim, savefig_kwargs, progress_callback)\u001b[0m\n\u001b[1;32m   1150\u001b[0m                             \u001b[0mprogress_callback\u001b[0m\u001b[0;34m(\u001b[0m\u001b[0mframe_number\u001b[0m\u001b[0;34m,\u001b[0m \u001b[0mtotal_frames\u001b[0m\u001b[0;34m)\u001b[0m\u001b[0;34m\u001b[0m\u001b[0;34m\u001b[0m\u001b[0m\n\u001b[1;32m   1151\u001b[0m                             \u001b[0mframe_number\u001b[0m \u001b[0;34m+=\u001b[0m \u001b[0;36m1\u001b[0m\u001b[0;34m\u001b[0m\u001b[0;34m\u001b[0m\u001b[0m\n\u001b[0;32m-> 1152\u001b[0;31m                     \u001b[0mwriter\u001b[0m\u001b[0;34m.\u001b[0m\u001b[0mgrab_frame\u001b[0m\u001b[0;34m(\u001b[0m\u001b[0;34m**\u001b[0m\u001b[0msavefig_kwargs\u001b[0m\u001b[0;34m)\u001b[0m\u001b[0;34m\u001b[0m\u001b[0;34m\u001b[0m\u001b[0m\n\u001b[0m\u001b[1;32m   1153\u001b[0m \u001b[0;34m\u001b[0m\u001b[0m\n\u001b[1;32m   1154\u001b[0m         \u001b[0;31m# Reconnect signal for first draw if necessary\u001b[0m\u001b[0;34m\u001b[0m\u001b[0;34m\u001b[0m\u001b[0;34m\u001b[0m\u001b[0m\n",
      "\u001b[0;32m/home/elenadworak/anaconda3/envs/myenv/lib/python3.6/contextlib.py\u001b[0m in \u001b[0;36m__exit__\u001b[0;34m(self, type, value, traceback)\u001b[0m\n\u001b[1;32m     97\u001b[0m                 \u001b[0mvalue\u001b[0m \u001b[0;34m=\u001b[0m \u001b[0mtype\u001b[0m\u001b[0;34m(\u001b[0m\u001b[0;34m)\u001b[0m\u001b[0;34m\u001b[0m\u001b[0;34m\u001b[0m\u001b[0m\n\u001b[1;32m     98\u001b[0m             \u001b[0;32mtry\u001b[0m\u001b[0;34m:\u001b[0m\u001b[0;34m\u001b[0m\u001b[0;34m\u001b[0m\u001b[0m\n\u001b[0;32m---> 99\u001b[0;31m                 \u001b[0mself\u001b[0m\u001b[0;34m.\u001b[0m\u001b[0mgen\u001b[0m\u001b[0;34m.\u001b[0m\u001b[0mthrow\u001b[0m\u001b[0;34m(\u001b[0m\u001b[0mtype\u001b[0m\u001b[0;34m,\u001b[0m \u001b[0mvalue\u001b[0m\u001b[0;34m,\u001b[0m \u001b[0mtraceback\u001b[0m\u001b[0;34m)\u001b[0m\u001b[0;34m\u001b[0m\u001b[0;34m\u001b[0m\u001b[0m\n\u001b[0m\u001b[1;32m    100\u001b[0m             \u001b[0;32mexcept\u001b[0m \u001b[0mStopIteration\u001b[0m \u001b[0;32mas\u001b[0m \u001b[0mexc\u001b[0m\u001b[0;34m:\u001b[0m\u001b[0;34m\u001b[0m\u001b[0;34m\u001b[0m\u001b[0m\n\u001b[1;32m    101\u001b[0m                 \u001b[0;31m# Suppress StopIteration *unless* it's the same exception that\u001b[0m\u001b[0;34m\u001b[0m\u001b[0;34m\u001b[0m\u001b[0;34m\u001b[0m\u001b[0m\n",
      "\u001b[0;32m/home/elenadworak/anaconda3/envs/myenv/lib/python3.6/site-packages/matplotlib/animation.py\u001b[0m in \u001b[0;36msaving\u001b[0;34m(self, fig, outfile, dpi, *args, **kwargs)\u001b[0m\n\u001b[1;32m    230\u001b[0m             \u001b[0;32myield\u001b[0m \u001b[0mself\u001b[0m\u001b[0;34m\u001b[0m\u001b[0;34m\u001b[0m\u001b[0m\n\u001b[1;32m    231\u001b[0m         \u001b[0;32mfinally\u001b[0m\u001b[0;34m:\u001b[0m\u001b[0;34m\u001b[0m\u001b[0;34m\u001b[0m\u001b[0m\n\u001b[0;32m--> 232\u001b[0;31m             \u001b[0mself\u001b[0m\u001b[0;34m.\u001b[0m\u001b[0mfinish\u001b[0m\u001b[0;34m(\u001b[0m\u001b[0;34m)\u001b[0m\u001b[0;34m\u001b[0m\u001b[0;34m\u001b[0m\u001b[0m\n\u001b[0m\u001b[1;32m    233\u001b[0m \u001b[0;34m\u001b[0m\u001b[0m\n\u001b[1;32m    234\u001b[0m \u001b[0;34m\u001b[0m\u001b[0m\n",
      "\u001b[0;32m/home/elenadworak/anaconda3/envs/myenv/lib/python3.6/site-packages/matplotlib/animation.py\u001b[0m in \u001b[0;36mfinish\u001b[0;34m(self)\u001b[0m\n\u001b[1;32m    366\u001b[0m     \u001b[0;32mdef\u001b[0m \u001b[0mfinish\u001b[0m\u001b[0;34m(\u001b[0m\u001b[0mself\u001b[0m\u001b[0;34m)\u001b[0m\u001b[0;34m:\u001b[0m\u001b[0;34m\u001b[0m\u001b[0;34m\u001b[0m\u001b[0m\n\u001b[1;32m    367\u001b[0m         \u001b[0;34m'''Finish any processing for writing the movie.'''\u001b[0m\u001b[0;34m\u001b[0m\u001b[0;34m\u001b[0m\u001b[0m\n\u001b[0;32m--> 368\u001b[0;31m         \u001b[0mself\u001b[0m\u001b[0;34m.\u001b[0m\u001b[0mcleanup\u001b[0m\u001b[0;34m(\u001b[0m\u001b[0;34m)\u001b[0m\u001b[0;34m\u001b[0m\u001b[0;34m\u001b[0m\u001b[0m\n\u001b[0m\u001b[1;32m    369\u001b[0m \u001b[0;34m\u001b[0m\u001b[0m\n\u001b[1;32m    370\u001b[0m     \u001b[0;32mdef\u001b[0m \u001b[0mgrab_frame\u001b[0m\u001b[0;34m(\u001b[0m\u001b[0mself\u001b[0m\u001b[0;34m,\u001b[0m \u001b[0;34m**\u001b[0m\u001b[0msavefig_kwargs\u001b[0m\u001b[0;34m)\u001b[0m\u001b[0;34m:\u001b[0m\u001b[0;34m\u001b[0m\u001b[0;34m\u001b[0m\u001b[0m\n",
      "\u001b[0;32m/home/elenadworak/anaconda3/envs/myenv/lib/python3.6/site-packages/matplotlib/animation.py\u001b[0m in \u001b[0;36mcleanup\u001b[0;34m(self)\u001b[0m\n\u001b[1;32m    410\u001b[0m         \u001b[0;32mif\u001b[0m \u001b[0mself\u001b[0m\u001b[0;34m.\u001b[0m\u001b[0m_proc\u001b[0m\u001b[0;34m.\u001b[0m\u001b[0mreturncode\u001b[0m\u001b[0;34m:\u001b[0m\u001b[0;34m\u001b[0m\u001b[0;34m\u001b[0m\u001b[0m\n\u001b[1;32m    411\u001b[0m             raise subprocess.CalledProcessError(\n\u001b[0;32m--> 412\u001b[0;31m                 self._proc.returncode, self._proc.args, out, err)\n\u001b[0m\u001b[1;32m    413\u001b[0m \u001b[0;34m\u001b[0m\u001b[0m\n\u001b[1;32m    414\u001b[0m     \u001b[0;34m@\u001b[0m\u001b[0mclassmethod\u001b[0m\u001b[0;34m\u001b[0m\u001b[0;34m\u001b[0m\u001b[0m\n",
      "\u001b[0;31mCalledProcessError\u001b[0m: Command '['ffmpeg', '-f', 'rawvideo', '-vcodec', 'rawvideo', '-s', '432x288', '-pix_fmt', 'rgba', '-r', '2.5', '-loglevel', 'error', '-i', 'pipe:', '-vcodec', 'h264', '-pix_fmt', 'yuv420p', '-y', 'animation_tutorial.gif']' returned non-zero exit status 1."
     ]
    },
    {
     "data": {
      "image/png": "[encoded data removed]",
      "text/plain": [
       "<Figure size 432x288 with 1 Axes>"
      ]
     },
     "metadata": {
      "needs_background": "light"
     },
     "output_type": "display_data"
    }
   ],
   "source": [
    "#define the figure (this needs to be in the same cell as the for loop)\n",
    "fig = plt.figure()\n",
    "camera = Camera(fig)\n",
    "\n",
    "ax = plt.axes(projection=ccrs.PlateCarree())\n",
    "\n",
    "for i in range(15): #I generated 15 random graphs, you will loop over an hour in 5 minute intervals\n",
    "    #randomly generated lats and lons (I will plot these, you will replace them with your lightning data)\n",
    "    lat = np.random.randint(45, 60, 10)\n",
    "    lon = np.random.randint(-125, -115, 10)\n",
    "    sizes = np.random.randint(10, 50, 10)\n",
    "    \n",
    "    #set up the plot \"plt.axes\" puts a set of axes on the figure, which you can add cartopy features to\n",
    "    ax.set_extent([-126, -114, 44, 61])\n",
    "    ax.add_feature(cfeature.COASTLINE, linestyle=\"-\", alpha = .5)\n",
    "    ax.add_feature(cfeature.STATES, linestyle='-', alpha=.5)\n",
    "\n",
    "    #do a scatter plot of the points\n",
    "    plt.scatter(lon, lat, s=sizes)\n",
    "    camera.snap() \n",
    "    \n",
    "animation = camera.animate(interval = 400, repeat = True,\n",
    "                           repeat_delay = 500, blit=True)\n",
    "#interval is how long to wait (in miliseconds) between showing each figure. You probably can adjust this to make it match the twitter GIF\n",
    "#repeat is True if you want the gif to repeat\n",
    "#repeat_delay is how long (in miliseconds) between the gif ending and starting over\n",
    "#blit i'm not sure, but it needed to be true for this to work\n",
    "animation.save('animation_tutorial.gif') #saves the animation to a gif\n",
    "#HTML(animation.to_html5_video()) #this will show the gif in the jupyter notebook\n",
    "HTML(animation.to_html5_video())"
   ]
  },
  {
   "cell_type": "markdown",
   "id": "88b35437-7903-4450-ad9c-80e73005ee24",
   "metadata": {},
   "source": [
    "## Attempting Animation "
   ]
  },
  {
   "cell_type": "markdown",
   "id": "654a02c4-02ec-427b-818b-d2c32c4f7892",
   "metadata": {},
   "source": [
    "### Upload data"
   ]
  },
  {
   "cell_type": "code",
   "execution_count": null,
   "id": "13e4ae15-b150-439d-a40e-be65b31bddea",
   "metadata": {},
   "outputs": [],
   "source": [
    "A = read_mat('data/AE20210628.mat')\n",
    "june28 = pd.DataFrame(A['data'], columns = [\"YYYY\", \"MM\", \"DD\", \"hh\", \"mm\", \"ss\", \"lat\", \"lon\", \"resid\", \"nstn\", \"Energy (J)\", \"Energy uncertainty (J)\", \"nstn_energy\"])\n",
    "\n",
    "B = read_mat('data/AE20210629.mat')\n",
    "june29 = pd.DataFrame(B['data'], columns = [\"YYYY\", \"MM\", \"DD\", \"hh\", \"mm\", \"ss\", \"lat\", \"lon\", \"resid\", \"nstn\", \"Energy (J)\", \"Energy uncertainty (J)\", \"nstn_energy\"])\n",
    "\n",
    "C = read_mat('data/AE20210630.mat')\n",
    "june30 = pd.DataFrame(C['data'], columns = [\"YYYY\", \"MM\", \"DD\", \"hh\", \"mm\", \"ss\", \"lat\", \"lon\", \"resid\", \"nstn\", \"Energy (J)\", \"Energy uncertainty (J)\", \"nstn_energy\"])\n",
    "\n",
    "D = read_mat('data/AE20210701.mat')\n",
    "july1 = pd.DataFrame(D['data'], columns = [\"YYYY\", \"MM\", \"DD\", \"hh\", \"mm\", \"ss\", \"lat\", \"lon\", \"resid\", \"nstn\", \"Energy (J)\", \"Energy uncertainty (J)\", \"nstn_energy\"])\n",
    "\n",
    "\n",
    "lightning = (june28, june29, june30, july1)"
   ]
  },
  {
   "cell_type": "markdown",
   "id": "6f801497-ce64-4f6d-8b9f-b000d603e2c8",
   "metadata": {},
   "source": [
    "### GIF: July 1 Hour 2 "
   ]
  },
  {
   "cell_type": "code",
   "execution_count": null,
   "id": "531654fe-0e4e-4081-bc60-29e85ec27948",
   "metadata": {},
   "outputs": [],
   "source": [
    "fig = plt.figure()\n",
    "camera = Camera(fig)\n",
    "\n",
    "mins = range(0, 61, 5)\n",
    "ax = plt.axes(projection=ccrs.PlateCarree())\n",
    "\n",
    "for i in mins: \n",
    "    \n",
    "    ax.set_extent([-125,-117,49,54])\n",
    "    ax.add_feature(cartopy.feature.BORDERS, linestyle = '-', alpha = 0.5)\n",
    "    ax.add_feature(cartopy.feature.STATES, linestyle = '-', alpha = 0.5)\n",
    "    ax.add_feature(cartopy.feature.COASTLINE, linestyle = '-', alpha = 0.5)\n",
    "    time = july1[(july1[\"hh\"] == 2) & (july1[\"mm\"] > i) & (july1[\"mm\"] < i + 5) & (july1[\"Energy (J)\"] > 0)]\n",
    "    points = (time.loc[(time.lon > -130) & (time.lon < -100) & (time.lat > 45) & (time.lat < 65)])\n",
    "    \n",
    "    plt.scatter(x = points[\"lon\"], y = points[\"lat\"], c = points[\"Energy (J)\"], cmap=\"hot_r\", s = points[\"Energy (J)\"] * 0.5, edgecolors=\"black\", marker = 'o', alpha=0.5)\n",
    "    plt.title(\"July 1 H 2: 5 M interval\", fontsize = 18)\n",
    "\n",
    "    camera.snap() \n",
    "    \n",
    "animation = camera.animate(interval = 400, repeat = True, repeat_delay = 500, blit=True)\n",
    "\n",
    "animation.save('animation_july1_hour2.gif') \n",
    "HTML(animation.to_html5_video())"
   ]
  },
  {
   "cell_type": "markdown",
   "id": "2caf81b4-6959-4269-817e-b1e959dcd5d3",
   "metadata": {},
   "source": [
    "### Animation: June 30, hours 20 - 24, 10 min interval"
   ]
  },
  {
   "cell_type": "code",
   "execution_count": null,
   "id": "f2985d8e-975b-4f14-9e1d-5cd9d974e2ba",
   "metadata": {},
   "outputs": [],
   "source": [
    "fig = plt.figure()\n",
    "camera = Camera(fig)\n",
    "\n",
    "hours = range(21,25,1)\n",
    "mins = range(0, 61, 10)\n",
    "\n",
    "ax = plt.axes(projection=ccrs.PlateCarree())\n",
    "\n",
    "for i in hours: \n",
    "    for j in mins: \n",
    "    \n",
    "        ax.set_extent([-123,-117,49,53])\n",
    "        ax.add_feature(cartopy.feature.BORDERS, linestyle = '-', alpha = 0.5)\n",
    "        ax.add_feature(cartopy.feature.STATES, linestyle = '-', alpha = 0.5)\n",
    "        ax.add_feature(cartopy.feature.COASTLINE, linestyle = '-', alpha = 0.5)\n",
    "        time = june30[(june30[\"hh\"] == i) & (june30[\"mm\"] > j) & (june30[\"mm\"] < j + 5) & (june30[\"Energy (J)\"] > 0)]\n",
    "        points = (time.loc[(time.lon > -130) & (time.lon < -100) & (time.lat > 45) & (time.lat < 65)])\n",
    "\n",
    "        plt.scatter(x = points[\"lon\"], y = points[\"lat\"], c = points[\"Energy (J)\"], cmap=\"hot_r\", s = points[\"Energy (J)\"] * 0.5, edgecolors=\"black\", marker = 'o', alpha=0.5)\n",
    "        plt.title(\"June 30 H 21-25: 10 M interval\", fontsize = 18)\n",
    "        camera.snap() \n",
    "\n",
    "animation = camera.animate(interval = 300, repeat = True, repeat_delay = 500, blit=True)\n",
    "\n",
    "animation.save('animation_june30_hr20to24.gif', dpi = 200) \n",
    "HTML(animation.to_html5_video())"
   ]
  },
  {
   "cell_type": "markdown",
   "id": "a9660e68-0f32-4251-bb00-1c4fc13a845d",
   "metadata": {},
   "source": [
    "### Animation: July 1, Hours 0 - 6, 10 min interval"
   ]
  },
  {
   "cell_type": "code",
   "execution_count": null,
   "id": "34a3ead3-a784-4491-9651-56aa63647723",
   "metadata": {},
   "outputs": [],
   "source": [
    "fig = plt.figure()\n",
    "camera = Camera(fig)\n",
    "\n",
    "hours = range(0,6,1)\n",
    "mins = range(0, 61, 10)\n",
    "\n",
    "ax = plt.axes(projection=ccrs.PlateCarree())\n",
    "\n",
    "for i in hours: \n",
    "    for j in mins: \n",
    "        \n",
    "        ax.set_extent([-123,-117,49,53])\n",
    "        ax.add_feature(cartopy.feature.BORDERS, linestyle = '-', alpha = 0.5)\n",
    "        ax.add_feature(cartopy.feature.STATES, linestyle = '-', alpha = 0.5)\n",
    "        ax.add_feature(cartopy.feature.COASTLINE, linestyle = '-', alpha = 0.5)\n",
    "        time = july1[(july1[\"hh\"] == i) & (july1[\"mm\"] > j) & (july1[\"mm\"] < j + 5) & (july1[\"Energy (J)\"] > 0)]\n",
    "        points = (time.loc[(time.lon > -130) & (time.lon < -100) & (time.lat > 45) & (time.lat < 65)])\n",
    "\n",
    "        plt.scatter(x = points[\"lon\"], y = points[\"lat\"], c = points[\"Energy (J)\"], cmap=\"hot_r\", s = points[\"Energy (J)\"] * 0.5, edgecolors=\"black\", marker = 'o', alpha=0.5)\n",
    "        plt.title(\"July 1 H 0 -6: 10 M interval\", fontsize = 18)\n",
    "        camera.snap() \n",
    "\n",
    "animation = camera.animate(interval = 400, repeat = True, repeat_delay = 500, blit=True)\n",
    "\n",
    "animation.save('animation_july1_hr0to6.gif', dpi = 200) \n",
    "HTML(animation.to_html5_video())"
   ]
  },
  {
   "cell_type": "markdown",
   "id": "d3164466-ebeb-4639-a28e-05e1b0c1bba6",
   "metadata": {},
   "source": [
    "### Matching Dave's gif"
   ]
  },
  {
   "cell_type": "markdown",
   "id": "61d05d5d-3d2a-45de-8a9c-a77eb40d276f",
   "metadata": {},
   "source": [
    "Time range: 21:30 June 30 - 05:30 July 1 <br>\n",
    "Longitude: 145 W to 105 W (or 140 W to 110 W) <br>\n",
    "Latitude: 48 N to 67 N (or 50 N to 65 N)<br>\n",
    "\n",
    "[GIF Link](\"https://docs.google.com/presentation/d/1-x85H8fvgbwm23UOSPhWB5w5tta5wzLi/edit#slide=id.p1\")"
   ]
  },
  {
   "cell_type": "code",
   "execution_count": null,
   "id": "b07d8997-d4e8-490a-a54e-165348b9ed46",
   "metadata": {
    "jupyter": {
     "outputs_hidden": true
    },
    "tags": []
   },
   "outputs": [],
   "source": [
    "# fig = plt.figure()\n",
    "# camera = Camera(fig)\n",
    "\n",
    "\n",
    "# june30_hours = range(21,25,1)\n",
    "# june30_mins = range(0, 61, 10)\n",
    "\n",
    "# july1_hours = range(0,6,1)\n",
    "# july1_mins = range(0, 61, 10)\n",
    "\n",
    "# df = june30 + july1\n",
    "\n",
    "# june30_july1_hours = [june30_hours, july1_hours]\n",
    "# june30_july1_mins = [june30_mins, july1_mins]\n",
    "\n",
    "# ax = plt.axes(projection=ccrs.PlateCarree())\n",
    "\n",
    "\n",
    "# for i in june30_july1_hours: \n",
    "#     for j in june30_july1_mins: \n",
    "#         ax.set_extent([-145,-105,48,67])\n",
    "#         ax.add_feature(cartopy.feature.BORDERS, linestyle = '-', alpha = 0.5)\n",
    "#         ax.add_feature(cartopy.feature.STATES, linestyle = '-', alpha = 0.5)\n",
    "#         ax.add_feature(cartopy.feature.COASTLINE, linestyle = '-', alpha = 0.5)\n",
    "#         june30_time = june30[(june30[\"hh\"] == i) & (june30[\"mm\"] > j) & (june30[\"mm\"] < j + 5) & (june30[\"Energy (J)\"] > 0)]\n",
    "#         july1_time = july1[(july1[\"hh\"] == i) & (july1[\"mm\"] > j) & (july1[\"mm\"] < j + 5) & (july1[\"Energy (J)\"] > 0)]\n",
    "\n",
    "#         june30_points = (june30_time.loc[(june30_time.lon > -130) & (june30_time.lon < -100) & (june30_time.lat > 45) & (june30_time.lat < 65)])\n",
    "#         july1_points = (july1_time.loc[(july1_time.lon > -130) & (july1_time.lon < -100) & (july1_time.lat > 45) & (july1_time.lat < 65)])\n",
    "\n",
    "#         plt.scatter(x = points[\"lon\"], y = points[\"lat\"], c = points[\"Energy (J)\"], cmap=\"hot_r\", s = points[\"Energy (J)\"] * 0.2, edgecolors=\"black\", marker = 'o', alpha=0.5)\n",
    "#         plt.title(\"June 30 July 1\", fontsize = 18)\n",
    "#         camera.snap() \n",
    "        \n",
    "        \n",
    "# animation = camera.animate(interval = 400, repeat = True, repeat_delay = 500, blit=True)\n",
    "\n",
    "# animation.save('animation_june30_july1.gif', dpi = 200) \n",
    "# HTML(animation.to_html5_video())"
   ]
  },
  {
   "cell_type": "markdown",
   "id": "103087a4-7bd0-46d1-a5e3-aba7ca71cefd",
   "metadata": {},
   "source": [
    "### Stack overflow for putting mutiple data sets together"
   ]
  },
  {
   "cell_type": "markdown",
   "id": "686b2f32-36ed-427c-9c59-9b3e5563189f",
   "metadata": {},
   "source": [
    "#### Using pd.merge() function\n",
    "- didn't end up working since created a null data frame"
   ]
  },
  {
   "cell_type": "code",
   "execution_count": null,
   "id": "9ff00564-7f8b-4e70-8e99-5b073d26c8da",
   "metadata": {},
   "outputs": [],
   "source": [
    "june30_21to24 = june30[(june30[\"hh\"] >= 21) & (june30[\"hh\"] <= 24)]\n",
    "july1_0to5 = july1[(july1[\"hh\"] >= 0) & (july1[\"hh\"] <= 5.5)]\n",
    "\n",
    "june30_july1_merge = pd.merge(june30_21to24, july1_0to5)\n",
    "\n",
    "june30_july1_merge\n"
   ]
  },
  {
   "cell_type": "markdown",
   "id": "9f43863e-fee1-47f6-a3dd-5c6545fdfa9b",
   "metadata": {},
   "source": [
    "#### Display function to make things look nice - copied this"
   ]
  },
  {
   "cell_type": "code",
   "execution_count": null,
   "id": "aa04b197-8f89-40e1-81fd-0f2f01ba9539",
   "metadata": {},
   "outputs": [],
   "source": [
    "class display(object):\n",
    "    \"\"\"Display HTML representation of multiple objects\"\"\"\n",
    "    template = \"\"\"<div style=\"float: left; padding: 10px;\">\n",
    "    <p style='font-family:\"Courier New\", Courier, monospace'>{0}</p>{1}\n",
    "    </div>\"\"\"\n",
    "    def __init__(self, *args):\n",
    "        self.args = args\n",
    "        \n",
    "    def _repr_html_(self):\n",
    "        return '\\n'.join(self.template.format(a, eval(a)._repr_html_())\n",
    "                         for a in self.args)\n",
    "    \n",
    "    def __repr__(self):\n",
    "        return '\\n\\n'.join(a + '\\n' + repr(eval(a))\n",
    "                           for a in self.args)"
   ]
  },
  {
   "cell_type": "code",
   "execution_count": null,
   "id": "e7893cde-ccbd-42ee-8099-50f89fba5306",
   "metadata": {},
   "outputs": [],
   "source": [
    "display('june30_21to24', 'july1_0to5', \"pd.merge(june30_21to24, july1_0to5, on='hh')\")\n"
   ]
  },
  {
   "cell_type": "markdown",
   "id": "82837f19-cb9f-478a-8436-06de48101da7",
   "metadata": {},
   "source": [
    "### Using pd.concat() - works! <br>\n",
    "[Concat and merge](\"https://pandas.pydata.org/pandas-docs/stable/user_guide/merging.html\")"
   ]
  },
  {
   "cell_type": "code",
   "execution_count": null,
   "id": "89974d5f-e1b4-4160-a586-e71754c2ae24",
   "metadata": {},
   "outputs": [],
   "source": [
    "frames = [june30_21to24, july1_0to5]\n",
    "\n",
    "june30_july1_concat = pd.concat(frames)\n",
    "\n",
    "display('june30_21to24', 'july1_0to5', \"june30_july1_concat\")\n"
   ]
  },
  {
   "cell_type": "markdown",
   "id": "a1118966-41d1-4e63-822a-7c9c8b58d6b2",
   "metadata": {},
   "source": [
    "- could try to cut the head and tail of data set before :30 and after :30 \n",
    "- search for index when hour = 21 and minute = 30 \n",
    "- go from there to last index of 5:30\n",
    "- should learn date time for the long run <br> \n",
    "[datetime](\"https://numpy.org/doc/stable/reference/arrays.datetime.html\")\n",
    "\n",
    "- draw box of pyrocb on plot\n",
    "- x and y label tick mark labels for lat long\n",
    "- different projection?"
   ]
  },
  {
   "cell_type": "markdown",
   "id": "fdb86547-2fcf-4212-b163-bad924c94a09",
   "metadata": {},
   "source": [
    "### Trying joint animation... again  "
   ]
  },
  {
   "cell_type": "code",
   "execution_count": null,
   "id": "123e722a-c26e-47f8-9fbd-3c0c6a847576",
   "metadata": {
    "tags": []
   },
   "outputs": [],
   "source": [
    "fig = plt.figure(figsize = (10, 12))\n",
    "camera = Camera(fig)\n",
    "\n",
    "# june30_july1_concat combines June 30 hours 21 - 24 to July 1 hours 0 - 5\n",
    "#Longitude: 145 W to 105 W (or 140 W to 110 W)\n",
    "#Latitude: 48 N to 67 N (or 50 N to 65 N)\n",
    "\n",
    "hours = [21, 22, 23, 0, 1, 2, 3, 4, 5]\n",
    "mins = range(0, 60, 10)\n",
    "\n",
    "ax = plt.axes(projection=ccrs.PlateCarree())\n",
    "\n",
    "for i in hours: \n",
    "    for j in mins: \n",
    "        #print(\"Hour:\" + str(i) + \", Minute: \" + str(j))\n",
    "\n",
    "        ax.set_extent([-145,-105,49,70])\n",
    "        ax.add_feature(cartopy.feature.BORDERS, linestyle = '-', alpha = 0.5)\n",
    "        ax.add_feature(cartopy.feature.STATES, linestyle = '-', alpha = 0.5)\n",
    "        ax.add_feature(cartopy.feature.COASTLINE, linestyle = '-', alpha = 0.5)\n",
    "        time = june30_july1_concat[(june30_july1_concat[\"hh\"] == i) & (june30_july1_concat[\"mm\"] > j) & (june30_july1_concat[\"mm\"] < j + 5) & (june30_july1_concat[\"Energy (J)\"] > 0)]\n",
    "        #print(time)\n",
    "        points = (time.loc[(time.lon > -130) & (time.lon < -100) & (time.lat > 45) & (time.lat < 65)])\n",
    "\n",
    "        t = plt.scatter(x = points[\"lon\"], y = points[\"lat\"], c = points[\"Energy (J)\"], cmap=\"hot_r\", s = np.log(points[\"Energy (J)\"]), edgecolors=\"black\", marker = 'o', alpha=0.5)\n",
    "        ax.legend([\"Hour:\" + str(i) + \", Minute: \" + str(j)])\n",
    "        plt.title(\"June 30 hour 21 to July 1 hour 6: 10 M interval\", fontsize = 18)\n",
    "        \n",
    "        camera.snap() \n",
    "\n",
    "animation = camera.animate(interval = 400, repeat = True, repeat_delay = 500, blit=True)\n",
    "\n",
    "animation.save('animation_june30_july1_concat.gif', dpi = 400) \n",
    "HTML(animation.to_html5_video())"
   ]
  },
  {
   "cell_type": "code",
   "execution_count": null,
   "id": "b1b7b6ba-33b2-455d-820f-3229589f36ce",
   "metadata": {},
   "outputs": [],
   "source": [
    "time"
   ]
  },
  {
   "cell_type": "code",
   "execution_count": null,
   "id": "8be92cde-24bc-4441-b9c2-af8c60de6188",
   "metadata": {},
   "outputs": [],
   "source": [
    "t = plt.plot(range(i, i + 5))\n",
    "    plt.legend(t, [f'line {i}'])"
   ]
  }
 ],
 "metadata": {
  "kernelspec": {
   "display_name": "Python 3 (ipykernel)",
   "language": "python",
   "name": "python3"
  },
  "language_info": {
   "codemirror_mode": {
    "name": "ipython",
    "version": 3
   },
   "file_extension": ".py",
   "mimetype": "text/x-python",
   "name": "python",
   "nbconvert_exporter": "python",
   "pygments_lexer": "ipython3",
   "version": "3.8.13"
  }
 },
 "nbformat": 4,
 "nbformat_minor": 5
}
