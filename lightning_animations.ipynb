{
 "cells": [
  {
   "cell_type": "markdown",
   "id": "4afb0f12-4e75-44dd-83ef-b04b5a511ca9",
   "metadata": {},
   "source": [
    "# Animation of Lightning Strikes in BC"
   ]
  },
  {
   "cell_type": "markdown",
   "id": "b9902fc2-f410-4828-b82d-b8b12bc37824",
   "metadata": {},
   "source": [
    "### Install Packages"
   ]
  },
  {
   "cell_type": "code",
   "execution_count": 1,
   "id": "91c357bd-acb1-4bbd-829b-a63a11d08fa6",
   "metadata": {},
   "outputs": [],
   "source": [
    "#conda list"
   ]
  },
  {
   "cell_type": "markdown",
   "id": "4ee9737e-0615-465a-95be-022d4d5c2789",
   "metadata": {},
   "source": [
    "### Import Packages"
   ]
  },
  {
   "cell_type": "code",
   "execution_count": 2,
   "id": "fc213f36-6fcd-405d-865c-64b8138bd1c5",
   "metadata": {},
   "outputs": [],
   "source": [
    "import matplotlib.pyplot as plt\n",
    "import numpy as np\n",
    "from celluloid import Camera\n",
    "import cartopy.crs as ccrs\n",
    "import cartopy.feature as cfeature\n",
    "from IPython.display import HTML\n",
    "import ffmpeg\n",
    "\n",
    "from matplotlib import animation, rc\n",
    "\n",
    "import cartopy\n",
    "from matplotlib import animation, rc\n",
    "from pymatreader import read_mat\n",
    "import pandas as pd\n",
    "import os"
   ]
  },
  {
   "cell_type": "markdown",
   "id": "0fa34192-934b-4a12-8f44-fb6e524fd8d4",
   "metadata": {},
   "source": [
    "### Laura's Animation Tutorial"
   ]
  },
  {
   "cell_type": "code",
   "execution_count": 3,
   "id": "8ab5fec3",
   "metadata": {},
   "outputs": [
    {
     "data": {
      "text/html": [
       "<video width=\"432\" height=\"288\" controls autoplay loop>\n",
       "  <source type=\"video/mp4\" src=\"data:video/mp4;base64,AAAAIGZ0eXBNNFYgAAACAE00ViBpc29taXNvMmF2YzEAAAAIZnJlZQAAORttZGF0AAACrgYF//+q\n",
       "3EXpvebZSLeWLNgg2SPu73gyNjQgLSBjb3JlIDE2MSByMzAzME0gOGJkNmQyOCAtIEguMjY0L01Q\n",
       "RUctNCBBVkMgY29kZWMgLSBDb3B5bGVmdCAyMDAzLTIwMjAgLSBodHRwOi8vd3d3LnZpZGVvbGFu\n",
       "Lm9yZy94MjY0Lmh0bWwgLSBvcHRpb25zOiBjYWJhYz0xIHJlZj0zIGRlYmxvY2s9MTowOjAgYW5h\n",
       "bHlzZT0weDM6MHgxMTMgbWU9aGV4IHN1Ym1lPTcgcHN5PTEgcHN5X3JkPTEuMDA6MC4wMCBtaXhl\n",
       "ZF9yZWY9MSBtZV9yYW5nZT0xNiBjaHJvbWFfbWU9MSB0cmVsbGlzPTEgOHg4ZGN0PTEgY3FtPTAg\n",
       "ZGVhZHpvbmU9MjEsMTEgZmFzdF9wc2tpcD0xIGNocm9tYV9xcF9vZmZzZXQ9LTIgdGhyZWFkcz05\n",
       "IGxvb2thaGVhZF90aHJlYWRzPTEgc2xpY2VkX3RocmVhZHM9MCBucj0wIGRlY2ltYXRlPTEgaW50\n",
       "ZXJsYWNlZD0wIGJsdXJheV9jb21wYXQ9MCBjb25zdHJhaW5lZF9pbnRyYT0wIGJmcmFtZXM9MyBi\n",
       "X3B5cmFtaWQ9MiBiX2FkYXB0PTEgYl9iaWFzPTAgZGlyZWN0PTEgd2VpZ2h0Yj0xIG9wZW5fZ29w\n",
       "PTAgd2VpZ2h0cD0yIGtleWludD0yNTAga2V5aW50X21pbj0yIHNjZW5lY3V0PTQwIGludHJhX3Jl\n",
       "ZnJlc2g9MCByY19sb29rYWhlYWQ9NDAgcmM9Y3JmIG1idHJlZT0xIGNyZj0yMy4wIHFjb21wPTAu\n",
       "NjAgcXBtaW49MCBxcG1heD02OSBxcHN0ZXA9NCBpcF9yYXRpbz0xLjQwIGFxPTE6MS4wMACAAAAN\n",
       "umWIhAAW//730z/Msuv3ObXjqPeiniZfQ3UlAZuWxO06gAAAAwAGduXNl9ntQXAfaAAHiDxUd7++\n",
       "id/mAGcPOih2f862NSAZkEZj2DsuGbv8cnFa0KTUEuPXzLh5rOFHgQCNrT8Ze7jP5yRfBz81sNEn\n",
       "33p3jDq9JpHHcjER9lnhXN+Urb/ilg/IwhYldhYj/QVfxIzhZKagIIveOXPcM7j05aZ7nr7x/b3n\n",
       "DdIPPJyTHhBROAx/cBx0ZqXkoPlmsyy5oW9VMvHIF+tDua9euBfxRk6aRz6VefTa+bFXuhffgcgG\n",
       "TMlDJzKrcckSMCUDjiF61TaE3/2HxHChQlE7V13y/1S1pN/uVVyHoijZ1NDROYyL6gFES9RuQBIm\n",
       "av4SxbRR/jCAD51zARlBuLSWv8kb6nZAQsNlp8BKRxAqMt6b+pogMsuIT/TER98sGG+xoqvNbKV9\n",
       "0tqRBDmiAvuv+2lZYtsFPqJWSNTebxW/uhWwsop+0LWHU7AXoAWpMUIVG8EcV94O5zO/pgHndGTw\n",
       "bhCDZuFerIlRMdFVpQgxajNL9hzON6kbxrD45N1QCaZrb8fb+Tnx3EcCG8BoN/ppjD49g7fjKUMJ\n",
       "2adpQiBtUWNFgQgUDcFz62qNEoKhaz8w2ykAbxTRl79VfqZQWxDFDGjWwgzqWP6Xdq1Wj1riUPmc\n",
       "h/hghfPvlPL5mXlwQJU62MS+3oN0IujRtXu1RXUWafftKoZGlg1/T0JgwqkRrnnJWqs/UesOUjYC\n",
       "CilvP9rRPE0cdijCub27Wo14wY0XOmrM/6mg/cK8UjFfYZdxJKzAP28CFQVm12S8W4v6F1jopI41\n",
       "zvo+LdkR0ah7PtUyMhCOYxf149UrI8LAVIr2OnN/7jVZJDIP41G+lTs+w4Ko99j4dZCMqvb5MBFY\n",
       "0sEeNhGQCBkLExeq5fliPz2P2pND8RpZ5Z4HTPnP39l0ABcVtYbOZdBWA3wn/2aRlyeoNcmCYemO\n",
       "2mAn7r+Erdgz5kCYb8qvatgigaN/6W+f5VRuEFl85kajXZDT0Kq+bPX5/SL+iA9SQU6+WLjr05pZ\n",
       "aR/LCfF0Ij7oiLc4+HgkRjC8Ss5uMeBh/SqSvAUVN8AU6lZZRqP/Uphk9Zc6sc7xtB8/9HpOLqS9\n",
       "5Z56BqZpjMFzjtrhmysbUzjz8XJ42If8oRfI6PoZPRdw3tXZPZ4G4xPkNsOXtcf3kOYjY3HmQSJd\n",
       "0DOWi2VpgQZ7w/6iggjHJ2hg139wLGsJNxiXqPTAllh8X1KqkV6A518Wvn4bPQzu6i888v4fZfHT\n",
       "wNYiDCH6d6LHsHqdWxWNv0NlevDbi/LeF62Psf23KshZhosXSnPnLYhCOlQB37BpTR01fcCbOOkV\n",
       "fPiJje0k78NPJAuddTjeiP5oVqSODSe+mxdsf0UklD/6lpWKCmTbDsFl0yXgH36e3meDJ3/NsDBG\n",
       "KfSOpp25TPDGE68Dc3wuEZT4OoZJe5vOUXBzrCY7OvjQ7rvfwNjt0/U3alcqNwfpY8cD4cARHm9Z\n",
       "yzmIHUZ4SvNhyedYO+Cl+EsAGJDgeM/ziwzBIZsJg8+hBHx8PzT+gDy4Fn79ZlUK2947Lhdj9tZ2\n",
       "x6QpiGgecrGklPKUNOnmM+r5FNdRA7sTpmADJ4JBqvLxNqJSVYYvrX1d/gOGtBuDbGjobN/f87Eq\n",
       "DcRjOkPZ3KO6VXr4s7b95o2LbLrWq6X3Wg7Ww+66x0YFbRWmn4Kxso7XOpeslxV9EzVl+teOhE0l\n",
       "n9NoRHviAfRlkqElU9M52ANzDuriotSoZJbRYwinG/1kKv1f60ygn/AY3Tv9Ye48sgx5/hP+d7Nh\n",
       "lla7Hpv5+gqOkyW/EU4j/xXG0nMtVQ5ntJ9ktD0KvX3KdO9SaayCZQXp29jxVuQ0+R2S93MMNSZ1\n",
       "Btmbnncmsmqdb/XFFDhZ5rnRr/Ewj9wXagrw792TodJupfBsSRJ6C/PcSiwXGcjWD7GgsG/l9YRo\n",
       "nDjy578UNW7gX1ncfnkpXlm6Kh0zTbAPMKVrksxj3IQN3qI6WaNZ+fCUJR+HLqzo9YqdTsg45t2f\n",
       "8hIqTBmLGXoU2JPsjtjUzNT3QKlXaFyQ86E4N8nk6EDxV5RDmS74hDGIr2J2vjZVhL+D3Oytl5Ki\n",
       "ZgpD/PDEejR77Erqtb07z9QYsqD44LNEkljgRO4B+hccfg2TQapy2UfJbYm7BBk/0XRSM+ScocH6\n",
       "2jtcbKPjxE0ashR4GPinksHEMP84ow2wJ6Gie+JVIgWwfdw9aYqQUENFK7ibYAAA6K3nK2U5yEZy\n",
       "+gbBJUHXg2gkbIVvc4ma78yaWgjO4aX5ucgCW9lUndCV7/9z7YJXz3Iu3IJ8//S//8hb/UNAEfmZ\n",
       "mA/T8+1P97oFUHk4rvan3dVMiOIClVyz7AYgMQy6N1PA3wBOP2tNatM4uk1eeh7VIjRST0xvN18u\n",
       "wcGIhvGdKpClOitmr8NtZCyY39wyvdZhoz6k2wn+iMZjzNS0LMFySxv14aSfQFAAdTGZt9u3oF+Z\n",
       "15L9zyJhi+nHCQNbdqbZ3PzocrBICf3ewtd56iXZ5qSmGA5bCsNua687dCQsbpqhUa0FPEsrFX/e\n",
       "937rGJHsV655CXmtzk4D09hRDsRykxlPCKDt/NdMzGhsKjSi60WWrNDGP3zN/0a3ng36j6g0uwvh\n",
       "ei0xDiCB0ADdbFl5eMYPSNEUbgK322CSOjSt2QDWY6VgaSNwouJdFmVYZ23QZ2Ln7InYzEmwyk99\n",
       "cbnvbnxfywrtAozSsontEwxzuP73dAKACC/+dq8z8uvHczny87tV1J5ZzYZxfvq+GFGr/6fDrtFD\n",
       "pXbc0uu47Jt0h3r4mHYiXXbNcSdepfMJdvo8C89zXFssfW9QfrQaCr4z4gJxjSAnk8+IouzbRRmq\n",
       "pZhCPrSXf32qUAWaKFFbkaKQ1m04IRn98DQdjhEv3vAzHym9p+1hVDZWhjx7uDAIYOXt7I22CHD2\n",
       "tcktN6AJ4euXOB0wDzFMFrPRVV0Hed1hcxAOiG9iB3ZTdEHvr6hbQGuTsiAkNYWPlvpnY110kANe\n",
       "Vt/+dRJh7M5RwPzKeXjNSJWhZs+OgQtkLa1iANgXCTbPW6sQJMtaInAideO1aE9v1huF/JADXV0c\n",
       "3KhoOiVq6r1Hh3Z3n4IBxuLztfVmTPBCofPi0aCrvSI14OlizqzFZsMR0OyjNH7ewX3hYlO510BN\n",
       "gkdDst+gbPTvXVBOQFY20HpTbv+WCURZHTTgb2+TiBo529n6uuCL3c6n+7hXZrGiadQHeCkOhYx+\n",
       "6DZooEEasOnIRcQ/ZH0UvVeWSasH63USNJDyvC/K08XOhD/SrKI+8JZUjbDZ6T/2L6+GJ/Mrub9U\n",
       "EL/fGhN/ngPzKCDYvXZ0Ym6HEvvh1ZRhToCLV2iX6wdBxKGzAHmsGsAB8mTyf6O3uCcv/vicOEFb\n",
       "G9PPedk5udPwLvjdA7anc77f8ohnSN9XrdJLDrNhA+wUGXL1WOC39OWAOOfIO0cnpDU1Dl6OurGK\n",
       "5eENjlT2FeORF4JWubWfWRS03QIM2Zfmmh+HAcRFnjm3/giYyJEmCJnh2Hqq81oDTbG9jDoO7hDz\n",
       "+WakpgQHYEOkVDbl0FsKtOp5DRf8S3dH//1nTm8FpwvdelKFgbEZkag2kCskGug733Sht18IS21l\n",
       "cgPC7zVliCmLisPU+SV3K2KKjFv5N/Z6JH9YqVQN9FQaHM6fygwb3kbbhJjHfQ+rBT185hppJvqy\n",
       "FWjN+BSCA1iGeLpjfwj3eu24X/O5z4aJvpgDwb8P90UhNkNoQvRGY4tSGlwoCLLAA8hrSAphP162\n",
       "lX45np5hfyxpdG9qYhb22BPZiisCABXSSQynFdAH21AhdkYL06Yz3qecdOyPylJb/hIQDWYqbQlb\n",
       "g0NuKle+f2/6wlSjuyMe1Ov+2kd9HXAEwmLqsDIQc9crLNg5adX57PZc24h9+JizUakwCMHL/arO\n",
       "0xl3x9JBAaP0t3S5sb1cm9Yzsyg9rrv5VeQVZcw+9IMx0OWosI7EN58dqYOo3w4BGdP252+MaOJt\n",
       "99NbuRmbnR1zrOofc43gBvXGHrApCLSeDfSqgv7Bs0q8/sjzZ2arptY/jfuS83GT17BGX/+oJnx1\n",
       "LOoHG69oNG2vV0q2dtnqxDISFKQCwjNqafyJL907jxQWu48rkIRPHzY1svZufnJolBIhWzEpMyoc\n",
       "5Hx1RsmR2qMnVKXXXLWZYOrm9FFZw7T3/vvHwxCyWc1nMSb7oC9lADK0GXlexhsMZk9fVI/3ld8b\n",
       "lBiXscOt5K7iTJnrluiJFr7IlJk9rqjtLh/ym1DsPcXP7ptvVPt9L0XoaGeeTaOZ0JJrnOx2qvK9\n",
       "gmK+p1Rr5CMDWCF31OYA8x05wLQ+DLmMUj+ulI2b0O0efN6XPm62s6hPgd44GRMAxeGbrUOZK6xr\n",
       "zzV/Mucpc+d5pMpdwAdSWOZ1c22uiAX8Afinz/JqLtsvIVe5tCpKNlKEZjdnPFwl8DWzFfiziwvW\n",
       "IESzoUSBhwZWRHUZcDvogaDAE7nylldTOycANudAQ1qf7ihXJwT1R9Adc+3f7NxlTKZ4RvxsOD3F\n",
       "tyW4r8WFjF/UX6TE7F59FI1l8165z9Kr2lFtFMQGjTPK4ehWELhbeF6L987L+BGUEAbiMBY4tJKk\n",
       "pwB754Tm77tHvyZtG/u9963Me8bH37G9pTIhVE2c08wAKmVMAwcAAAQ3QZokbEFf/talUANIob+A\n",
       "Imx30FU9GkQa1Xgo5coqH6h498d9kwi0NZoryfsKNItba6GXzK05ToLFq6oZJb71Jpl3QXM9z7OQ\n",
       "cF0fkSmQ9jIHcoERJvf3g1/XAnmCKpw5hYKdoFUecXTFi8whzWBDjbeUsHjHBrNZ85Ko4x/nnkQA\n",
       "dNzCw3VQ0Rv1IOYBBIMBFtkpEEf9BRA7YJBc32DAOiaZbDOZfC5XIU+OfYeloafYO3xUvMoRPvL0\n",
       "LOqdC3D+YFxVL29+Zsue304B0im4VQIRMJY9wslhy7jMX5Ad6/2NNfSKQzFrbDaUO2z10BFjDNTu\n",
       "gaegt3C/GCglzMuQAwGq8hUcgCRX4Tk+cpgYZR75yWgbHoRASUNnonIpamYaGD1ht/j5UEHgk7Km\n",
       "ACHvTXtN2tbZlinob//+kq89DFPpwNqpWxdf/FBtHVk3jUfB6cUI0Awv11kxkym6oV/g5TuCyP6Z\n",
       "VKiyoT1olHllKGlhImZ6BNVI5YY8Go/u2asLZn5j5CRICpTjRpH5HSBj92KzrWj+aVA1Vyy2Y2nm\n",
       "Rwelsx8r2OwU+/SvlLGAok/9pYG8VqgYXKOHKF/SBZi5xmNrz/qIdkFhUO7Em9nM7LV/qSFdpMh9\n",
       "vlOhzV1OH68GeaPlwKGTAxykYrUINrSltmeo3L/VbJ9JLV5zCh92vwf3Z/KmHxLIwv22wBSwr9Qv\n",
       "3GrDTxwwYNxdB5cDNQdMCwtA5AFt6jSTfmB3PZwQlbIWlTFIjYirk2nIOJQKk8nD1nAe3jONlBcZ\n",
       "gFTuc8Ha69Ptr4f/4mYh9tG9Qtp+IAUSkAaqpPpHsK4ZZnfcMG0papT98sbm+fPL/+ZBT2Li3/XF\n",
       "JY8lkereufMCgw4yw1XHfvsv8fAGNRe2+CqndGhDHUaVkoTfDn1riuKWTSg82PS4imyqIgntYy9j\n",
       "eJWWXw2Jr97GEhgC5/Pappy6WkSog9sFw/LG0+37McZw8nFtxhllxWlYYpW1qbFx9MkOlZ34koVL\n",
       "R2MzWXAHATGACRIrpA8uUmxCCD0BhroRIPGJOSPFOmIqL6s67WNoyRYAgp798gpyva0VyVeRtIFT\n",
       "MM+rcsYAJAAGXm/BD6hHbqqcrxO8d9F5xMRZsQ4aOR0wsl2RyvCV8sLFdpD+9AKYLiFwpwjETVHN\n",
       "RzuCFGdenW6zzPgoWDqmjbfJZ9KPGgi2uUuOyZU0dGG2QsIOtb6P2CZYp5htiuwBPLIpYU5enqNB\n",
       "PW+OMNFzq6ezfRrBEAyidlTXFbuFBL+dRKoVM/B+CnlRyBJohpd7YSqMfbe134iuhz1th6Bjnm8f\n",
       "Na6jTuqh9AIpVOYSyOKMyIo7V91xw5H8sZa577V61FQucQtI/wWyIpoyS/WQQXH3JHJFkkw0KqP6\n",
       "4Btt7CTU/qMXs0CDXeCL/WVk5PR0GrgfgEnxmiimId1m4OL0dpwAAALPQZ5CeIJ/AAPRYMQKxTzn\n",
       "WmNNWrZO93BwReZ2RAaam8RO//ezccJdnX2pBq9xcllF1IdT1QXieHudD+QdZFLfq22V/fiSWj8t\n",
       "CparhTOL0MmixYAJRDvvz3oRba+E/ro1RTpdxk+fVa+9PjQ7F5+O7XRrJ38TX8snTb3IC7ndQxft\n",
       "7N2kno0s8pNm8MfyLvXR5zdQtw9IFYKrG3I1uOrdIPGC2D+Cir9LPxuvsPN83Xx5cBeMy/CM+8tt\n",
       "p8Dh5sz8Yuk+BM96Nin65Vu9SywHgypvwaS+3R3vKTjrpjd5vNVwQtvMkmXxh467MGrzbwhv81Zr\n",
       "ZDWcqeBISK1tQts3jqW6vjpk6GPytefoO0E8+nor7um/j86jKUhW5pxG55bUyjA+PCdPA3fq4Y/M\n",
       "bO0jgcH1MgyNUktQuORIPqrrc6sLk/oFpNQ4OvNxeQycp0tfV4NfWciEaLBgyDeBlv3dv9vnBQM+\n",
       "Eqmu3aXqReFl+XbKAQiIcKsigk9wszV2Cz4tu299+e8KqRdTWQycST+TqGDyKJWzeZXE1Vgp36gS\n",
       "PPm8GXhiMu8GTxGFmvb3abvuVAlTEXRcRvAMvV1ThtFMFPbpU8HJmf5tgb2OzhcZNf+dF3UlOeY6\n",
       "sm/PfbCgPpZFNqMXR16Z329cHc/GLWHzhCx3Mift0c8Y0zQPbBzZYpKGpx1lMMSEViwwfVGexPru\n",
       "tk3aysbDNMP+vewSp+ENU7cOSkMZ+gV5hxJls3c1/n8UJxl8XvLK/olAokKJNEur4/oE0OxexHgZ\n",
       "I3AIM31zDzuOyj6zhD1zVpRpC11TsU23hHGcgYlWBBIlVYOmTPS6vfvB3WJkQHTKTWoPRJ3IDon8\n",
       "+LUGDRTar+10OY0YAOUBzJdeMoRDLuYvO04Ul7xUv7TsfoJ31Wu6ZyDLb4QXkoJ4l8wg9XrGt+em\n",
       "kAyUxhnnQL4BsL/wmoQ9UvEWcUEAAAM8AZ5hdEEvAAXPb0r91e+CdGHP8RiLVADj7vWb/Cv50nN0\n",
       "MD3lnncoc8KpwvbsmeunGf785ETF6GhEvdsrucUe5jt5BlhjYIwUp0hLnJfF3/a287KEToz0qwNL\n",
       "WYk/oO6PSwD5WR3DrjJKtjdhWoJhG37emI+sT6IHolJznbmLv6hScO3HT7b0WiUc6QNH8Kxt6XMW\n",
       "9AcT10cpz6l9u3jO9nH82+XbSOpWEW2zfXTHduMfH4tRF/8A6kL4p26oW9rbrJ4vw5SZIhnYVfoo\n",
       "PLm4hmc8Nqy7R2Z7VxSd7O9AwrZTLmhJJ47lEiX58AalRAP+FFukTWQQbG+bg+xG65/aUETqU2f1\n",
       "l9UCVw9QotHNT53/FnA9ywwKclZhdhg6WwXkCZrKKNajo3TisP/uKWYAUXq7ZVHunJfS4VuKO6N6\n",
       "sqNLY/KxK3wxX5mLR28GdXmARU92DzpIv37oPWqxgKm0M0aMWJJlyNHQ7CXkH3/+ag57eTYifleG\n",
       "UQoEGJn6mE0PUSdf/drSvgKYAbu8FUikR3+DruTVUeMor/2vIfIySL7kHKESMT8dzWgr+vTqPBFH\n",
       "QkBynmqQxt85lilyJ+liMdgNKTrl4nFtEQdl2NCnSzQP4ryShMoIB3yK/JLwn5UjJvQgomZoc1+W\n",
       "1BNLo8OsGxnIuVoP8+qUjdv1IK9wjqUeb5NHM2sKkGBxFTy4Sh+jke+IvUZb+GyKrzWlcNRVDBJ3\n",
       "m/780CvCfe7yKVSdIneNkQEwej1vUzG3vI1xIMOipPN/ZzdN+lhkFOW3p+O2LH4QYHCq/USyD+Hk\n",
       "4kKhYtQUy58LES7tXxbcK67N0sZl+UUTiLVh6etOmUJ+NLzLSPK81q+g5sX269iThmlCwy0D1VEc\n",
       "TLOX0M+VwLdElhy+uU1RPNyJDJP5GN9qDoISv2bxGvKTZfK5S9F9thbz7IyzOnIWJHPdASZQSbHN\n",
       "yFDx35SQ/W9FR7JJj0cR/2R710esf7EfhwMPwsffmvYztr7ifO7XzlBE4WT4qvJf/TpAnjqg1l2O\n",
       "a/3vPm0kVQM5cuttIGKmlOc1tPGDV86RbyCh32BnJq5dR4SmD3GRDHE/AcFQWgEFEZT+iNtAAAAD\n",
       "MgGeY2pBLwAFzxBBuB/kqzDd0sHqBbQQeYQAhPKTb1MDIcaVLxsY3OQudLTAwk+Uv8W7+C1FFmdt\n",
       "V6xjflG0NYk4T9sEDeG/onioLA11rUePcKD9wNnXGTwlEs06x00CG+S14OuWcA420zzsxyMPvAp4\n",
       "aI05ch31uZe1FC2Fh7Ni8Ve3baVz90eePMy3lXLihw3o1pvm1tzb3G2p2pXn3WCqVES/EYYviA8M\n",
       "FFGmoSgJxZv/1bl6Wrg/4CE6DAgmMGsU8bA4mFY2H9OIep+YSDf0mZkFCYp+pSouZUu7SyMwyNCX\n",
       "AUxnnnGqM+aiERGHpPmUP3xAU1IeLe6eVk7EA31I6VVpU/z9uD6WwWvQMq7Qun5DVFmp2gGimMQN\n",
       "QXySM0vuF7/pN8+07LrvijL0RnZdIHti5o0Pi8EUBHQOFf/OaLT1YJtDYTwPvDKFVep7TrMMPiYL\n",
       "QVv/mQeNbjinyQLdKCtzB/uGB2FeWdJvHtCma+5GLqkZlgmlyw9jLVfmVC/UTTJZnWdF49m9ZEWZ\n",
       "doN2TZmQuMBASek/usU50SAO3eddHPR8SgCgMpdfZSR8JNSvhZ4z4naXvTLtuQ0+XFEP138oelrP\n",
       "tBaVkj6h6RkB3TorBmhwbhoPHpIMCbf2Wr289WiB3adRuzCYm7D2+Y8KvAMUjFu3UvESuFVldgF8\n",
       "/96APK9ahCDuQNqn9EHCarf+dluBG6+HzsWfcTTwz3kwj8asYzgZUYjp2/0JUDHpyJXsRnnCl2AE\n",
       "+dttb1I40LTt24IKF70X+EjbxxSxjnFZckEjemhIZbwZyfyZdBsqBbtokA9N5b4vDMGUfGIgVzeI\n",
       "c9TWEjn1p+NREdzzadXeTMgrt4dpU833SaTwAIaQeec53juyhGiPCc+9FJUrWPjbNZ9cBdvmDVIe\n",
       "7XjmipFe8x+BAdIVScdGH7dgTIoyv1oX3v7tiuQT/oTHfB3UU+f4OhtdZ3FYnJUiqucNszBV2sNP\n",
       "YkxHQqRdG7nl1A135aSHXZPQu4r5pgpAGElhVN0R3WhrzqhjpNTqsaNn1yaSZblHPPBKUXEqXBZK\n",
       "JEnJXFbUNkHUG96dYlU1d7XkoluBAAACzkGaaEmoQWiZTAgr//7WpVABePuQLR+NRkQPNT57adXI\n",
       "9DpLlZRKdO+uJP75ACd1M+xTL21zycELImEAY9qxO7seYbCrgadIlQREvZt3N2ZyCcwdGsH7jTnW\n",
       "eU0wHE5Uy6fE6Ca/I9ShRUay1lA5dvZEN11y2eLdcKoeWLfx6XahVzJS6IN3/MoIevpRDOnqOXGg\n",
       "VMHPvCrab+p8KDD/8+kN4EoDt9G5J9V/RVAFwNV/7fQXkuy654g6jsS50dEmCs8ogqmi5ZTVvmMs\n",
       "Z0JpDmrbHMqAHRroeVVWhNH7KI70JGHh7Cymp6uqPQ4LRh7/RDQE71ZQikC2f8eH9WhyYCIhuRGz\n",
       "CkBnFOmi7kUfZUh6TIA3FqBZFJm8wEtGdV9v7c+mP6ypUbB/yjRiDZnNnyRm9BFiMThICvaerR0S\n",
       "uYGkpwWk1dzyYx8+uQaw7R4YUF5ewnqptQCgytkdTzF51t6qOjkJ1bcp88Q+MHKx+fMPew2sXL4X\n",
       "2VaAkRMOlfWnisrA0ODd1kmIA7M0lzZEUiATZuN0UgaI+r4DXOThrnGKxNXMeB8p+HGs7HGVliUF\n",
       "3bahzVeyCTnVET0p9fTRp3ashVr1Tw9yuE6NUNPOvuvHos+aiw/I9jUOZRZwStXSZUQceIDHWOWR\n",
       "OCdxdqt+ZXQS3B302iWxL63kxMYtUCvw0Ae/GVASg039Ig3E03YLMM3uuTc5iXvxOmLM3D01906Q\n",
       "pjW9UcaVZSfxrqC8xRhhQY82tGHihoxN6LTXmaYecn0GvVj6XCXblShbzKIXQjgC6weDouLj0K1+\n",
       "amMQzk1PbbDd8wZu0u3+Ra3EkfXEjdvnFIiWFLq0GRkdCWB6sn+jC4JifbtCKARwAl7fmzaC/HR5\n",
       "If6V245Jez+2EQiaW/UuIYkQ7SbvfpDAhzcPr9UKUqHM/EwhaJ6u2a6tUU/HEfxjfpcDRc68XJki\n",
       "o2cAAAI1QZ6GRREsE/8AA7oRx88wHme+toJQ1XOKCZkGj+AD9CVjbN1tBK9iwaePaTQpD3YQxtK1\n",
       "ht4nxzcSoXvMmJGo8Pt1XYgevD2dyZcKa0DbaqBdB9ocR3o8kUKNyurCaMLQCnDy1cFCNfYxUz85\n",
       "KWtkiOkXf93LcEESNal4QGKOO73GfggtqnzMuisjh5BmkERU/3EHLbiCgVe1pmXmstXUgG6MdhcV\n",
       "PYwcvNcEl//8XgWRm2Biqrl+rBY0O8H+3BDd9TDogPfLY9q9K/34KldZoGoSrxM6dUMyXsbzbopN\n",
       "ShdHXNykp8Q9aO/kCasz/ficmPqV0m+G9jsMhlh6rybN7ffuN/EK+owtveNuOAaMBrkgNGbOdEwY\n",
       "k5I+RZ0ziF1IAFYyLoPPOOh+f5H+jF2JPohg0BDg5kPRIvmIIxUGQv5pIlqb2cehkndPuqSwZKcX\n",
       "Ak3HCONqaL+1l7A5HhtHZnRaFlvQFblIWT5Uc/Ze2jbBHykLzo31jO5tfPWfVWC1QXE14rzrtqsY\n",
       "Q/jQ3q5kbZbYDglHZ24dxdTFXtqfzST/nxBCQzGqp0gzvGeHak30HHeFYIpobv12AHNB7XxBmLHW\n",
       "BvGh66W7ygZor8ad1FCc0CKmylFiTUTFXfQicMdwGe5gfxkz0j1He21w1Cd/jZyoRqZ0s3O8jJws\n",
       "biM1vr7Qau+gQBdYJ3m0oPhHxfeW35aNiRsNbKqpA3DmGSlkw0F6lbW3xRrROVdkBFZFaCy5vrjU\n",
       "4QAAAp8BnqV0QS8ABasjx7dv/dbRNpJABLucT3p1OKpsoh1FQrSJkY3gQfDsgAut2m/rYTFK0sI2\n",
       "KVLc69BC4DpZz73gM1NGEaz9HfaK6YLRwz/tFRxct6FNc4wBk7sAMq1BQsvdjFvMJ6af2QBhHAfh\n",
       "3PrDL+6cAkSUnLXgoyyRzddQutiCxyXKVdMU5wAl+8rw6/Bccy8jYvAk/d4KKPpoUiveRfUSJhIP\n",
       "UcolhUzE2YslxtmR3MN4GEVkFDbtK4fQXBC29niC80zTR6+66xEcWlliYBD8Lscl3/7w6A3ig6xB\n",
       "6g8fT/WqG4KDR5MPlXRKDq7QXcpbW43Q6TePuB6kP3e8PIo1JhO75Y036o9QocEY73zVV+7PU8yS\n",
       "BNiYmBN//43yPqLuOYwzs6P8cYDudfBFHDdMdSpa7cAjjrdmVLu2bsMIcSPSb/V4ZF25zeY4HPl9\n",
       "Vnm3EaIovV0RsWqQ4I7CDpppveaMFQIUuLZFTjdgxNBbBPjuLw3k8DMAMoPB2iZrCTajsJ+X5mBI\n",
       "QaPpyvw6hNFkPB02PGzatqQCr1cM/fLS4lM/PZwO1VNOE+3utmbsV6zot/bpXWhlCkovlnQ8pGbr\n",
       "A0I5A/xSxNXwkm857sU27dA6NWEO5SczTY9xBTGCM2R8O85Bed5BvR74Mn1LXUKnCqhlhXARANf1\n",
       "LwZfp/fed72cFWtQbYyghk6GfoU74oyNcWxkvQyk8y7qxqpEBf+goXa5SO+XvYALD8fSFDIRJD4l\n",
       "s+8sIPQrNBksQeNYwzXmkLQNLnGom7cz1OssEA59FBm4aKPaw888vMuYqJ7w2I2PnWpWRTa+RFoD\n",
       "dogoviujyrV4ci+LTIUQgxq8wSospKWGW7zRgD5n3hlSXoPhqJVjG8kCrQrYeWSNgQAAAfcBnqdq\n",
       "QS8ABVdY//mQbPCqAD9CP6ImQMjxDBUhI9r4STzJ4Y5aC6qmFbFbrh7cGjuZJbqRbfzn1jULiw2j\n",
       "1Ih+uVnDuDUWTmN/AL9LvLDlmhVcVK7y8y1EtP3XZ0BKl27LoqjCiwzJ8o5cm1x3iYJ5snpW7JKA\n",
       "Q3HfFEjpfieJpZtBL1wEpD5tyaHFlMIHG+b+ZHi6/aS4qoJsY59eSY//hS0KBy7k1IoERpT5S9Cn\n",
       "wF/G67+wOpju6dJkv+nhl03xxPo97Bs3WMvSzA5bJFerG7WkQYux+y07Ohqjh57xeWEoX21UM04c\n",
       "xhAe30sZuOrQoch+giYnnEpOZLfXYMI+f4EZqk1uejh5Y5QwhguNgzDZkb60ZiQm07AaRWKyizqN\n",
       "4sWnZMYvsB66EIifoOx/jPQ6H6P04l3JJQlEbWLiiWTx8FWBE72u4u2qjC7/au0jeeEFIzufOW3r\n",
       "P9qWVZwzFiQvbS4Lw8OUpBFgFdxD9oHLvCJM/Ce4UTP8UxKWUUtELUF6y/lcDdyGwj2DtyCSxSIW\n",
       "b/LwViQQV5pNYC06GeAxq+x5v+L2ous4Z72aBv/RqvLYqzmzG/neUlZ4gnMMi5BQwYwI4tqPeMl7\n",
       "HsxL3ro1Ar8LTNL6+3vw8flr2e/V3Pii+BslTwjYlSd7YfzHkQI1hpPfgAAAAxRBmqxJqEFsmUwI\n",
       "Kf/+1oywAMteEqyOyNQmgAZziJxATDat125Bt3x22fr8t/Wxev/VaPkg9dGVuRCDlopKQu8sNUi3\n",
       "WjkKyR1MAz5j1lCWp20DZXmJnqKY0wP0r6pti2XEyxrdMHZJ9JGG8f5rpaOA1QGLPDmBAYSSvS3W\n",
       "tKsYResH6A72ddDP/9AsVWnqrgKitsYZJP54GpDy0xwMdhneobM2EzKTD0DbLkYYdOfx68sxMLt+\n",
       "xdhVEc18AWRYlB9/8NqAdG5P4D27/9YiY5nzLfBfMs1x+W0oRNK0rFri1R/XZvMeXqOfBxadwxpC\n",
       "s6r8edWXh1AdCVqm6sEqrSgMy39iumzPs5koaQ9BuXy/d2RGgF78y22itMhlizsQdwOShRTrFcy3\n",
       "SWPzTmNvQoLGQAzUrmYGganFdFrNbycHGoh5uSYlOZqS3XO9VttxRIJdlbgeM8tiRRkiTypc+Xyv\n",
       "q63ql2bavakjVYaqvlE/PUrFXQApVElontccY5ZhvaKs4/hu0ISmiCrr9XO5bQKshzcvB29FQK/x\n",
       "Jog9JW2zPC/jJnx+yzQF2QjuOPGCRiG7JnFLugGnUJNP/r/XRt3sy/wn7upWZuhN6tXZYH6YmoS5\n",
       "xLGfQy6ACIwt94BPNQ9is/JuKniEXel9SoDOQmLZtPEuopORudDEI21OC0A00IUKJ7ngnHN9NH49\n",
       "SJdWvIe/HPb9IZxmC5U+6vimoyNFdC5tLO8heA8OG8D9Buuh2OwJeXxfRWLue8wA3YjXMaaR2d7C\n",
       "hx+k/DGgFUapWEw+rlEDOWhm+i5xe55HNGQxBCgtAmFJdRcoScjx7w6M2OOKWqcr0nZL2ijGBz1x\n",
       "2fhNmscoeCAtMWGOvPsxg/tlxD3yj5Zn//9sMr9N8NQ5wCVtk3KthjTF+gxhXMLMLx8eVe1F9I55\n",
       "fft7X5ifsoV70eAB4XaZwVK3riWnQoV5QywdVjhfFixj1D1jZVKL5bgb+C8LazIdUuGWmCHTqt1N\n",
       "B/IBa6RVq/MfRlGD7+sezi9GhUYnCWyKlDK1Cyr/tmNkp0G9rgAAAstBnspFFSwT/wAD5zSAASYz\n",
       "lQWbkVV84AoizxzDFe9xpiBD2ySxl/wcoj0MdZzHydEWTXENEtfOCegeEa0vS7j4fkICBQfnffSy\n",
       "iJdxJHiqO0LjI3nboTjJSQaIm8eNve8YjnxdGQsPqUoMiLcSNAv5FAJEb4HMtEAeefp/RLK6mS6f\n",
       "zNQboYbQE1OYi0U/gufMXfj3xeApXYrtYZqcj9Qqy5cZq0zsLiCM616QwwnY43VwuoU3pLg2ePNj\n",
       "ev7nOihWTT4yHwSAP9CUGu4SFQ4hcBvU8uJC8oNnXsIAMrNLE+j5RvGznFanRqD6kAcHANVfRXL8\n",
       "ifm6VqL0MDWZPmGBPtmji/eWtjXOxZWPoVLFLNT/tHA2gnNPt3wOCgsJmAd38/KIpneLDhpLhQL0\n",
       "i5IyWslTQ6+QBaw/5qSqFjWpMiqxC3vSJW5mVoJMEE1gSSiNFEgZBPp8wLhHtixGdYcydwFXWg0V\n",
       "kNOTcsV/s8PxE+CZHSbsW87nJarxfdNBzhGpChcq1VjXw2pRWynBZ0zldCTBFYYd/iBkDNJMiGyl\n",
       "+NHK/m8gQZ32BBpOFiQzpHb28/M+Y//h/rZMxsSO1TID0gZcg6iMkWo9W8rAZ3oSDRcR9CPS2mms\n",
       "O4sI0S7Djzu2bySQQ0LaZRMb6TiNoBL9Kq1cxHcRwO5N6fFR0IKl7rObrsII8ZhTbAm3L+RzQkcx\n",
       "+4dYXelfGRa7cuknPCG+TWLHDNTueXa5rpXJyds12UvQekg6jYJm7HvvcgOQHD29UP9eL8rc2eyv\n",
       "6OlSJPh5Oe1KIytuagpfrJA/8S26RA1pneyO5GtD+vbpDw6AOluNZ0DIvAejy83oF1jc1q1jpORy\n",
       "WhXZnQ+y36dHt4KQeCCGzg8gIb3CE7qUg/+J6Yri0cPj8TDxnosh5FV9RXUtFttTLhliiExXWjP5\n",
       "A1ojV222ESNGLN2kb/RXAAADDAGe6XRBLwAF829K/ravXr4zzyIAIgN7PjdHNMteZ03r3rqMM0Pb\n",
       "jkZkOYvkvIuyPep1g2LpbFMei5j+lVrSM8CUMp+vQuy0qFEw/3oT73ep5TpSHtzEGGrz9g7ddeQ0\n",
       "1CyoGI1NBWq/+OTviDx1UsAy18m+Y95+3X+qGB7PTV4KjeyZbJ6kA8v3vSBm5L/cagGhvh5yKZ/I\n",
       "vl02ftuyWiX5MTGFuj27nVDImoMbSLeZPBbmPBtXp/6JP2AQ/FjtxgyQO1E1vw+PWApeUwtc0kne\n",
       "rB+lLnm9Y1LbDvlG0eWscSx4+uz7WPexhKvb4JcD/mgt4/x01PyjViOf92e6wluL1PYb/1PQeRNZ\n",
       "/JI9YKZZhO0vMtUqnIjYgvq/cmR/LuiOgwp4wCRKGohF3FDd4IE+6sM35jUtStajxVhwv9taLZXy\n",
       "wpLwcQKMhlZ0duHJYBEiq2/QlyW11MceIrBlO1FJusy6kIfZqk4+z2jK5QaxWuO4q2XdgF0ctSTN\n",
       "4oijqTwFx0DANseszPu62ckvGeI2yU8NwRyOlHHJCmCkoL16401TTFMEVMiLmbZQODfMYZoroD3r\n",
       "9GOw1P5ll608QXXWeXYditBwrPy3NZ3S4iA2LhoubZwBXlnqVa+D9m9toAipCxXhQ4bw3oUNJ4nW\n",
       "sw4s2Bn54skC0bbtaVaoSYddgEaWJ2skWJfssRCHhzv3VqxnHRUNStbxw5ygybV2DddxDFeJWfQQ\n",
       "kIMxanTIVyoNsekGQ0pYor73vUarV7u+yjw+rLBd1iEY53uwOKkc82otqh+hCJ4fKQOJr+zETBhr\n",
       "VyNm8H7V4bf7QKk3RfIeBdEXXbQPk4g3Lo26yLHzfMXPXt3v55GrS89vyxyx+PH67rAoaQ0D28Ga\n",
       "S4njO6yfiYlJfUE0isGmrCSipnt+Re55UlvVTjX0fKVzZ0GYDcI3V/qc9AW1tIPVD4jWDMSJdG5R\n",
       "YnSx+gZUaa7fpkXim3O/3JYcWBedxNnAfFyxMJkw1KRsvXjuz49xrzSpy/Jr5pZUajl9H33vitVh\n",
       "HgAAA0kBnutqQS8ABfMQOoDix6m9Xrqr8paybDZ8Iv1bABOa3JFou76Gbqmq+RcFaC6gBeUTCT0/\n",
       "f8L5BxAH/01QjIX8j7o9GDEaJK9DknYxiV750LRroTa9rMct5icDRs/AEd1vP5Jzq51yw294cY6w\n",
       "4cSGp4aZMmHcbhxZ8hHpFnjK2wd8RBFHey25LBWmUUj1gSdlePdQiLrA5xYYajgI3jKqp9Prr4kP\n",
       "gD7NArgqCNl7Lhf/yDCp/4dPgd7dwhvCJQvf6mXG+pV7iGt+u0npslwyoov5pRMFemcpUcLx7+0Q\n",
       "4ALuxRcygWkwnKbCuX/G1BW4aSOs4bfwG4ejtr8yBe1c8eSF2iUxL9xwJzfjhVc/uXwjg7AIjrf+\n",
       "+ngk9RniRlZcXIuekF3+PCiOFm2LqtcxyW8WzezlNJkJiDIbJqbD3DrSwfmEsCjdSIqZ2V/BHeeO\n",
       "1NBUJnEPjChoB13f9YnIgObkuQH3ETHixF6o5g/rsiCkqBb9td+RGY/gG5Gx2O5UPZae+YQPv28t\n",
       "iud8Rxv5D31RUWtgUaEwCJ0v+9FnSZftRD7+fRO4sgeqI0GkOuwwZo+FJtEoDxXzxn4trSLtHnA7\n",
       "2kWiOr9vI+SLcwQBdh9XZhmpLDTHNAIPG+GXWbgVVSmyfM3lpZiLyCbLUs/IiB8dnFcwJ0Fikg56\n",
       "LntMycqVC2yYoD84ptbGvNtlkdjlcATdEuZ3gwVyiJkc8oz/CTnNkF79XBryUoqnv0aBbR3q0QEy\n",
       "xqa0FFGR5ohOPIRKfbf6wYYNfqZlV0S6VfXo4SU2RMzZhK+0+51TMNdU6Cf8ObZMmb2LBYSID7UP\n",
       "2QHY8gTEWZaqQkLY3/lyLRL0bmtBsdLgTUBgwDtM1PAMn+EOazgz/dFaeJZgoLzzYXVmJ5X4WeQg\n",
       "wScS8X4lQjPYA/iRFxgK5Ha3fOT2y3o4awgmxYsiPxdRSFXLsiAkBwzhQgwsMEiGTA4bGCrOzChA\n",
       "RCQS1Dd3GN25L8nucJyR5YYohYzZhSUaD9mtJKagNHQsDjceAab9BuBibhwWUI5kOKcF5EQ68GQT\n",
       "kR8UKMnUvaA7woNYg8POOiVoRgTACCUeIBK2o8BFxNWgtLNHmhGpr4Ipfm5BSyYwAAAClUGa7kmo\n",
       "QWyZTBRMEv/+tSqABS+J/4jDCkALa3N8e8HIsUtRFdNNeWOgb2yuZurk9c3eG+zhl55EOcvkUm2q\n",
       "yJUCjFJ1il9KrwVnhMzgLW6Zu9Eqv9OL+gxoNWGQF7lGX+dKGsI3e8A7tN+oH61thOh/KFqkFb9/\n",
       "io+7L2ikkzf5MOqV+f8yhhdp0OVUK9IS4U2Adnec9kf3Ioa/LxafMXs+NWbRgWYnxt054YmVKKuX\n",
       "ggMYapsduonui7dcvZdEdEgJTbSrUCCfa4DNYLhWtb+QgBJAL7s55AN3jySM9pj8/BBCU/0IKgjY\n",
       "0v02MhE0UtjTICQlydHCSPOImXdpSEtZl2QeLIXGiVdb6CNG1J9xJvYwvDXyDiBzXEJPjNxoSObn\n",
       "XtBLNsgpE83lGbuVHOQmiiP9hONNLFbKVwOrx57U2QbLTJeBdNaGnEMNZ9A1AUqqDcZagRm6DLP6\n",
       "E/18ziqLg/xkThleIyLlTJjcr2SshwCG3OOtrs5ngBwcm5iT1dWfbC0xp3cMRvbitJXhXh8I9DbF\n",
       "fExWwk3Mu5PrpuGLwMXZZrojPH3wXc9skHAE/McrEq9V9TiQ1ygzHC8wi0cSattrLtXldxx+71Xj\n",
       "bYTqq5sASpf1gUQZ//spm7+eBZbenuZ9WekQ36eP56k0LA1vvRORq3rL00JLTyZrJ0FTs/mGexIW\n",
       "jStFKqLgUgsP+q/xTCE+TPgUX5NtGtMnU/dP5MuLqIfdUdAX979yyibpLtu9HuT24sEncPTVUlHa\n",
       "IeRcVleWk6coNbjFnWlIYZTYAs3/f/YIIKq0XkDG/BZbglINxTTVq+vdJGONa4JpA7nTDRzet1f6\n",
       "Wx8mzUKVL/s1RHtd5Lt+h4gMM2zvFy73EOBQsgMAAAKVAZ8NakEvAAWfWP/wt8qABbLwTK+ov7r9\n",
       "NKQCjMIDUAw4UrA78t0Hq7XX6l8uKJZrImnR3JeL1HjWrCMOwAQTUNQiJ6LesnvjPLIYDhlA+qi/\n",
       "xeq6m9Vq2EwLVNuJ+5Ytmp3OQ51EDDMfYhKSV3ABvA97NPRaUyfzskWEou4CuL+kPTanws3opQXj\n",
       "0b8VlDF/XmXMkfx/pEKpGPbHH58DREDKoa+DMy7vqfHChqE9vP+xTdo6kDXb50HC3K9lA6JIMNMh\n",
       "HQ2JCxWqhJWMyqzW3jWrwUNLOM+gNQ3XMwJnWF5LML2k6d2vLXcHCStoXijtkvBAj98uk3uChhA6\n",
       "sgDQk5JsFSetfLpOvp/ZcvW+jcFtMchroD4N4Du+TvCFxvxh/hG/DHqANEtcSOG3rxDVnFLIE14n\n",
       "Fjwzu5MvIs9Jn1W8Mp7Ucw1BkEtKr4HNTu2Tc9j7kRfIZ4eFsL9srUXHWfKosM+lUObMgCTSrFV4\n",
       "H4LSFpONrJAqG2Y0+BE/amYzckk7I+XyJHfmJimZWwLFwRlpSRcFZLwPSlXV3GYGeRYmtlQ+tpjj\n",
       "p6dnt0MW1zUVAgIZkms814sV24GoES/TZ6sWX+YxCmCKjS8AWSqV4EehfRWxj/EREn2RhoaP2GAr\n",
       "8VVoqyFDmUnHuU/LyfUAcMZ8ZDAwo/9ScNloIGsITKZo5oNwUkmw0CnVDDx2YzUNAZi6EuqABAQo\n",
       "SQrdRwlxoaCZ1g5KQRjJRLJ80UwRAUKOawHxB//IlTB71vkUHDno7gJiy4RbYzj/3xHvL4k+JExB\n",
       "8Phh0cbVFT8C74TzbTjTeQgB02EJYVsZS6/tqla2DVUbecKwHBhWZ+mrJDsHmJ3o1nCQ99w4HGXO\n",
       "oFuedm3KqshRKQAAA+Ztb292AAAAbG12aGQAAAAAAAAAAAAAAAAAAAPoAAAXcAABAAABAAAAAAAA\n",
       "AAAAAAAAAQAAAAAAAAAAAAAAAAAAAAEAAAAAAAAAAAAAAAAAAEAAAAAAAAAAAAAAAAAAAAAAAAAA\n",
       "AAAAAAAAAAAAAAACAAADEHRyYWsAAABcdGtoZAAAAAMAAAAAAAAAAAAAAAEAAAAAAAAXcAAAAAAA\n",
       "AAAAAAAAAAAAAAAAAQAAAAAAAAAAAAAAAAAAAAEAAAAAAAAAAAAAAAAAAEAAAAABsAAAASAAAAAA\n",
       "ACRlZHRzAAAAHGVsc3QAAAAAAAAAAQAAF3AAACAAAAEAAAAAAohtZGlhAAAAIG1kaGQAAAAAAAAA\n",
       "AAAAAAAAACgAAADwAFXEAAAAAAAtaGRscgAAAAAAAAAAdmlkZQAAAAAAAAAAAAAAAFZpZGVvSGFu\n",
       "ZGxlcgAAAAIzbWluZgAAABR2bWhkAAAAAQAAAAAAAAAAAAAAJGRpbmYAAAAcZHJlZgAAAAAAAAAB\n",
       "AAAADHVybCAAAAABAAAB83N0YmwAAAC3c3RzZAAAAAAAAAABAAAAp2F2YzEAAAAAAAAAAQAAAAAA\n",
       "AAAAAAAAAAAAAAABsAEgAEgAAABIAAAAAAAAAAEAAAAAAAAAAAAAAAAAAAAAAAAAAAAAAAAAAAAA\n",
       "AAAAAAAY//8AAAA1YXZjQwFkABX/4QAYZ2QAFazZQbCWhAAAAwAIAAADACg8WLZYAQAGaOvjyyLA\n",
       "/fj4AAAAABx1dWlka2hA8l8kT8W6OaUbzwMj8wAAAAAAAAAYc3R0cwAAAAAAAAABAAAADwAAEAAA\n",
       "AAAUc3RzcwAAAAAAAAABAAAAAQAAAIhjdHRzAAAAAAAAAA8AAAABAAAgAAAAAAEAAFAAAAAAAQAA\n",
       "IAAAAAABAAAAAAAAAAEAABAAAAAAAQAAUAAAAAABAAAgAAAAAAEAAAAAAAAAAQAAEAAAAAABAABQ\n",
       "AAAAAAEAACAAAAAAAQAAAAAAAAABAAAQAAAAAAEAADAAAAAAAQAAEAAAAAAcc3RzYwAAAAAAAAAB\n",
       "AAAAAQAAAA8AAAABAAAAUHN0c3oAAAAAAAAAAAAAAA8AABBwAAAEOwAAAtMAAANAAAADNgAAAtIA\n",
       "AAI5AAACowAAAfsAAAMYAAACzwAAAxAAAANNAAACmQAAApkAAAAUc3RjbwAAAAAAAAABAAAAMAAA\n",
       "AGJ1ZHRhAAAAWm1ldGEAAAAAAAAAIWhkbHIAAAAAAAAAAG1kaXJhcHBsAAAAAAAAAAAAAAAALWls\n",
       "c3QAAAAlqXRvbwAAAB1kYXRhAAAAAQAAAABMYXZmNTguNDUuMTAw\n",
       "\">\n",
       "  Your browser does not support the video tag.\n",
       "</video>"
      ],
      "text/plain": [
       "<IPython.core.display.HTML object>"
      ]
     },
     "execution_count": 3,
     "metadata": {},
     "output_type": "execute_result"
    },
    {
     "data": {
      "image/png": "[encoded data removed]",
      "text/plain": [
       "<Figure size 432x288 with 1 Axes>"
      ]
     },
     "metadata": {
      "needs_background": "light"
     },
     "output_type": "display_data"
    }
   ],
   "source": [
    "#define the figure (this needs to be in the same cell as the for loop)\n",
    "fig = plt.figure()\n",
    "camera = Camera(fig)\n",
    "\n",
    "ax = plt.axes(projection=ccrs.PlateCarree())\n",
    "\n",
    "for i in range(15): #I generated 15 random graphs, you will loop over an hour in 5 minute intervals\n",
    "    #randomly generated lats and lons (I will plot these, you will replace them with your lightning data)\n",
    "    lat = np.random.randint(45, 60, 10)\n",
    "    lon = np.random.randint(-125, -115, 10)\n",
    "    sizes = np.random.randint(10, 50, 10)\n",
    "    \n",
    "    #set up the plot \"plt.axes\" puts a set of axes on the figure, which you can add cartopy features to\n",
    "    ax.set_extent([-126, -114, 44, 61])\n",
    "    ax.add_feature(cfeature.COASTLINE, linestyle=\"-\", alpha = .5)\n",
    "    ax.add_feature(cfeature.STATES, linestyle='-', alpha=.5)\n",
    "\n",
    "    #do a scatter plot of the points\n",
    "    plt.scatter(lon, lat, s=sizes)\n",
    "    camera.snap() \n",
    "    \n",
    "animation = camera.animate(interval = 400, repeat = True,\n",
    "                           repeat_delay = 500, blit=True)\n",
    "#interval is how long to wait (in miliseconds) between showing each figure. You probably can adjust this to make it match the twitter GIF\n",
    "#repeat is True if you want the gif to repeat\n",
    "#repeat_delay is how long (in miliseconds) between the gif ending and starting over\n",
    "#blit i'm not sure, but it needed to be true for this to work\n",
    "animation.save('animation_tutorial.gif') #saves the animation to a gif\n",
    "#HTML(animation.to_html5_video()) #this will show the gif in the jupyter notebook\n",
    "HTML(animation.to_html5_video())"
   ]
  },
  {
   "cell_type": "markdown",
   "id": "88b35437-7903-4450-ad9c-80e73005ee24",
   "metadata": {},
   "source": [
    "## Attempting Animation "
   ]
  },
  {
   "cell_type": "markdown",
   "id": "654a02c4-02ec-427b-818b-d2c32c4f7892",
   "metadata": {},
   "source": [
    "### Upload data"
   ]
  },
  {
   "cell_type": "code",
   "execution_count": 8,
   "id": "13e4ae15-b150-439d-a40e-be65b31bddea",
   "metadata": {},
   "outputs": [
    {
     "ename": "OSError",
     "evalue": "The file /data2/edworak/data/AE20210628.mat does not exist.",
     "output_type": "error",
     "traceback": [
      "\u001b[0;31m---------------------------------------------------------------------------\u001b[0m",
      "\u001b[0;31mOSError\u001b[0m                                   Traceback (most recent call last)",
      "Input \u001b[0;32mIn [8]\u001b[0m, in \u001b[0;36m<cell line: 1>\u001b[0;34m()\u001b[0m\n\u001b[0;32m----> 1\u001b[0m A \u001b[38;5;241m=\u001b[39m \u001b[43mread_mat\u001b[49m\u001b[43m(\u001b[49m\u001b[38;5;124;43m'\u001b[39;49m\u001b[38;5;124;43m/data2/edworak/data/AE20210628.mat\u001b[39;49m\u001b[38;5;124;43m'\u001b[39;49m\u001b[43m)\u001b[49m\n\u001b[1;32m      2\u001b[0m june28 \u001b[38;5;241m=\u001b[39m pd\u001b[38;5;241m.\u001b[39mDataFrame(A[\u001b[38;5;124m'\u001b[39m\u001b[38;5;124mdata\u001b[39m\u001b[38;5;124m'\u001b[39m], columns \u001b[38;5;241m=\u001b[39m [\u001b[38;5;124m\"\u001b[39m\u001b[38;5;124mYYYY\u001b[39m\u001b[38;5;124m\"\u001b[39m, \u001b[38;5;124m\"\u001b[39m\u001b[38;5;124mMM\u001b[39m\u001b[38;5;124m\"\u001b[39m, \u001b[38;5;124m\"\u001b[39m\u001b[38;5;124mDD\u001b[39m\u001b[38;5;124m\"\u001b[39m, \u001b[38;5;124m\"\u001b[39m\u001b[38;5;124mhh\u001b[39m\u001b[38;5;124m\"\u001b[39m, \u001b[38;5;124m\"\u001b[39m\u001b[38;5;124mmm\u001b[39m\u001b[38;5;124m\"\u001b[39m, \u001b[38;5;124m\"\u001b[39m\u001b[38;5;124mss\u001b[39m\u001b[38;5;124m\"\u001b[39m, \u001b[38;5;124m\"\u001b[39m\u001b[38;5;124mlat\u001b[39m\u001b[38;5;124m\"\u001b[39m, \u001b[38;5;124m\"\u001b[39m\u001b[38;5;124mlon\u001b[39m\u001b[38;5;124m\"\u001b[39m, \u001b[38;5;124m\"\u001b[39m\u001b[38;5;124mresid\u001b[39m\u001b[38;5;124m\"\u001b[39m, \u001b[38;5;124m\"\u001b[39m\u001b[38;5;124mnstn\u001b[39m\u001b[38;5;124m\"\u001b[39m, \u001b[38;5;124m\"\u001b[39m\u001b[38;5;124mEnergy (J)\u001b[39m\u001b[38;5;124m\"\u001b[39m, \u001b[38;5;124m\"\u001b[39m\u001b[38;5;124mEnergy uncertainty (J)\u001b[39m\u001b[38;5;124m\"\u001b[39m, \u001b[38;5;124m\"\u001b[39m\u001b[38;5;124mnstn_energy\u001b[39m\u001b[38;5;124m\"\u001b[39m])\n\u001b[1;32m      4\u001b[0m B \u001b[38;5;241m=\u001b[39m read_mat(\u001b[38;5;124m'\u001b[39m\u001b[38;5;124m/data2/edworak/data/AE20210629.mat\u001b[39m\u001b[38;5;124m'\u001b[39m)\n",
      "File \u001b[0;32m~/anaconda3/envs/mynewenv/lib/python3.8/site-packages/pymatreader/pymatreader.py:81\u001b[0m, in \u001b[0;36mread_mat\u001b[0;34m(filename, variable_names, ignore_fields, uint16_codec)\u001b[0m\n\u001b[1;32m     52\u001b[0m \u001b[38;5;124;03m\"\"\"This function reads .mat files of version <7.3 or 7.3 and returns the\u001b[39;00m\n\u001b[1;32m     53\u001b[0m \u001b[38;5;124;03mcontained data structure as a dictionary of nested substructure similar\u001b[39;00m\n\u001b[1;32m     54\u001b[0m \u001b[38;5;124;03mto scipy.io.loadmat style.\u001b[39;00m\n\u001b[0;32m   (...)\u001b[0m\n\u001b[1;32m     77\u001b[0m \u001b[38;5;124;03m    variable data as values.\u001b[39;00m\n\u001b[1;32m     78\u001b[0m \u001b[38;5;124;03m\"\"\"\u001b[39;00m\n\u001b[1;32m     80\u001b[0m \u001b[38;5;28;01mif\u001b[39;00m \u001b[38;5;129;01mnot\u001b[39;00m os\u001b[38;5;241m.\u001b[39mpath\u001b[38;5;241m.\u001b[39mexists(filename):\n\u001b[0;32m---> 81\u001b[0m     \u001b[38;5;28;01mraise\u001b[39;00m \u001b[38;5;167;01mIOError\u001b[39;00m(\u001b[38;5;124m'\u001b[39m\u001b[38;5;124mThe file \u001b[39m\u001b[38;5;132;01m%s\u001b[39;00m\u001b[38;5;124m does not exist.\u001b[39m\u001b[38;5;124m'\u001b[39m \u001b[38;5;241m%\u001b[39m (filename,))\n\u001b[1;32m     83\u001b[0m \u001b[38;5;28;01mif\u001b[39;00m ignore_fields \u001b[38;5;129;01mis\u001b[39;00m \u001b[38;5;28;01mNone\u001b[39;00m:\n\u001b[1;32m     84\u001b[0m     ignore_fields \u001b[38;5;241m=\u001b[39m []\n",
      "\u001b[0;31mOSError\u001b[0m: The file /data2/edworak/data/AE20210628.mat does not exist."
     ]
    }
   ],
   "source": [
    "A = read_mat('/data2/edworak/data/AE20210628.mat')\n",
    "june28 = pd.DataFrame(A['data'], columns = [\"YYYY\", \"MM\", \"DD\", \"hh\", \"mm\", \"ss\", \"lat\", \"lon\", \"resid\", \"nstn\", \"Energy (J)\", \"Energy uncertainty (J)\", \"nstn_energy\"])\n",
    "\n",
    "B = read_mat('/data2/edworak/data/AE20210629.mat')\n",
    "june29 = pd.DataFrame(B['data'], columns = [\"YYYY\", \"MM\", \"DD\", \"hh\", \"mm\", \"ss\", \"lat\", \"lon\", \"resid\", \"nstn\", \"Energy (J)\", \"Energy uncertainty (J)\", \"nstn_energy\"])\n",
    "\n",
    "C = read_mat('/data2/edworak/data/AE20210630.mat')\n",
    "june30 = pd.DataFrame(C['data'], columns = [\"YYYY\", \"MM\", \"DD\", \"hh\", \"mm\", \"ss\", \"lat\", \"lon\", \"resid\", \"nstn\", \"Energy (J)\", \"Energy uncertainty (J)\", \"nstn_energy\"])\n",
    "\n",
    "D = read_mat('/data2/edworak/data/AE20210701.mat')\n",
    "july1 = pd.DataFrame(D['data'], columns = [\"YYYY\", \"MM\", \"DD\", \"hh\", \"mm\", \"ss\", \"lat\", \"lon\", \"resid\", \"nstn\", \"Energy (J)\", \"Energy uncertainty (J)\", \"nstn_energy\"])\n",
    "\n",
    "\n",
    "lightning = (june28, june29, june30, july1)"
   ]
  },
  {
   "cell_type": "markdown",
   "id": "6f801497-ce64-4f6d-8b9f-b000d603e2c8",
   "metadata": {},
   "source": [
    "### GIF: July 1 Hour 2 "
   ]
  },
  {
   "cell_type": "code",
   "execution_count": 5,
   "id": "531654fe-0e4e-4081-bc60-29e85ec27948",
   "metadata": {},
   "outputs": [
    {
     "ename": "NameError",
     "evalue": "name 'july1' is not defined",
     "output_type": "error",
     "traceback": [
      "\u001b[0;31m---------------------------------------------------------------------------\u001b[0m",
      "\u001b[0;31mNameError\u001b[0m                                 Traceback (most recent call last)",
      "Input \u001b[0;32mIn [5]\u001b[0m, in \u001b[0;36m<cell line: 7>\u001b[0;34m()\u001b[0m\n\u001b[1;32m     11\u001b[0m ax\u001b[38;5;241m.\u001b[39madd_feature(cartopy\u001b[38;5;241m.\u001b[39mfeature\u001b[38;5;241m.\u001b[39mSTATES, linestyle \u001b[38;5;241m=\u001b[39m \u001b[38;5;124m'\u001b[39m\u001b[38;5;124m-\u001b[39m\u001b[38;5;124m'\u001b[39m, alpha \u001b[38;5;241m=\u001b[39m \u001b[38;5;241m0.5\u001b[39m)\n\u001b[1;32m     12\u001b[0m ax\u001b[38;5;241m.\u001b[39madd_feature(cartopy\u001b[38;5;241m.\u001b[39mfeature\u001b[38;5;241m.\u001b[39mCOASTLINE, linestyle \u001b[38;5;241m=\u001b[39m \u001b[38;5;124m'\u001b[39m\u001b[38;5;124m-\u001b[39m\u001b[38;5;124m'\u001b[39m, alpha \u001b[38;5;241m=\u001b[39m \u001b[38;5;241m0.5\u001b[39m)\n\u001b[0;32m---> 13\u001b[0m time \u001b[38;5;241m=\u001b[39m \u001b[43mjuly1\u001b[49m[(july1[\u001b[38;5;124m\"\u001b[39m\u001b[38;5;124mhh\u001b[39m\u001b[38;5;124m\"\u001b[39m] \u001b[38;5;241m==\u001b[39m \u001b[38;5;241m2\u001b[39m) \u001b[38;5;241m&\u001b[39m (july1[\u001b[38;5;124m\"\u001b[39m\u001b[38;5;124mmm\u001b[39m\u001b[38;5;124m\"\u001b[39m] \u001b[38;5;241m>\u001b[39m i) \u001b[38;5;241m&\u001b[39m (july1[\u001b[38;5;124m\"\u001b[39m\u001b[38;5;124mmm\u001b[39m\u001b[38;5;124m\"\u001b[39m] \u001b[38;5;241m<\u001b[39m i \u001b[38;5;241m+\u001b[39m \u001b[38;5;241m5\u001b[39m) \u001b[38;5;241m&\u001b[39m (july1[\u001b[38;5;124m\"\u001b[39m\u001b[38;5;124mEnergy (J)\u001b[39m\u001b[38;5;124m\"\u001b[39m] \u001b[38;5;241m>\u001b[39m \u001b[38;5;241m0\u001b[39m)]\n\u001b[1;32m     14\u001b[0m points \u001b[38;5;241m=\u001b[39m (time\u001b[38;5;241m.\u001b[39mloc[(time\u001b[38;5;241m.\u001b[39mlon \u001b[38;5;241m>\u001b[39m \u001b[38;5;241m-\u001b[39m\u001b[38;5;241m130\u001b[39m) \u001b[38;5;241m&\u001b[39m (time\u001b[38;5;241m.\u001b[39mlon \u001b[38;5;241m<\u001b[39m \u001b[38;5;241m-\u001b[39m\u001b[38;5;241m100\u001b[39m) \u001b[38;5;241m&\u001b[39m (time\u001b[38;5;241m.\u001b[39mlat \u001b[38;5;241m>\u001b[39m \u001b[38;5;241m45\u001b[39m) \u001b[38;5;241m&\u001b[39m (time\u001b[38;5;241m.\u001b[39mlat \u001b[38;5;241m<\u001b[39m \u001b[38;5;241m65\u001b[39m)])\n\u001b[1;32m     16\u001b[0m plt\u001b[38;5;241m.\u001b[39mscatter(x \u001b[38;5;241m=\u001b[39m points[\u001b[38;5;124m\"\u001b[39m\u001b[38;5;124mlon\u001b[39m\u001b[38;5;124m\"\u001b[39m], y \u001b[38;5;241m=\u001b[39m points[\u001b[38;5;124m\"\u001b[39m\u001b[38;5;124mlat\u001b[39m\u001b[38;5;124m\"\u001b[39m], c \u001b[38;5;241m=\u001b[39m points[\u001b[38;5;124m\"\u001b[39m\u001b[38;5;124mEnergy (J)\u001b[39m\u001b[38;5;124m\"\u001b[39m], cmap\u001b[38;5;241m=\u001b[39m\u001b[38;5;124m\"\u001b[39m\u001b[38;5;124mhot_r\u001b[39m\u001b[38;5;124m\"\u001b[39m, s \u001b[38;5;241m=\u001b[39m points[\u001b[38;5;124m\"\u001b[39m\u001b[38;5;124mEnergy (J)\u001b[39m\u001b[38;5;124m\"\u001b[39m] \u001b[38;5;241m*\u001b[39m \u001b[38;5;241m0.5\u001b[39m, edgecolors\u001b[38;5;241m=\u001b[39m\u001b[38;5;124m\"\u001b[39m\u001b[38;5;124mblack\u001b[39m\u001b[38;5;124m\"\u001b[39m, marker \u001b[38;5;241m=\u001b[39m \u001b[38;5;124m'\u001b[39m\u001b[38;5;124mo\u001b[39m\u001b[38;5;124m'\u001b[39m, alpha\u001b[38;5;241m=\u001b[39m\u001b[38;5;241m0.5\u001b[39m)\n",
      "\u001b[0;31mNameError\u001b[0m: name 'july1' is not defined"
     ]
    },
    {
     "data": {
      "image/png": "[encoded data removed]",
      "text/plain": [
       "<Figure size 432x288 with 1 Axes>"
      ]
     },
     "metadata": {
      "needs_background": "light"
     },
     "output_type": "display_data"
    }
   ],
   "source": [
    "fig = plt.figure()\n",
    "camera = Camera(fig)\n",
    "\n",
    "mins = range(0, 61, 5)\n",
    "ax = plt.axes(projection=ccrs.PlateCarree())\n",
    "\n",
    "for i in mins: \n",
    "    \n",
    "    ax.set_extent([-125,-117,49,54])\n",
    "    ax.add_feature(cartopy.feature.BORDERS, linestyle = '-', alpha = 0.5)\n",
    "    ax.add_feature(cartopy.feature.STATES, linestyle = '-', alpha = 0.5)\n",
    "    ax.add_feature(cartopy.feature.COASTLINE, linestyle = '-', alpha = 0.5)\n",
    "    time = july1[(july1[\"hh\"] == 2) & (july1[\"mm\"] > i) & (july1[\"mm\"] < i + 5) & (july1[\"Energy (J)\"] > 0)]\n",
    "    points = (time.loc[(time.lon > -130) & (time.lon < -100) & (time.lat > 45) & (time.lat < 65)])\n",
    "    \n",
    "    plt.scatter(x = points[\"lon\"], y = points[\"lat\"], c = points[\"Energy (J)\"], cmap=\"hot_r\", s = points[\"Energy (J)\"] * 0.5, edgecolors=\"black\", marker = 'o', alpha=0.5)\n",
    "    plt.title(\"July 1 H 2: 5 M interval\", fontsize = 18)\n",
    "\n",
    "    camera.snap() \n",
    "    \n",
    "animation = camera.animate(interval = 400, repeat = True, repeat_delay = 500, blit=True)\n",
    "\n",
    "animation.save('animation_july1_hour2.gif') \n",
    "HTML(animation.to_html5_video())"
   ]
  },
  {
   "cell_type": "markdown",
   "id": "2caf81b4-6959-4269-817e-b1e959dcd5d3",
   "metadata": {},
   "source": [
    "### Animation: June 30, hours 20 - 24, 10 min interval"
   ]
  },
  {
   "cell_type": "code",
   "execution_count": 6,
   "id": "f2985d8e-975b-4f14-9e1d-5cd9d974e2ba",
   "metadata": {},
   "outputs": [
    {
     "ename": "NameError",
     "evalue": "name 'june30' is not defined",
     "output_type": "error",
     "traceback": [
      "\u001b[0;31m---------------------------------------------------------------------------\u001b[0m",
      "\u001b[0;31mNameError\u001b[0m                                 Traceback (most recent call last)",
      "Input \u001b[0;32mIn [6]\u001b[0m, in \u001b[0;36m<cell line: 9>\u001b[0;34m()\u001b[0m\n\u001b[1;32m     14\u001b[0m ax\u001b[38;5;241m.\u001b[39madd_feature(cartopy\u001b[38;5;241m.\u001b[39mfeature\u001b[38;5;241m.\u001b[39mSTATES, linestyle \u001b[38;5;241m=\u001b[39m \u001b[38;5;124m'\u001b[39m\u001b[38;5;124m-\u001b[39m\u001b[38;5;124m'\u001b[39m, alpha \u001b[38;5;241m=\u001b[39m \u001b[38;5;241m0.5\u001b[39m)\n\u001b[1;32m     15\u001b[0m ax\u001b[38;5;241m.\u001b[39madd_feature(cartopy\u001b[38;5;241m.\u001b[39mfeature\u001b[38;5;241m.\u001b[39mCOASTLINE, linestyle \u001b[38;5;241m=\u001b[39m \u001b[38;5;124m'\u001b[39m\u001b[38;5;124m-\u001b[39m\u001b[38;5;124m'\u001b[39m, alpha \u001b[38;5;241m=\u001b[39m \u001b[38;5;241m0.5\u001b[39m)\n\u001b[0;32m---> 16\u001b[0m time \u001b[38;5;241m=\u001b[39m \u001b[43mjune30\u001b[49m[(june30[\u001b[38;5;124m\"\u001b[39m\u001b[38;5;124mhh\u001b[39m\u001b[38;5;124m\"\u001b[39m] \u001b[38;5;241m==\u001b[39m i) \u001b[38;5;241m&\u001b[39m (june30[\u001b[38;5;124m\"\u001b[39m\u001b[38;5;124mmm\u001b[39m\u001b[38;5;124m\"\u001b[39m] \u001b[38;5;241m>\u001b[39m j) \u001b[38;5;241m&\u001b[39m (june30[\u001b[38;5;124m\"\u001b[39m\u001b[38;5;124mmm\u001b[39m\u001b[38;5;124m\"\u001b[39m] \u001b[38;5;241m<\u001b[39m j \u001b[38;5;241m+\u001b[39m \u001b[38;5;241m5\u001b[39m) \u001b[38;5;241m&\u001b[39m (june30[\u001b[38;5;124m\"\u001b[39m\u001b[38;5;124mEnergy (J)\u001b[39m\u001b[38;5;124m\"\u001b[39m] \u001b[38;5;241m>\u001b[39m \u001b[38;5;241m0\u001b[39m)]\n\u001b[1;32m     17\u001b[0m points \u001b[38;5;241m=\u001b[39m (time\u001b[38;5;241m.\u001b[39mloc[(time\u001b[38;5;241m.\u001b[39mlon \u001b[38;5;241m>\u001b[39m \u001b[38;5;241m-\u001b[39m\u001b[38;5;241m130\u001b[39m) \u001b[38;5;241m&\u001b[39m (time\u001b[38;5;241m.\u001b[39mlon \u001b[38;5;241m<\u001b[39m \u001b[38;5;241m-\u001b[39m\u001b[38;5;241m100\u001b[39m) \u001b[38;5;241m&\u001b[39m (time\u001b[38;5;241m.\u001b[39mlat \u001b[38;5;241m>\u001b[39m \u001b[38;5;241m45\u001b[39m) \u001b[38;5;241m&\u001b[39m (time\u001b[38;5;241m.\u001b[39mlat \u001b[38;5;241m<\u001b[39m \u001b[38;5;241m65\u001b[39m)])\n\u001b[1;32m     19\u001b[0m plt\u001b[38;5;241m.\u001b[39mscatter(x \u001b[38;5;241m=\u001b[39m points[\u001b[38;5;124m\"\u001b[39m\u001b[38;5;124mlon\u001b[39m\u001b[38;5;124m\"\u001b[39m], y \u001b[38;5;241m=\u001b[39m points[\u001b[38;5;124m\"\u001b[39m\u001b[38;5;124mlat\u001b[39m\u001b[38;5;124m\"\u001b[39m], c \u001b[38;5;241m=\u001b[39m points[\u001b[38;5;124m\"\u001b[39m\u001b[38;5;124mEnergy (J)\u001b[39m\u001b[38;5;124m\"\u001b[39m], cmap\u001b[38;5;241m=\u001b[39m\u001b[38;5;124m\"\u001b[39m\u001b[38;5;124mhot_r\u001b[39m\u001b[38;5;124m\"\u001b[39m, s \u001b[38;5;241m=\u001b[39m points[\u001b[38;5;124m\"\u001b[39m\u001b[38;5;124mEnergy (J)\u001b[39m\u001b[38;5;124m\"\u001b[39m] \u001b[38;5;241m*\u001b[39m \u001b[38;5;241m0.5\u001b[39m, edgecolors\u001b[38;5;241m=\u001b[39m\u001b[38;5;124m\"\u001b[39m\u001b[38;5;124mblack\u001b[39m\u001b[38;5;124m\"\u001b[39m, marker \u001b[38;5;241m=\u001b[39m \u001b[38;5;124m'\u001b[39m\u001b[38;5;124mo\u001b[39m\u001b[38;5;124m'\u001b[39m, alpha\u001b[38;5;241m=\u001b[39m\u001b[38;5;241m0.5\u001b[39m)\n",
      "\u001b[0;31mNameError\u001b[0m: name 'june30' is not defined"
     ]
    },
    {
     "data": {
      "image/png": "[encoded data removed]",
      "text/plain": [
       "<Figure size 432x288 with 1 Axes>"
      ]
     },
     "metadata": {
      "needs_background": "light"
     },
     "output_type": "display_data"
    }
   ],
   "source": [
    "fig = plt.figure()\n",
    "camera = Camera(fig)\n",
    "\n",
    "hours = range(21,25,1)\n",
    "mins = range(0, 61, 10)\n",
    "\n",
    "ax = plt.axes(projection=ccrs.PlateCarree())\n",
    "\n",
    "for i in hours: \n",
    "    for j in mins: \n",
    "    \n",
    "        ax.set_extent([-123,-117,49,53])\n",
    "        ax.add_feature(cartopy.feature.BORDERS, linestyle = '-', alpha = 0.5)\n",
    "        ax.add_feature(cartopy.feature.STATES, linestyle = '-', alpha = 0.5)\n",
    "        ax.add_feature(cartopy.feature.COASTLINE, linestyle = '-', alpha = 0.5)\n",
    "        time = june30[(june30[\"hh\"] == i) & (june30[\"mm\"] > j) & (june30[\"mm\"] < j + 5) & (june30[\"Energy (J)\"] > 0)]\n",
    "        points = (time.loc[(time.lon > -130) & (time.lon < -100) & (time.lat > 45) & (time.lat < 65)])\n",
    "\n",
    "        plt.scatter(x = points[\"lon\"], y = points[\"lat\"], c = points[\"Energy (J)\"], cmap=\"hot_r\", s = points[\"Energy (J)\"] * 0.5, edgecolors=\"black\", marker = 'o', alpha=0.5)\n",
    "        plt.title(\"June 30 H 21-25: 10 M interval\", fontsize = 18)\n",
    "        camera.snap() \n",
    "\n",
    "animation = camera.animate(interval = 300, repeat = True, repeat_delay = 500, blit=True)\n",
    "\n",
    "animation.save('animation_june30_hr20to24.gif', dpi = 200) \n",
    "HTML(animation.to_html5_video())"
   ]
  },
  {
   "cell_type": "markdown",
   "id": "a9660e68-0f32-4251-bb00-1c4fc13a845d",
   "metadata": {},
   "source": [
    "### Animation: July 1, Hours 0 - 6, 10 min interval"
   ]
  },
  {
   "cell_type": "code",
   "execution_count": null,
   "id": "34a3ead3-a784-4491-9651-56aa63647723",
   "metadata": {},
   "outputs": [],
   "source": [
    "fig = plt.figure()\n",
    "camera = Camera(fig)\n",
    "\n",
    "hours = range(0,6,1)\n",
    "mins = range(0, 61, 10)\n",
    "\n",
    "ax = plt.axes(projection=ccrs.PlateCarree())\n",
    "\n",
    "for i in hours: \n",
    "    for j in mins: \n",
    "        \n",
    "        ax.set_extent([-123,-117,49,53])\n",
    "        ax.add_feature(cartopy.feature.BORDERS, linestyle = '-', alpha = 0.5)\n",
    "        ax.add_feature(cartopy.feature.STATES, linestyle = '-', alpha = 0.5)\n",
    "        ax.add_feature(cartopy.feature.COASTLINE, linestyle = '-', alpha = 0.5)\n",
    "        time = july1[(july1[\"hh\"] == i) & (july1[\"mm\"] > j) & (july1[\"mm\"] < j + 5) & (july1[\"Energy (J)\"] > 0)]\n",
    "        points = (time.loc[(time.lon > -130) & (time.lon < -100) & (time.lat > 45) & (time.lat < 65)])\n",
    "\n",
    "        plt.scatter(x = points[\"lon\"], y = points[\"lat\"], c = points[\"Energy (J)\"], cmap=\"hot_r\", s = points[\"Energy (J)\"] * 0.5, edgecolors=\"black\", marker = 'o', alpha=0.5)\n",
    "        plt.title(\"July 1 H 0 -6: 10 M interval\", fontsize = 18)\n",
    "        camera.snap() \n",
    "\n",
    "animation = camera.animate(interval = 400, repeat = True, repeat_delay = 500, blit=True)\n",
    "\n",
    "animation.save('animation_july1_hr0to6.gif', dpi = 200) \n",
    "HTML(animation.to_html5_video())"
   ]
  },
  {
   "cell_type": "markdown",
   "id": "d3164466-ebeb-4639-a28e-05e1b0c1bba6",
   "metadata": {},
   "source": [
    "### Matching Dave's gif"
   ]
  },
  {
   "cell_type": "markdown",
   "id": "61d05d5d-3d2a-45de-8a9c-a77eb40d276f",
   "metadata": {},
   "source": [
    "Time range: 21:30 June 30 - 05:30 July 1 <br>\n",
    "Longitude: 145 W to 105 W (or 140 W to 110 W) <br>\n",
    "Latitude: 48 N to 67 N (or 50 N to 65 N)<br>\n",
    "\n",
    "[GIF Link](\"https://docs.google.com/presentation/d/1-x85H8fvgbwm23UOSPhWB5w5tta5wzLi/edit#slide=id.p1\")"
   ]
  },
  {
   "cell_type": "code",
   "execution_count": null,
   "id": "b07d8997-d4e8-490a-a54e-165348b9ed46",
   "metadata": {
    "jupyter": {
     "outputs_hidden": true
    },
    "tags": []
   },
   "outputs": [],
   "source": [
    "# fig = plt.figure()\n",
    "# camera = Camera(fig)\n",
    "\n",
    "\n",
    "# june30_hours = range(21,25,1)\n",
    "# june30_mins = range(0, 61, 10)\n",
    "\n",
    "# july1_hours = range(0,6,1)\n",
    "# july1_mins = range(0, 61, 10)\n",
    "\n",
    "# df = june30 + july1\n",
    "\n",
    "# june30_july1_hours = [june30_hours, july1_hours]\n",
    "# june30_july1_mins = [june30_mins, july1_mins]\n",
    "\n",
    "# ax = plt.axes(projection=ccrs.PlateCarree())\n",
    "\n",
    "\n",
    "# for i in june30_july1_hours: \n",
    "#     for j in june30_july1_mins: \n",
    "#         ax.set_extent([-145,-105,48,67])\n",
    "#         ax.add_feature(cartopy.feature.BORDERS, linestyle = '-', alpha = 0.5)\n",
    "#         ax.add_feature(cartopy.feature.STATES, linestyle = '-', alpha = 0.5)\n",
    "#         ax.add_feature(cartopy.feature.COASTLINE, linestyle = '-', alpha = 0.5)\n",
    "#         june30_time = june30[(june30[\"hh\"] == i) & (june30[\"mm\"] > j) & (june30[\"mm\"] < j + 5) & (june30[\"Energy (J)\"] > 0)]\n",
    "#         july1_time = july1[(july1[\"hh\"] == i) & (july1[\"mm\"] > j) & (july1[\"mm\"] < j + 5) & (july1[\"Energy (J)\"] > 0)]\n",
    "\n",
    "#         june30_points = (june30_time.loc[(june30_time.lon > -130) & (june30_time.lon < -100) & (june30_time.lat > 45) & (june30_time.lat < 65)])\n",
    "#         july1_points = (july1_time.loc[(july1_time.lon > -130) & (july1_time.lon < -100) & (july1_time.lat > 45) & (july1_time.lat < 65)])\n",
    "\n",
    "#         plt.scatter(x = points[\"lon\"], y = points[\"lat\"], c = points[\"Energy (J)\"], cmap=\"hot_r\", s = points[\"Energy (J)\"] * 0.2, edgecolors=\"black\", marker = 'o', alpha=0.5)\n",
    "#         plt.title(\"June 30 July 1\", fontsize = 18)\n",
    "#         camera.snap() \n",
    "        \n",
    "        \n",
    "# animation = camera.animate(interval = 400, repeat = True, repeat_delay = 500, blit=True)\n",
    "\n",
    "# animation.save('animation_june30_july1.gif', dpi = 200) \n",
    "# HTML(animation.to_html5_video())"
   ]
  },
  {
   "cell_type": "markdown",
   "id": "103087a4-7bd0-46d1-a5e3-aba7ca71cefd",
   "metadata": {},
   "source": [
    "### Stack overflow for putting mutiple data sets together"
   ]
  },
  {
   "cell_type": "markdown",
   "id": "686b2f32-36ed-427c-9c59-9b3e5563189f",
   "metadata": {},
   "source": [
    "#### Using pd.merge() function\n",
    "- didn't end up working since created a null data frame"
   ]
  },
  {
   "cell_type": "code",
   "execution_count": null,
   "id": "9ff00564-7f8b-4e70-8e99-5b073d26c8da",
   "metadata": {},
   "outputs": [],
   "source": [
    "june30_21to24 = june30[(june30[\"hh\"] >= 21) & (june30[\"hh\"] <= 24)]\n",
    "july1_0to5 = july1[(july1[\"hh\"] >= 0) & (july1[\"hh\"] <= 5.5)]\n",
    "\n",
    "june30_july1_merge = pd.merge(june30_21to24, july1_0to5)\n",
    "\n",
    "june30_july1_merge\n"
   ]
  },
  {
   "cell_type": "markdown",
   "id": "9f43863e-fee1-47f6-a3dd-5c6545fdfa9b",
   "metadata": {},
   "source": [
    "#### Display function to make things look nice - copied this"
   ]
  },
  {
   "cell_type": "code",
   "execution_count": null,
   "id": "aa04b197-8f89-40e1-81fd-0f2f01ba9539",
   "metadata": {},
   "outputs": [],
   "source": [
    "class display(object):\n",
    "    \"\"\"Display HTML representation of multiple objects\"\"\"\n",
    "    template = \"\"\"<div style=\"float: left; padding: 10px;\">\n",
    "    <p style='font-family:\"Courier New\", Courier, monospace'>{0}</p>{1}\n",
    "    </div>\"\"\"\n",
    "    def __init__(self, *args):\n",
    "        self.args = args\n",
    "        \n",
    "    def _repr_html_(self):\n",
    "        return '\\n'.join(self.template.format(a, eval(a)._repr_html_())\n",
    "                         for a in self.args)\n",
    "    \n",
    "    def __repr__(self):\n",
    "        return '\\n\\n'.join(a + '\\n' + repr(eval(a))\n",
    "                           for a in self.args)"
   ]
  },
  {
   "cell_type": "code",
   "execution_count": null,
   "id": "e7893cde-ccbd-42ee-8099-50f89fba5306",
   "metadata": {},
   "outputs": [],
   "source": [
    "display('june30_21to24', 'july1_0to5', \"pd.merge(june30_21to24, july1_0to5, on='hh')\")\n"
   ]
  },
  {
   "cell_type": "markdown",
   "id": "82837f19-cb9f-478a-8436-06de48101da7",
   "metadata": {},
   "source": [
    "### Using pd.concat() - works! <br>\n",
    "[Concat and merge](\"https://pandas.pydata.org/pandas-docs/stable/user_guide/merging.html\")"
   ]
  },
  {
   "cell_type": "code",
   "execution_count": null,
   "id": "89974d5f-e1b4-4160-a586-e71754c2ae24",
   "metadata": {},
   "outputs": [],
   "source": [
    "frames = [june30_21to24, july1_0to5]\n",
    "\n",
    "june30_july1_concat = pd.concat(frames)\n",
    "\n",
    "display('june30_21to24', 'july1_0to5', \"june30_july1_concat\")\n"
   ]
  },
  {
   "cell_type": "markdown",
   "id": "a1118966-41d1-4e63-822a-7c9c8b58d6b2",
   "metadata": {},
   "source": [
    "- could try to cut the head and tail of data set before :30 and after :30 \n",
    "- search for index when hour = 21 and minute = 30 \n",
    "- go from there to last index of 5:30\n",
    "- should learn date time for the long run <br> \n",
    "[datetime](\"https://numpy.org/doc/stable/reference/arrays.datetime.html\")\n",
    "\n",
    "- draw box of pyrocb on plot\n",
    "- x and y label tick mark labels for lat long\n",
    "- different projection?"
   ]
  },
  {
   "cell_type": "markdown",
   "id": "fdb86547-2fcf-4212-b163-bad924c94a09",
   "metadata": {},
   "source": [
    "### Trying joint animation... again  "
   ]
  },
  {
   "cell_type": "code",
   "execution_count": null,
   "id": "123e722a-c26e-47f8-9fbd-3c0c6a847576",
   "metadata": {
    "tags": []
   },
   "outputs": [],
   "source": [
    "fig = plt.figure(figsize = (10, 12))\n",
    "camera = Camera(fig)\n",
    "\n",
    "# june30_july1_concat combines June 30 hours 21 - 24 to July 1 hours 0 - 5\n",
    "#Longitude: 145 W to 105 W (or 140 W to 110 W)\n",
    "#Latitude: 48 N to 67 N (or 50 N to 65 N)\n",
    "\n",
    "hours = [21, 22, 23, 0, 1, 2, 3, 4, 5]\n",
    "mins = range(0, 60, 10)\n",
    "\n",
    "ax = plt.axes(projection=ccrs.PlateCarree())\n",
    "\n",
    "for i in hours: \n",
    "    for j in mins: \n",
    "        #print(\"Hour:\" + str(i) + \", Minute: \" + str(j))\n",
    "\n",
    "        ax.set_extent([-145,-105,49,70])\n",
    "        ax.add_feature(cartopy.feature.BORDERS, linestyle = '-', alpha = 0.5)\n",
    "        ax.add_feature(cartopy.feature.STATES, linestyle = '-', alpha = 0.5)\n",
    "        ax.add_feature(cartopy.feature.COASTLINE, linestyle = '-', alpha = 0.5)\n",
    "        time = june30_july1_concat[(june30_july1_concat[\"hh\"] == i) & (june30_july1_concat[\"mm\"] > j) & (june30_july1_concat[\"mm\"] < j + 5) & (june30_july1_concat[\"Energy (J)\"] > 0)]\n",
    "        #print(time)\n",
    "        points = (time.loc[(time.lon > -130) & (time.lon < -100) & (time.lat > 45) & (time.lat < 65)])\n",
    "\n",
    "        t = plt.scatter(x = points[\"lon\"], y = points[\"lat\"], c = points[\"Energy (J)\"], cmap=\"hot_r\", s = np.log(points[\"Energy (J)\"]), edgecolors=\"black\", marker = 'o', alpha=0.5)\n",
    "        ax.legend([\"Hour:\" + str(i) + \", Minute: \" + str(j)])\n",
    "        plt.title(\"June 30 hour 21 to July 1 hour 6: 10 M interval\", fontsize = 18)\n",
    "        \n",
    "        camera.snap() \n",
    "\n",
    "animation = camera.animate(interval = 400, repeat = True, repeat_delay = 500, blit=True)\n",
    "\n",
    "animation.save('animation_june30_july1_concat.gif', dpi = 400) \n",
    "HTML(animation.to_html5_video())"
   ]
  },
  {
   "cell_type": "code",
   "execution_count": null,
   "id": "b1b7b6ba-33b2-455d-820f-3229589f36ce",
   "metadata": {},
   "outputs": [],
   "source": [
    "time"
   ]
  },
  {
   "cell_type": "code",
   "execution_count": null,
   "id": "8be92cde-24bc-4441-b9c2-af8c60de6188",
   "metadata": {},
   "outputs": [],
   "source": [
    "t = plt.plot(range(i, i + 5))\n",
    "    plt.legend(t, [f'line {i}'])"
   ]
  }
 ],
 "metadata": {
  "kernelspec": {
   "display_name": "Python 3 (ipykernel)",
   "language": "python",
   "name": "python3"
  },
  "language_info": {
   "codemirror_mode": {
    "name": "ipython",
    "version": 3
   },
   "file_extension": ".py",
   "mimetype": "text/x-python",
   "name": "python",
   "nbconvert_exporter": "python",
   "pygments_lexer": "ipython3",
   "version": "3.8.13"
  }
 },
 "nbformat": 4,
 "nbformat_minor": 5
}
