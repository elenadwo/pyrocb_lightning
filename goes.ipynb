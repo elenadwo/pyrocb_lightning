{
 "cells": [
  {
   "cell_type": "markdown",
   "id": "bb2ff116-1252-4146-ab18-17702afd7dee",
   "metadata": {},
   "source": [
    "# GOES Package\n",
    " - [Read NetCDF Data with Python](\"https://towardsdatascience.com/read-netcdf-data-with-python-901f7ff61648#:~:text=To%20install%20with%20anaconda%20(conda,Then%20import%20netCDF4%20as%20nc%20.\")\n",
    " - [using python to explore goes 16](\"http://edc.occ-data.org/goes16/python/\")\n",
    " "
   ]
  },
  {
   "cell_type": "markdown",
   "id": "0d7a7c58-8086-4eed-8c9e-85b0676f1336",
   "metadata": {},
   "source": [
    "goes_tut data set, emailed from laura. Level 2 Multichannel formated data (ABI-L2-MCMIP) for the CONUS domain. "
   ]
  },
  {
   "cell_type": "code",
   "execution_count": 1,
   "id": "a362bd21-4611-4737-a618-c19d49bd42bc",
   "metadata": {},
   "outputs": [],
   "source": [
    "import os \n",
    "import numpy as np\n",
    "from datetime import datetime\n",
    "import math\n",
    "import sys \n",
    "\n",
    "import metpy \n",
    "import matplotlib.pyplot as plt\n",
    "import netCDF4 as nc\n",
    "import cartopy.crs as ccrs\n",
    "import xarray\n",
    "from pyproj import Proj\n",
    "\n",
    "\n",
    "from pymatreader import read_mat\n",
    "import pandas as pd"
   ]
  },
  {
   "cell_type": "code",
   "execution_count": 2,
   "id": "30816db5",
   "metadata": {},
   "outputs": [
    {
     "data": {
      "text/plain": [
       "True"
      ]
     },
     "execution_count": 2,
     "metadata": {},
     "output_type": "execute_result"
    }
   ],
   "source": [
    "# this is true so i am not in virtual environment\n",
    "sys.prefix == sys.base_prefix\n"
   ]
  },
  {
   "cell_type": "code",
   "execution_count": 3,
   "id": "a2bfaf6a-6ed1-4e05-967c-16171c181b70",
   "metadata": {},
   "outputs": [
    {
     "name": "stdout",
     "output_type": "stream",
     "text": [
      "3.8.13 (default, Mar 28 2022, 11:38:47) \n",
      "[GCC 7.5.0]\n",
      "/home/elenadworak/anaconda3/envs/mynewenv/bin/python\n"
     ]
    },
    {
     "data": {
      "text/plain": [
       "0"
      ]
     },
     "execution_count": 3,
     "metadata": {},
     "output_type": "execute_result"
    }
   ],
   "source": [
    "# get version of python\n",
    "print(sys.version)\n",
    "\n",
    "# this will list the system path ? \n",
    "#print(sys.path)\n",
    "\n",
    "# this will list the path that jupiter is working in \n",
    "os.system(\"which python\")\n",
    "#/home/elenadworak/anaconda3/envs/mynewenv/bin/python\n",
    "\n",
    "# this will list out all packages and their versions in the terminal \n",
    "\n",
    "#os.system(\"conda list\")\n",
    "# python 3.8.13 \n",
    "# metpy 1.2.0"
   ]
  },
  {
   "cell_type": "markdown",
   "id": "6516d614-2cf5-4f29-a616-4bd78960eace",
   "metadata": {},
   "source": [
    "### Download netcdf data"
   ]
  },
  {
   "cell_type": "code",
   "execution_count": 4,
   "id": "6520dd00-ddb7-4abb-a5c9-8860b2bfd90c",
   "metadata": {
    "tags": []
   },
   "outputs": [
    {
     "ename": "FileNotFoundError",
     "evalue": "[Errno 2] No such file or directory: b'goes_tutorial.nc'",
     "output_type": "error",
     "traceback": [
      "\u001b[0;31m---------------------------------------------------------------------------\u001b[0m",
      "\u001b[0;31mFileNotFoundError\u001b[0m                         Traceback (most recent call last)",
      "Input \u001b[0;32mIn [4]\u001b[0m, in \u001b[0;36m<cell line: 2>\u001b[0;34m()\u001b[0m\n\u001b[1;32m      1\u001b[0m ds \u001b[38;5;241m=\u001b[39m \u001b[38;5;124m'\u001b[39m\u001b[38;5;124mgoes_tutorial.nc\u001b[39m\u001b[38;5;124m'\u001b[39m\n\u001b[0;32m----> 2\u001b[0m goes_tut_nc \u001b[38;5;241m=\u001b[39m \u001b[43mnc\u001b[49m\u001b[38;5;241;43m.\u001b[39;49m\u001b[43mDataset\u001b[49m\u001b[43m(\u001b[49m\u001b[43mds\u001b[49m\u001b[43m)\u001b[49m\n\u001b[1;32m      4\u001b[0m goes_tut_nc\n\u001b[1;32m      5\u001b[0m goes_tut_nc\u001b[38;5;241m.\u001b[39mvariables\n",
      "File \u001b[0;32msrc/netCDF4/_netCDF4.pyx:2307\u001b[0m, in \u001b[0;36mnetCDF4._netCDF4.Dataset.__init__\u001b[0;34m()\u001b[0m\n",
      "File \u001b[0;32msrc/netCDF4/_netCDF4.pyx:1925\u001b[0m, in \u001b[0;36mnetCDF4._netCDF4._ensure_nc_success\u001b[0;34m()\u001b[0m\n",
      "\u001b[0;31mFileNotFoundError\u001b[0m: [Errno 2] No such file or directory: b'goes_tutorial.nc'"
     ]
    }
   ],
   "source": [
    "ds = 'goes_tutorial.nc'\n",
    "goes_tut_nc = nc.Dataset(ds)\n",
    "\n",
    "goes_tut_nc\n",
    "goes_tut_nc.variables\n",
    "goes_tut_nc[\"CMI_C01\"][:]\n",
    "# method uses tostring() method \n",
    "\n",
    "cmi = goes_tut_nc[\"CMI_C01\"]\n",
    "cmi_values = cmi[:]\n",
    "cmi_values\n",
    "\n",
    "#print(goes_tut)\n",
    "\n",
    "cmi = goes_tut_nc['CMI_C01'][:]\n",
    "\n",
    "#int 1 --> int16 CMI_C16(y,x) the 16 channels\n",
    "# goal to create real color image"
   ]
  },
  {
   "cell_type": "markdown",
   "id": "d2fb3129",
   "metadata": {},
   "source": [
    "### Download lightning data "
   ]
  },
  {
   "cell_type": "code",
   "execution_count": null,
   "id": "4e4856d7",
   "metadata": {},
   "outputs": [],
   "source": [
    "# A[\"Events\"] is for the structure in matlab file\n",
    "\n",
    "A = read_mat('data/2021-06-28-Bortnik.mat')\n",
    "df_a = pd.DataFrame(A['Events'], columns = [\"year\", \"month\", \"day\", \"hour\", \"minute\", \"second\", \"lat\", \"lon\", \"peak-current\", \"j\",  \"k\", \"l\", \"m\"])\n",
    "\n",
    "#select all columns except last four \n",
    "june28 = df_a.loc[:, ~df_a.columns.isin([\"j\",  \"k\", \"l\", \"m\"])]\n",
    "\n",
    "B = read_mat('data/2021-06-29-Bortnik.mat')\n",
    "df_b = pd.DataFrame(B['Events'], columns = [\"year\", \"month\", \"day\", \"hour\", \"minute\", \"second\", \"lat\", \"lon\", \"peak-current\", \"j\",  \"k\", \"l\", \"m\"])\n",
    "june29 = df_b.loc[:, ~df_b.columns.isin([\"j\",  \"k\", \"l\", \"m\"])]\n",
    "\n",
    "C = read_mat('data/2021-06-30-Bortnik.mat')\n",
    "df_c = pd.DataFrame(C['Events'], columns = [\"year\", \"month\", \"day\", \"hour\", \"minute\", \"second\", \"lat\", \"lon\", \"peak-current\", \"j\",  \"k\", \"l\", \"m\"])\n",
    "june30 = df_c.loc[:, ~df_c.columns.isin([\"j\",  \"k\", \"l\", \"m\"])]\n",
    "\n",
    "D = read_mat('data/2021-07-01-Bortnik.mat')\n",
    "df_d = pd.DataFrame(D['Events'], columns = [\"year\", \"month\", \"day\", \"hour\", \"minute\", \"second\", \"lat\", \"lon\", \"peak-current\", \"j\",  \"k\", \"l\", \"m\"])\n",
    "july1 = df_d.loc[:, ~df_d.columns.isin([\"j\",  \"k\", \"l\", \"m\"])]\n",
    "\n",
    "\n",
    "lightning = (june28, june29, june30, july1)"
   ]
  },
  {
   "cell_type": "markdown",
   "id": "542816ae-0c5d-4ebe-80bc-baf4c88ea457",
   "metadata": {},
   "source": [
    "### Use X-array, much prettier"
   ]
  },
  {
   "cell_type": "code",
   "execution_count": null,
   "id": "f2d0e4e5-b04e-4aac-9379-43013c4b4d8f",
   "metadata": {},
   "outputs": [],
   "source": [
    "# try using x_array \n",
    "# The opened file is assigned to goes_tut\n",
    "\n",
    "FILE = ('goes_tutorial.nc')\n",
    "goes_tut = xarray.open_dataset(FILE)\n",
    "goes_tut"
   ]
  },
  {
   "cell_type": "markdown",
   "id": "f0347cff-fd12-40ad-ae3d-3e570a42199f",
   "metadata": {},
   "source": [
    "## NOAA Geostationary Operational Environmental Satellites (GOES) 16 & 17\n",
    "\n",
    "GOES satellites (GOES-16 & GOES-17) provide continuous weather imagery and \n",
    "monitoring of meteorological and space environment data across North America."
   ]
  },
  {
   "cell_type": "code",
   "execution_count": null,
   "id": "45493dbd",
   "metadata": {},
   "outputs": [],
   "source": [
    "FILE = ('data/202118200/OR_ABI-L2-MCMIPC-M6_G17_s20211820016177_e20211820018561_c20211820019039.nc')\n",
    "goes_tut = xarray.open_dataset(FILE)\n",
    "goes_tut\n",
    "\n",
    "path1 = 'data/202118200/'\n",
    "file1 = os.listdir(path1)\n",
    "\n",
    "for f in file1: \n",
    "    print(f)\n",
    "    \n",
    "# use a load command "
   ]
  },
  {
   "cell_type": "markdown",
   "id": "8d3607e2-3674-47ba-a602-301f084f7db1",
   "metadata": {},
   "source": [
    "### Trying date time"
   ]
  },
  {
   "cell_type": "markdown",
   "id": "ea8782be-0e60-4eba-905e-aaf72229d196",
   "metadata": {},
   "source": [
    "time_coverage_start: 2021-06-28T00:01:17.1Z <br>\n",
    "time_coverage_end: 2021-06-28T00:03:54.4Z <br>\n",
    "timeline_id: ABI Mode 6 <br>\n",
    "production_data_source: Realtime\n"
   ]
  },
  {
   "cell_type": "code",
   "execution_count": null,
   "id": "1acc3d49-7763-4553-98e4-275aef04139d",
   "metadata": {},
   "outputs": [],
   "source": [
    "# Scan's start time, converted to datetime object\n",
    "scan_start = datetime.strptime(goes_tut.time_coverage_start, '%Y-%m-%dT%H:%M:%S.%fZ')\n",
    "\n",
    "# Scan's end time, converted to datetime object\n",
    "scan_end = datetime.strptime(goes_tut.time_coverage_end, '%Y-%m-%dT%H:%M:%S.%fZ')\n",
    "\n",
    "# File creation time, convert to datetime object\n",
    "file_created = datetime.strptime(goes_tut.date_created, '%Y-%m-%dT%H:%M:%S.%fZ')\n",
    "\n",
    "print('Scan Start    : {}'.format(scan_start))\n",
    "print('Scan End      : {}'.format(scan_end))\n",
    "print('File Created  : {}'.format(file_created))\n",
    "print('Scan Duration : {:.2f} minutes'.format((scan_end-scan_start).seconds/60))"
   ]
  },
  {
   "cell_type": "markdown",
   "id": "8102ea44-e06a-4eda-8e7a-767cb1c43fcf",
   "metadata": {},
   "source": [
    "## True Color RGB Recipe\n",
    "Color images are a Red-Green-Blue (RGB) composite of three different channels. To make a “Natural True Color” image we assign the following channels as our R, G, and B values:"
   ]
  },
  {
   "cell_type": "code",
   "execution_count": null,
   "id": "1f04e529-cb5c-4d66-840b-1a2377d8d748",
   "metadata": {},
   "outputs": [],
   "source": [
    "# Load the three channels into appropriate R, G, and B variables\n",
    "\n",
    "R = goes_tut['CMI_C02'][:]\n",
    "G = goes_tut['CMI_C03'][:]\n",
    "B = goes_tut['CMI_C01'][:]\n",
    "print(R)"
   ]
  },
  {
   "cell_type": "code",
   "execution_count": null,
   "id": "d63daf72-06fa-44b3-83e0-520ab17141a7",
   "metadata": {},
   "outputs": [],
   "source": [
    "# Apply range limits for each channel. RGB values must be between 0 and 1\n",
    "\n",
    "R = np.clip(R, 0, 1)\n",
    "G = np.clip(G, 0, 1)\n",
    "B = np.clip(B, 0, 1)\n",
    "print(R)"
   ]
  },
  {
   "cell_type": "code",
   "execution_count": null,
   "id": "a52f3655-a013-4c18-8898-58f00024b6e2",
   "metadata": {},
   "outputs": [],
   "source": [
    "# Apply a gamma correction to the image to correct ABI detector brightness\n",
    "# takes everying in each array and raises it to 1/gamma \n",
    "# control image so it isn't too dark \n",
    "\n",
    "gamma = 2.2\n",
    "R = np.power(R, 1/gamma)\n",
    "G = np.power(G, 1/gamma)\n",
    "B = np.power(B, 1/gamma)\n",
    "print(R)"
   ]
  },
  {
   "cell_type": "code",
   "execution_count": null,
   "id": "13538103-d66b-436c-bf71-2cb06127f2b3",
   "metadata": {},
   "outputs": [],
   "source": [
    "# Calculate the \"True\" Green\n",
    "# green \"veggie\" measures near-infared band sensitive to chlorophyll \n",
    "# will tone down green to get a true green \n",
    "\n",
    "G_true = 0.45 * R + 0.1 * G + 0.45 * B\n",
    "G_true = np.clip(G_true, 0, 1)  # apply limits again, just in case."
   ]
  },
  {
   "cell_type": "code",
   "execution_count": null,
   "id": "cb0d83c4-65f4-439f-b80c-2fdd68a1e7c3",
   "metadata": {},
   "outputs": [],
   "source": [
    "# First, plot each channel individually. The deeper the color means the satellite is observing more light in that channel. \n",
    "# Clouds appear white because they reflect lots of red, green, and blue light. \n",
    "# Notice that the land reflects a lot of “green” in the veggie channel because this channel is sensitive to the chlorophyll.\n",
    "\n",
    "fig, ([ax1, ax2, ax3, ax4]) = plt.subplots(1, 4, figsize=(16, 3))\n",
    "\n",
    "ax1.imshow(R, cmap='Reds', vmax=1, vmin=0)\n",
    "ax1.set_title('Red', fontweight='bold')\n",
    "ax1.axis('off')\n",
    "\n",
    "ax2.imshow(G, cmap='Greens', vmax=1, vmin=0)\n",
    "ax2.set_title('Veggie', fontweight='bold')\n",
    "ax2.axis('off')\n",
    "\n",
    "ax3.imshow(G_true, cmap='Greens', vmax=1, vmin=0)\n",
    "ax3.set_title('\"True\" Green', fontweight='bold')\n",
    "ax3.axis('off')\n",
    "\n",
    "ax4.imshow(B, cmap='Blues', vmax=1, vmin=0)\n",
    "ax4.set_title('Blue', fontweight='bold')\n",
    "ax4.axis('off')\n",
    "\n",
    "plt.subplots_adjust(wspace=.02)\n",
    "plt.savefig(\"goes_color_subplots\", dpi = 200)"
   ]
  },
  {
   "cell_type": "markdown",
   "id": "b217407a-0e1e-458d-8c8c-db37baf95bea",
   "metadata": {},
   "source": [
    "The addition of the three channels results in a color image. Combine the three channels with a stacked array and display the image with imshow."
   ]
  },
  {
   "cell_type": "code",
   "execution_count": null,
   "id": "cc3127c5-be32-4502-8ec1-fb6c07c4dc0e",
   "metadata": {},
   "outputs": [],
   "source": [
    "\n",
    "# The RGB array with the raw veggie band\n",
    "RGB_veggie = np.dstack([R, G, B])\n",
    "\n",
    "# The RGB array for the true color image\n",
    "RGB = np.dstack([R, G_true, B])\n",
    "\n",
    "fig, (ax1, ax2) = plt.subplots(1, 2, figsize=(16, 6))\n",
    "\n",
    "# The RGB using the raw veggie band\n",
    "ax1.imshow(RGB_veggie)\n",
    "ax1.set_title('GOES-16 RGB Raw Veggie', fontweight='bold', loc='left',\n",
    "              fontsize=12)\n",
    "ax1.set_title('{}'.format(scan_start.strftime('%d %B %Y %H:%M UTC ')),\n",
    "              loc='right')\n",
    "ax1.axis('off')\n",
    "\n",
    "# The RGB for the true color image\n",
    "ax2.imshow(RGB)\n",
    "ax2.set_title('GOES-16 RGB True Color', fontweight='bold', loc='left',\n",
    "              fontsize=12)\n",
    "ax2.set_title('{}'.format(scan_start.strftime('%d %B %Y %H:%M UTC ')),\n",
    "              loc='right')\n",
    "ax2.axis('off')\n",
    "plt.savefig(\"Rawveggie_truecolor\", dpi = 200)"
   ]
  },
  {
   "cell_type": "markdown",
   "id": "eef80daf-d3d6-4250-8d3b-95df58f16d0e",
   "metadata": {},
   "source": [
    "### Plot with Cartopy Geostationary Projection\n",
    "The image above is not georeferenced. You can see the land and oceans, but we do have enough information to draw state and country boundaries. Use the metpy.io package to obtain the projection information from the file. Then use Cartopy to plot the image on a map. The GOES data and image is on a [geostationary projection ]"
   ]
  },
  {
   "cell_type": "code",
   "execution_count": null,
   "id": "8bfd793e-7f23-40a8-8ca0-8a10f5b1f744",
   "metadata": {},
   "outputs": [],
   "source": [
    "# We'll use the `CMI_C02` variable as a 'hook' to get the CF metadata.\n",
    "dat = goes_tut.metpy.parse_cf('CMI_C01')\n",
    "\n",
    "geos = dat.metpy.cartopy_crs\n",
    "\n",
    "# We also need the x (north/south) and y (east/west) axis sweep of the ABI data\n",
    "x = dat.x\n",
    "y = dat.y"
   ]
  },
  {
   "cell_type": "code",
   "execution_count": null,
   "id": "cd7d0c15-3b52-4257-8d9f-49f2df3cf113",
   "metadata": {},
   "outputs": [],
   "source": [
    "fig = plt.figure(figsize=(15, 12))\n",
    "\n",
    "# Create axis with Geostationary projection\n",
    "ax = fig.add_subplot(1, 1, 1, projection=geos)\n",
    "\n",
    "# Add the RGB image to the figure. The data is in the same projection as the\n",
    "# axis we just created.\n",
    "ax.imshow(RGB, origin='upper',\n",
    "          extent=(x.min(), x.max(), y.min(), y.max()), transform=geos)\n",
    "\n",
    "# Add Coastlines and States\n",
    "ax.coastlines(resolution='50m', color='black', linewidth=0.25)\n",
    "ax.add_feature(ccrs.cartopy.feature.STATES, linewidth=0.25)\n",
    "\n",
    "plt.title('GOES-16 True Color', loc='left', fontweight='bold', fontsize=15)\n",
    "plt.title('{}'.format(scan_start.strftime('%d %B %Y %H:%M UTC ')), loc='right')\n",
    "\n",
    "plt.show()"
   ]
  },
  {
   "cell_type": "markdown",
   "id": "6719ca4c-8695-4a8d-9378-1a8ca3b2303a",
   "metadata": {},
   "source": [
    "### Plot with Cartopy: Plate Carrée Cylindrical Projection"
   ]
  },
  {
   "cell_type": "code",
   "execution_count": null,
   "id": "9cd344dd-7dbd-4a93-9bd1-b60a86a3da6d",
   "metadata": {},
   "outputs": [],
   "source": [
    "fig = plt.figure(figsize=(8, 8))\n",
    "\n",
    "pc = ccrs.PlateCarree()\n",
    "\n",
    "ax = fig.add_subplot(1, 1, 1, projection=pc)\n",
    "ax.set_extent([-114.75, -108.25, 36, 43], crs=pc)\n",
    "\n",
    "ax.imshow(RGB, origin='upper',\n",
    "          extent=(x.min(), x.max(), y.min(), y.max()),\n",
    "          transform=geos,\n",
    "          interpolation='none')\n",
    "\n",
    "ax.coastlines(resolution='50m', color='black', linewidth=1)\n",
    "ax.add_feature(ccrs.cartopy.feature.STATES)\n",
    "\n",
    "plt.title('GOES-16 True Color', loc='left', fontweight='bold', fontsize=15)\n",
    "plt.title('{}'.format(scan_start.strftime('%d %B %Y %H:%M UTC ')), loc='right')\n",
    "\n",
    "plt.show()"
   ]
  },
  {
   "cell_type": "markdown",
   "id": "91d620f6-1b84-4886-94b5-f7289d0d19ad",
   "metadata": {},
   "source": [
    "### Overlay Nighttime IR when dark\n",
    "To view clouds in portions of the domain experiencing nighttime, we will overlay the clean infrared (IR) channel over the true color image.\n",
    "\n",
    "First, open a file where the scan shows partial night area and create the true color RGB as before."
   ]
  },
  {
   "cell_type": "markdown",
   "id": "e60f5cf7",
   "metadata": {},
   "source": [
    "### Lightning overlay with goes "
   ]
  },
  {
   "cell_type": "code",
   "execution_count": null,
   "id": "619ea84b",
   "metadata": {},
   "outputs": [],
   "source": [
    "\n",
    "fig = plt.figure(figsize=(8, 8))\n",
    "\n",
    "pc = ccrs.PlateCarree()\n",
    "\n",
    "ax = fig.add_subplot(1, 1, 1, projection=pc)\n",
    "ax.set_extent([-130, -100, 45, 65], crs=pc)\n",
    "\n",
    "\n",
    "ax.imshow(RGB, origin='upper',\n",
    "          extent=(x.min(), x.max(), y.min(), y.max()),\n",
    "          transform=geos,\n",
    "          interpolation='none')\n",
    "\n",
    "\n",
    "ax.coastlines(resolution='50m', color='black', linewidth=1)\n",
    "ax.add_feature(ccrs.cartopy.feature.STATES)\n",
    "\n",
    "\n",
    "points = (july1.loc[(july1.lon > -130) & (july1.lon < -100) & (july1.lat > 45) & (july1.lat < 65) & (july1[\"peak-current\"] != 0) & (july1.hour == 0)])\n",
    "\n",
    "plt.scatter(x = points[\"lon\"], y = points[\"lat\"], c = points[\"peak-current\"] ** 0.001, cmap=\"OrRd\", s = points[\"peak-current\"] * 0.5, edgecolors=\"none\", marker = 'o', alpha=0.5)\n",
    "\n",
    "\n",
    "plt.title('GOES-17 True Color, lightning 0 UTC July 1', loc='left', fontweight='bold', fontsize=15)\n",
    "plt.title('{}'.format(scan_start.strftime('%d %B %Y %H:%M UTC ')), loc='right')\n",
    "plt.savefig(\"goes17_lightning\", dpi = 200)\n",
    "plt.show()\n",
    "\n",
    "\n"
   ]
  }
 ],
 "metadata": {
  "kernelspec": {
   "display_name": "Python 3 (ipykernel)",
   "language": "python",
   "name": "python3"
  },
  "language_info": {
   "codemirror_mode": {
    "name": "ipython",
    "version": 3
   },
   "file_extension": ".py",
   "mimetype": "text/x-python",
   "name": "python",
   "nbconvert_exporter": "python",
   "pygments_lexer": "ipython3",
   "version": "3.8.13"
  }
 },
 "nbformat": 4,
 "nbformat_minor": 5
}
