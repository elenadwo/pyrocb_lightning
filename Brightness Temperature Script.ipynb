{
 "cells": [
  {
   "cell_type": "code",
   "execution_count": 6,
   "id": "c13b1080",
   "metadata": {},
   "outputs": [
    {
     "name": "stdout",
     "output_type": "stream",
     "text": [
      "#!/usr/bin/bash\n",
      "\n",
      "#aws s3 cp s3://noaa-goes16/<Product>/<Year>/<Day of Year>/<Hour>/<Filename> . --no-sign-request\n",
      "\n",
      "website=\"s3://noaa-goes16/\"\n",
      "product_cod=\"ABI-L2-CODC/\"\n",
      "suffix=\".nc4\"\n",
      "\n",
      "yr=(\"2021\")\n",
      "for year in \"${yr[@]}\" #loop over years\n",
      "do\n",
      "doy=(\"181\" \"182\")\n",
      "echo $doy\n",
      "for day in \"${doy[@]}\" #loop over days\n",
      "do\n",
      "if [ $day == \"181\" ]\n",
      "then\n",
      "hour=(\"20\" \"21\" \"22\" \"23\")\n",
      "\n",
      "else\n",
      "hour=(\"00\" \"01\" \"02\" \"03\" \"04\" \"05\" \"06\")\n",
      "fi\n",
      "#hour=(\"00\")\n",
      "for h in \"${hour[@]}\" #loop over hours\n",
      "do\n",
      "echo $year$day$h\n",
      "mkdir $year$day$h\n",
      "\n",
      "#TODO: Change ABI-L2- bit to ABI-L2-CMIPF for the full disk brightness temperature data\n",
      "aws s3 cp \"s3://noaa-goes17/ABI-L2-MCMIPF/2021/\"$day\"/\"$h $year$day$h --recursive --no-sign-request\n",
      "\n",
      "\n",
      "done\n",
      "done #end day loop\n",
      "done # end year loop\n"
     ]
    }
   ],
   "source": [
    "with open('download_bt_pyrocb') as f:\n",
    "    [print(line.strip()) for line in f.readlines()]"
   ]
  },
  {
   "cell_type": "code",
   "execution_count": 7,
   "id": "6677c2ec",
   "metadata": {},
   "outputs": [
    {
     "ename": "SyntaxError",
     "evalue": "invalid syntax (download_bt_pyrocb, line 10)",
     "output_type": "error",
     "traceback": [
      "Traceback \u001b[0;36m(most recent call last)\u001b[0m:\n",
      "  File \u001b[1;32m~/anaconda3/envs/mynewenv/lib/python3.8/site-packages/IPython/core/interactiveshell.py:3397\u001b[0m in \u001b[1;35mrun_code\u001b[0m\n    exec(code_obj, self.user_global_ns, self.user_ns)\n",
      "  Input \u001b[1;32mIn [7]\u001b[0m in \u001b[1;35m<cell line: 2>\u001b[0m\n    execfile(\"download_bt_pyrocb\", myscope)\n",
      "\u001b[0;36m  File \u001b[0;32m~/anaconda3/envs/mynewenv/lib/python3.8/site-packages/debugpy/_vendored/pydevd/_pydev_bundle/_pydev_execfile.py:25\u001b[0;36m in \u001b[0;35mexecfile\u001b[0;36m\u001b[0m\n\u001b[0;31m    exec(compile(contents + \"\\n\", file, 'exec'), glob, loc)\u001b[0m\n",
      "\u001b[0;36m  File \u001b[0;32mdownload_bt_pyrocb:10\u001b[0;36m\u001b[0m\n\u001b[0;31m    for year in \"${yr[@]}\" #loop over years\u001b[0m\n\u001b[0m                           ^\u001b[0m\n\u001b[0;31mSyntaxError\u001b[0m\u001b[0;31m:\u001b[0m invalid syntax\n"
     ]
    }
   ],
   "source": []
  },
  {
   "cell_type": "code",
   "execution_count": null,
   "id": "75000a58",
   "metadata": {},
   "outputs": [],
   "source": []
  }
 ],
 "metadata": {
  "kernelspec": {
   "display_name": "Python 3 (ipykernel)",
   "language": "python",
   "name": "python3"
  },
  "language_info": {
   "codemirror_mode": {
    "name": "ipython",
    "version": 3
   },
   "file_extension": ".py",
   "mimetype": "text/x-python",
   "name": "python",
   "nbconvert_exporter": "python",
   "pygments_lexer": "ipython3",
   "version": "3.8.13"
  }
 },
 "nbformat": 4,
 "nbformat_minor": 5
}
